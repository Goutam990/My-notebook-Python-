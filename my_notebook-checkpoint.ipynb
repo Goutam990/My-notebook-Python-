{
 "cells": [
  {
   "cell_type": "code",
   "execution_count": 1,
   "id": "97905fe8-2144-4b89-95a1-fffb5b03f2b9",
   "metadata": {},
   "outputs": [
    {
     "name": "stdout",
     "output_type": "stream",
     "text": [
      "HEllO GOUTAM\n"
     ]
    }
   ],
   "source": [
    "print(\"HEllO GOUTAM\")"
   ]
  },
  {
   "cell_type": "code",
   "execution_count": null,
   "id": "ff05dba3-483d-49e6-9be9-2757965ca984",
   "metadata": {},
   "outputs": [],
   "source": []
  },
  {
   "cell_type": "markdown",
   "id": "2d1ad7e2-7f8a-4bbf-b01f-edd528019caf",
   "metadata": {},
   "source": [
    "Just to check ki markdown menu say explanation like Sakthi Code ke niche."
   ]
  },
  {
   "cell_type": "code",
   "execution_count": 1,
   "id": "b3b5a912-4f69-45ea-86dc-22194fe6d1e4",
   "metadata": {},
   "outputs": [
    {
     "data": {
      "text/plain": [
       "95"
      ]
     },
     "execution_count": 1,
     "metadata": {},
     "output_type": "execute_result"
    }
   ],
   "source": [
    "45+50"
   ]
  },
  {
   "cell_type": "code",
   "execution_count": 2,
   "id": "2d07f096-6802-4852-8389-b1c827bd9603",
   "metadata": {},
   "outputs": [
    {
     "name": "stdout",
     "output_type": "stream",
     "text": [
      "11\n"
     ]
    }
   ],
   "source": [
    "x = 5\n",
    "y = 6\n",
    "print(x+y)"
   ]
  },
  {
   "cell_type": "markdown",
   "id": "add6ed8f-6ee3-461b-ac31-fd58b8ec6d4a",
   "metadata": {},
   "source": [
    "123 / 0 "
   ]
  },
  {
   "cell_type": "code",
   "execution_count": null,
   "id": "80704872-ffb9-4407-843c-68a95074350c",
   "metadata": {},
   "outputs": [],
   "source": [
    "a + 7"
   ]
  },
  {
   "cell_type": "code",
   "execution_count": 12,
   "id": "b54b3291-6d26-40b1-91cb-5edb4145e598",
   "metadata": {},
   "outputs": [
    {
     "name": "stdout",
     "output_type": "stream",
     "text": [
      "5\n"
     ]
    }
   ],
   "source": [
    "a = 2\n",
    "b = a + 3\n",
    "print(b)"
   ]
  },
  {
   "cell_type": "code",
   "execution_count": 13,
   "id": "1de15fbe-576d-460c-8f62-732388a1b5bc",
   "metadata": {},
   "outputs": [
    {
     "data": {
      "text/plain": [
       "2"
      ]
     },
     "execution_count": 13,
     "metadata": {},
     "output_type": "execute_result"
    }
   ],
   "source": [
    "17 % 5"
   ]
  },
  {
   "cell_type": "code",
   "execution_count": 14,
   "id": "a32427b7-ef4c-4ca9-b693-247b95b22b02",
   "metadata": {},
   "outputs": [
    {
     "data": {
      "text/plain": [
       "0.5"
      ]
     },
     "execution_count": 14,
     "metadata": {},
     "output_type": "execute_result"
    }
   ],
   "source": [
    "7.5 % 3.5"
   ]
  },
  {
   "cell_type": "code",
   "execution_count": 15,
   "id": "fdee9de9-1808-46a6-bfdd-cde9b69f90e1",
   "metadata": {},
   "outputs": [
    {
     "data": {
      "text/plain": [
       "80"
      ]
     },
     "execution_count": 15,
     "metadata": {},
     "output_type": "execute_result"
    }
   ],
   "source": [
    "10 * (5 + 3)"
   ]
  },
  {
   "cell_type": "code",
   "execution_count": 16,
   "id": "c5e97e5d-19cc-4068-a3a1-f29b818a8148",
   "metadata": {},
   "outputs": [
    {
     "data": {
      "text/plain": [
       "53"
      ]
     },
     "execution_count": 16,
     "metadata": {},
     "output_type": "execute_result"
    }
   ],
   "source": [
    "10 * 5 + 3"
   ]
  },
  {
   "cell_type": "code",
   "execution_count": 17,
   "id": "9893c9d7-3904-4464-aa77-e458738b4941",
   "metadata": {},
   "outputs": [
    {
     "name": "stdout",
     "output_type": "stream",
     "text": [
      "Welcome to python programs world\n"
     ]
    }
   ],
   "source": [
    "print(\"Welcome to python programs world\")"
   ]
  },
  {
   "cell_type": "code",
   "execution_count": 18,
   "id": "4f7932b2-99ea-415b-982a-5b58d11f5434",
   "metadata": {},
   "outputs": [
    {
     "name": "stdout",
     "output_type": "stream",
     "text": [
      "welcome to the world\n"
     ]
    }
   ],
   "source": [
    "print(\"welcome\",\"to\",\"the\",\"world\")"
   ]
  },
  {
   "cell_type": "code",
   "execution_count": 20,
   "id": "1d874ce7-57c8-4e7a-afc8-040abb89ebf6",
   "metadata": {},
   "outputs": [
    {
     "name": "stdout",
     "output_type": "stream",
     "text": [
      "Hello\n",
      "Goutam\n",
      "\n",
      "How are you!\n"
     ]
    }
   ],
   "source": [
    "print(\"Hello\\nGoutam\\n\\nHow are you!\")"
   ]
  },
  {
   "cell_type": "code",
   "execution_count": 22,
   "id": "0dcf6732-e0a5-4e66-93e2-86c70d2a19f2",
   "metadata": {},
   "outputs": [
    {
     "name": "stdout",
     "output_type": "stream",
     "text": [
      "goutam\ttiwari\n"
     ]
    }
   ],
   "source": [
    "print(\"goutam\\ttiwari\")"
   ]
  },
  {
   "cell_type": "raw",
   "id": "173c95f2-3252-450f-a1a4-8d07d4b595f0",
   "metadata": {},
   "source": [
    "print(\"goutam\\\\tiwari)"
   ]
  },
  {
   "cell_type": "code",
   "execution_count": 23,
   "id": "4e4ba333-e419-4d7c-92da-70a07764d984",
   "metadata": {},
   "outputs": [
    {
     "ename": "SyntaxError",
     "evalue": "unterminated string literal (detected at line 1) (1914891171.py, line 1)",
     "output_type": "error",
     "traceback": [
      "\u001b[1;36m  Cell \u001b[1;32mIn[23], line 1\u001b[1;36m\u001b[0m\n\u001b[1;33m    print(\"goutam\\\\tiwari)\u001b[0m\n\u001b[1;37m          ^\u001b[0m\n\u001b[1;31mSyntaxError\u001b[0m\u001b[1;31m:\u001b[0m unterminated string literal (detected at line 1)\n"
     ]
    }
   ],
   "source": [
    "print(\"goutam\\\\tiwari)"
   ]
  },
  {
   "cell_type": "code",
   "execution_count": 24,
   "id": "0be6e462-21e7-4987-be43-2bca98bbc49e",
   "metadata": {},
   "outputs": [
    {
     "name": "stdout",
     "output_type": "stream",
     "text": [
      "goutam\\tiwari\n"
     ]
    }
   ],
   "source": [
    "print(\"goutam\\\\tiwari\")"
   ]
  },
  {
   "cell_type": "code",
   "execution_count": 25,
   "id": "a6439dcf-b340-41da-b5f9-a970392a7018",
   "metadata": {},
   "outputs": [
    {
     "name": "stdout",
     "output_type": "stream",
     "text": [
      "goutam\"tiwari\n"
     ]
    }
   ],
   "source": [
    "print(\"goutam\\\"tiwari\")"
   ]
  },
  {
   "cell_type": "code",
   "execution_count": 26,
   "id": "7cd7b0b5-05f4-4d99-b177-2bebe7866edd",
   "metadata": {},
   "outputs": [
    {
     "name": "stdout",
     "output_type": "stream",
     "text": [
      "goutam'tiwari\n"
     ]
    }
   ],
   "source": [
    "print(\"goutam\\'tiwari\")"
   ]
  },
  {
   "cell_type": "code",
   "execution_count": 29,
   "id": "a853b8e4-93a1-471d-a008-ca88efa99df7",
   "metadata": {},
   "outputs": [
    {
     "name": "stdout",
     "output_type": "stream",
     "text": [
      "Sum is 10\n"
     ]
    }
   ],
   "source": [
    "print(\"Sum is\", 7 + 3)"
   ]
  },
  {
   "cell_type": "code",
   "execution_count": 30,
   "id": "dfce5440-74b4-457a-a178-ae910ed3e308",
   "metadata": {},
   "outputs": [
    {
     "ename": "SyntaxError",
     "evalue": "invalid syntax. Perhaps you forgot a comma? (2989885234.py, line 1)",
     "output_type": "error",
     "traceback": [
      "\u001b[1;36m  Cell \u001b[1;32mIn[30], line 1\u001b[1;36m\u001b[0m\n\u001b[1;33m    print('goutam 'hy' how are you')\u001b[0m\n\u001b[1;37m          ^\u001b[0m\n\u001b[1;31mSyntaxError\u001b[0m\u001b[1;31m:\u001b[0m invalid syntax. Perhaps you forgot a comma?\n"
     ]
    }
   ],
   "source": [
    "print('goutam 'hy' how are you')"
   ]
  },
  {
   "cell_type": "code",
   "execution_count": 31,
   "id": "8781118b-7258-4221-9bf8-cfa96c24674a",
   "metadata": {},
   "outputs": [
    {
     "ename": "SyntaxError",
     "evalue": "unterminated string literal (detected at line 1) (2018041622.py, line 1)",
     "output_type": "error",
     "traceback": [
      "\u001b[1;36m  Cell \u001b[1;32mIn[31], line 1\u001b[1;36m\u001b[0m\n\u001b[1;33m    print('goutam \"hy\" how are you\")\u001b[0m\n\u001b[1;37m          ^\u001b[0m\n\u001b[1;31mSyntaxError\u001b[0m\u001b[1;31m:\u001b[0m unterminated string literal (detected at line 1)\n"
     ]
    }
   ],
   "source": [
    "print('goutam \"hy\" how are you\")"
   ]
  },
  {
   "cell_type": "code",
   "execution_count": 32,
   "id": "cb801404-cdf2-4141-9e9b-cc8a304d463a",
   "metadata": {},
   "outputs": [
    {
     "name": "stdout",
     "output_type": "stream",
     "text": [
      "goutam \"hy\" how are you\n"
     ]
    }
   ],
   "source": [
    "print('goutam \"hy\" how are you')"
   ]
  },
  {
   "cell_type": "code",
   "execution_count": 33,
   "id": "d31db38e-45c3-40db-978b-5863f5f3166d",
   "metadata": {},
   "outputs": [
    {
     "name": "stdout",
     "output_type": "stream",
     "text": [
      "goutam 'hy' how are you\n"
     ]
    }
   ],
   "source": [
    "print('goutam \\'hy\\' how are you')"
   ]
  },
  {
   "cell_type": "code",
   "execution_count": 34,
   "id": "ec71d07c-852d-45b8-b0be-83413e7e01a4",
   "metadata": {},
   "outputs": [
    {
     "name": "stdout",
     "output_type": "stream",
     "text": [
      "goutam \"\\hy\"\\ how are you\n"
     ]
    },
    {
     "name": "stderr",
     "output_type": "stream",
     "text": [
      "<>:1: SyntaxWarning: invalid escape sequence '\\h'\n",
      "<>:1: SyntaxWarning: invalid escape sequence '\\h'\n",
      "C:\\Users\\Goutam Tiwari\\AppData\\Local\\Temp\\ipykernel_7732\\2283948558.py:1: SyntaxWarning: invalid escape sequence '\\h'\n",
      "  print('goutam \"\\hy\"\\ how are you')\n"
     ]
    }
   ],
   "source": [
    "print('goutam \"\\hy\"\\ how are you')"
   ]
  },
  {
   "cell_type": "code",
   "execution_count": 35,
   "id": "b2de5151-1dcf-462d-a152-ff2201366a39",
   "metadata": {},
   "outputs": [
    {
     "name": "stdout",
     "output_type": "stream",
     "text": [
      "goutam \"hy\" how are you\n"
     ]
    }
   ],
   "source": [
    "print('goutam \\\"hy\\\" how are you')"
   ]
  },
  {
   "cell_type": "code",
   "execution_count": 37,
   "id": "4c8212fd-9769-4b4e-885c-56402f398987",
   "metadata": {},
   "outputs": [
    {
     "name": "stdout",
     "output_type": "stream",
     "text": [
      "goutam \"hy\" and 'bye' in quotes.\n"
     ]
    }
   ],
   "source": [
    "print(\"\"\"goutam \"hy\" and 'bye' in quotes.\"\"\")"
   ]
  },
  {
   "cell_type": "markdown",
   "id": "0f74e8a7-5072-4fd0-83d7-567e4f9ff10f",
   "metadata": {},
   "source": []
  },
  {
   "cell_type": "code",
   "execution_count": 38,
   "id": "9831baa7-9dbf-48b0-a8ee-0613b9ed96d6",
   "metadata": {},
   "outputs": [
    {
     "name": "stdin",
     "output_type": "stream",
     "text": [
      "Enter name goutam\n"
     ]
    },
    {
     "name": "stdout",
     "output_type": "stream",
     "text": [
      "goutam\n"
     ]
    }
   ],
   "source": [
    "name = input(\"Enter name\")\n",
    "print(name)"
   ]
  },
  {
   "cell_type": "code",
   "execution_count": 39,
   "id": "6c8d3430-0ba1-46ea-abb0-7b4f647cbd15",
   "metadata": {},
   "outputs": [
    {
     "data": {
      "text/plain": [
       "'goutam'"
      ]
     },
     "execution_count": 39,
     "metadata": {},
     "output_type": "execute_result"
    }
   ],
   "source": [
    "name"
   ]
  },
  {
   "cell_type": "code",
   "execution_count": 40,
   "id": "ce259998-431c-4da7-910c-64b9509e2a37",
   "metadata": {},
   "outputs": [
    {
     "name": "stdout",
     "output_type": "stream",
     "text": [
      "goutam\n"
     ]
    }
   ],
   "source": [
    "print(name)"
   ]
  },
  {
   "cell_type": "code",
   "execution_count": 42,
   "id": "b5526120-125a-4a14-b8b8-51841d99b266",
   "metadata": {},
   "outputs": [
    {
     "name": "stdin",
     "output_type": "stream",
     "text": [
      "Enter first value 7\n",
      "Enter second value 3\n"
     ]
    },
    {
     "name": "stdout",
     "output_type": "stream",
     "text": [
      "73\n"
     ]
    }
   ],
   "source": [
    "value1 = input(\"Enter first value\")\n",
    "value2 = input(\"Enter second value\")\n",
    "print(value1 + value2)"
   ]
  },
  {
   "cell_type": "code",
   "execution_count": 43,
   "id": "4211af57-3503-4bd2-88f9-b881f98841fd",
   "metadata": {},
   "outputs": [
    {
     "name": "stdout",
     "output_type": "stream",
     "text": [
      "10\n"
     ]
    }
   ],
   "source": [
    "value1 = int(value1)\n",
    "value2 = int(value2)\n",
    "print(value1 + value2)"
   ]
  },
  {
   "cell_type": "code",
   "execution_count": 46,
   "id": "57189633-dea2-439a-bdcb-ddf0dccb075b",
   "metadata": {},
   "outputs": [
    {
     "name": "stdin",
     "output_type": "stream",
     "text": [
      "Enter an interger hello\n"
     ]
    },
    {
     "ename": "ValueError",
     "evalue": "invalid literal for int() with base 10: 'hello'",
     "output_type": "error",
     "traceback": [
      "\u001b[1;31m---------------------------------------------------------------------------\u001b[0m",
      "\u001b[1;31mValueError\u001b[0m                                Traceback (most recent call last)",
      "Cell \u001b[1;32mIn[46], line 1\u001b[0m\n\u001b[1;32m----> 1\u001b[0m a \u001b[38;5;241m=\u001b[39m \u001b[38;5;28;43mint\u001b[39;49m\u001b[43m(\u001b[49m\u001b[38;5;28;43minput\u001b[39;49m\u001b[43m(\u001b[49m\u001b[38;5;124;43m\"\u001b[39;49m\u001b[38;5;124;43mEnter an interger\u001b[39;49m\u001b[38;5;124;43m\"\u001b[39;49m\u001b[43m)\u001b[49m\u001b[43m)\u001b[49m\n",
      "\u001b[1;31mValueError\u001b[0m: invalid literal for int() with base 10: 'hello'"
     ]
    }
   ],
   "source": [
    "a = int(input(\"Enter an interger\"))"
   ]
  },
  {
   "cell_type": "code",
   "execution_count": 47,
   "id": "71bb7762-a2dd-4ce6-9093-106aaaa4bc24",
   "metadata": {},
   "outputs": [
    {
     "data": {
      "text/plain": [
       "10"
      ]
     },
     "execution_count": 47,
     "metadata": {},
     "output_type": "execute_result"
    }
   ],
   "source": [
    "int(10.77777)"
   ]
  },
  {
   "cell_type": "code",
   "execution_count": 48,
   "id": "cbc8f2a1-83d2-4a2b-a5cc-ffc4c0d08a0f",
   "metadata": {},
   "outputs": [
    {
     "data": {
      "text/plain": [
       "True"
      ]
     },
     "execution_count": 48,
     "metadata": {},
     "output_type": "execute_result"
    }
   ],
   "source": [
    "7 > 4"
   ]
  },
  {
   "cell_type": "code",
   "execution_count": 49,
   "id": "0e3a18d6-e8a1-4e6e-8888-7a388993cb09",
   "metadata": {},
   "outputs": [
    {
     "data": {
      "text/plain": [
       "False"
      ]
     },
     "execution_count": 49,
     "metadata": {},
     "output_type": "execute_result"
    }
   ],
   "source": [
    "4 > 7"
   ]
  },
  {
   "cell_type": "code",
   "execution_count": 50,
   "id": "a2bdfd72-8e9f-418d-9ade-8777eaeae36f",
   "metadata": {},
   "outputs": [
    {
     "data": {
      "text/plain": [
       "True"
      ]
     },
     "execution_count": 50,
     "metadata": {},
     "output_type": "execute_result"
    }
   ],
   "source": [
    "4 >= 4"
   ]
  },
  {
   "cell_type": "code",
   "execution_count": 51,
   "id": "33053862-f2a6-454d-9148-ebbf2b477dbc",
   "metadata": {},
   "outputs": [
    {
     "data": {
      "text/plain": [
       "True"
      ]
     },
     "execution_count": 51,
     "metadata": {},
     "output_type": "execute_result"
    }
   ],
   "source": [
    "4 <= 4"
   ]
  },
  {
   "cell_type": "code",
   "execution_count": 52,
   "id": "430a0eeb-4c9b-4024-86b2-5151ec21c612",
   "metadata": {},
   "outputs": [
    {
     "data": {
      "text/plain": [
       "True"
      ]
     },
     "execution_count": 52,
     "metadata": {},
     "output_type": "execute_result"
    }
   ],
   "source": [
    "4 != 0"
   ]
  },
  {
   "cell_type": "code",
   "execution_count": 53,
   "id": "c1e27094-a8b0-459d-a7b6-7f7ebbad4b50",
   "metadata": {},
   "outputs": [
    {
     "ename": "SyntaxError",
     "evalue": "invalid syntax (754972771.py, line 1)",
     "output_type": "error",
     "traceback": [
      "\u001b[1;36m  Cell \u001b[1;32mIn[53], line 1\u001b[1;36m\u001b[0m\n\u001b[1;33m    4 ! = 0\u001b[0m\n\u001b[1;37m      ^\u001b[0m\n\u001b[1;31mSyntaxError\u001b[0m\u001b[1;31m:\u001b[0m invalid syntax\n"
     ]
    }
   ],
   "source": [
    "4 ! = 0"
   ]
  },
  {
   "cell_type": "code",
   "execution_count": 55,
   "id": "48f8e52d-d2ae-4979-96bd-20ba6bde1b7f",
   "metadata": {},
   "outputs": [
    {
     "name": "stdin",
     "output_type": "stream",
     "text": [
      "Enter interger:-  37\n",
      "Enter interger:-  40\n"
     ]
    },
    {
     "name": "stdout",
     "output_type": "stream",
     "text": [
      "37 is not equal to 40\n",
      "37 is less than 40\n",
      "37 is less than or equal to 40\n"
     ]
    }
   ],
   "source": [
    "a = int(input(\"Enter interger:- \"))\n",
    "b = int(input(\"Enter interger:- \"))\n",
    "if a == b:\n",
    "    print(a,\"is equal to\",b)\n",
    "if a != b:\n",
    "    print(a,\"is not equal to\",b)\n",
    "if a < b:\n",
    "    print(a,\"is less than\",b)\n",
    "if a > b:\n",
    "    print(a,\"is greater than\",b)\n",
    "if a <= b:\n",
    "    print(a,\"is less than or equal to\",b)\n",
    "if a >= b:\n",
    "    print(a,\"is greater then or equal to\",b)\n"
   ]
  },
  {
   "cell_type": "code",
   "execution_count": 58,
   "id": "055f8551-246e-4fa2-8018-2df7fadf14da",
   "metadata": {},
   "outputs": [
    {
     "name": "stdin",
     "output_type": "stream",
     "text": [
      "Enter first number:- 1\n",
      "Enter second number:- 2\n",
      "Enter Thrid number:-  3\n"
     ]
    },
    {
     "name": "stdout",
     "output_type": "stream",
     "text": [
      "mininum number out of given three numbers is :-  1\n"
     ]
    }
   ],
   "source": [
    "n1 = int(input(\"Enter first number:-\"))\n",
    "n2 = int(input(\"Enter second number:-\"))\n",
    "n3 = int(input(\"Enter Thrid number:- \"))\n",
    "\n",
    "minimum = n1\n",
    "\n",
    "if n2 < minimum:\n",
    "    minimum = n2\n",
    "if n3 < minimum:\n",
    "    minimum = n3\n",
    "\n",
    "print(\"mininum number out of given three numbers is :- \",minimum)"
   ]
  },
  {
   "cell_type": "code",
   "execution_count": null,
   "id": "6cd6385e-697c-4f99-94ee-7d9be4adbd9b",
   "metadata": {},
   "outputs": [],
   "source": []
  },
  {
   "cell_type": "code",
   "execution_count": 60,
   "id": "ed7ab2e6-480f-427f-bee7-0b2d5b3e2efb",
   "metadata": {},
   "outputs": [
    {
     "data": {
      "text/plain": [
       "3"
      ]
     },
     "execution_count": 60,
     "metadata": {},
     "output_type": "execute_result"
    }
   ],
   "source": [
    "max(1,2,3)"
   ]
  },
  {
   "cell_type": "code",
   "execution_count": 59,
   "id": "e60d515b-536b-4e60-8d74-cd73bd22b740",
   "metadata": {},
   "outputs": [
    {
     "data": {
      "text/plain": [
       "1"
      ]
     },
     "execution_count": 59,
     "metadata": {},
     "output_type": "execute_result"
    }
   ],
   "source": [
    "min(1,2,3)"
   ]
  },
  {
   "cell_type": "code",
   "execution_count": 61,
   "id": "cd49d34d-2c05-43f0-8b0f-453e07f461ba",
   "metadata": {},
   "outputs": [
    {
     "name": "stdout",
     "output_type": "stream",
     "text": [
      "failed\n"
     ]
    }
   ],
   "source": [
    "Grade = 50\n",
    "if Grade >= 60:\n",
    "    print(\"Passed\")\n",
    "else:\n",
    "    print(\"failed\")"
   ]
  },
  {
   "cell_type": "code",
   "execution_count": 62,
   "id": "66ffc4e0-9fee-4af3-a923-a4a94dd1f120",
   "metadata": {},
   "outputs": [
    {
     "name": "stdout",
     "output_type": "stream",
     "text": [
      "failed\n"
     ]
    }
   ],
   "source": [
    "Grade = 30\n",
    "if Grade >= 60:\n",
    "    result = \"passed\"\n",
    "else:\n",
    "    result = \"failed\"\n",
    "print(result)"
   ]
  },
  {
   "cell_type": "code",
   "execution_count": 63,
   "id": "08d661f8-b95e-4614-a044-f3fa6d283df0",
   "metadata": {},
   "outputs": [
    {
     "name": "stdout",
     "output_type": "stream",
     "text": [
      "passed\n"
     ]
    }
   ],
   "source": [
    "Grade = 60\n",
    "result = (\"passed\" if Grade >= 60 else \"failed\")\n",
    "print(result)"
   ]
  },
  {
   "cell_type": "code",
   "execution_count": 64,
   "id": "b266ba3b-c838-40cf-802e-37cba47a3eba",
   "metadata": {},
   "outputs": [
    {
     "data": {
      "text/plain": [
       "'passed'"
      ]
     },
     "execution_count": 64,
     "metadata": {},
     "output_type": "execute_result"
    }
   ],
   "source": [
    "\"passed\" if Grade >= 60 else \"failed\""
   ]
  },
  {
   "cell_type": "code",
   "execution_count": 65,
   "id": "7173328b-0ec1-4948-b2f6-232b4489f185",
   "metadata": {},
   "outputs": [
    {
     "name": "stdout",
     "output_type": "stream",
     "text": [
      "C\n"
     ]
    }
   ],
   "source": [
    "grade = 77\n",
    "\n",
    "if grade >= 90:\n",
    "    print(\"A\")\n",
    "elif grade >= 80:\n",
    "    print(\"B\")\n",
    "elif grade >= 70:\n",
    "    print(\"C\")\n",
    "elif grade >= 60:\n",
    "    print(\"D\")\n",
    "else:\n",
    "    print(\"F\")"
   ]
  },
  {
   "cell_type": "code",
   "execution_count": 68,
   "id": "98f06b37-6217-482e-a52d-2d0f0357b6c1",
   "metadata": {},
   "outputs": [
    {
     "name": "stdout",
     "output_type": "stream",
     "text": [
      "P  r  o  g  r  a  m  m  i  n  g  "
     ]
    }
   ],
   "source": [
    "for character in \"Programming\":\n",
    "    print(character, end='  ')"
   ]
  },
  {
   "cell_type": "code",
   "execution_count": 69,
   "id": "e88ea0b9-8fc4-4803-812a-490b20559c81",
   "metadata": {},
   "outputs": [
    {
     "name": "stdout",
     "output_type": "stream",
     "text": [
      "P  r  o  g  r  a  m  m  i  n  g  "
     ]
    }
   ],
   "source": [
    "for char in \"Programming\":\n",
    "    print(char, end='  ')"
   ]
  },
  {
   "cell_type": "raw",
   "id": "c1816574-3e23-4b96-8f91-8650bbe24a66",
   "metadata": {},
   "source": []
  },
  {
   "cell_type": "code",
   "execution_count": 72,
   "id": "b3e8605b-5c4c-437b-8a59-349afc3a907c",
   "metadata": {},
   "outputs": [
    {
     "name": "stdout",
     "output_type": "stream",
     "text": [
      "10, 20, 30\n"
     ]
    }
   ],
   "source": [
    "print(10,20,30,sep=\", \")"
   ]
  },
  {
   "cell_type": "code",
   "execution_count": 73,
   "id": "d6afc27f-9467-4fab-b4fd-7d20481f8c47",
   "metadata": {},
   "outputs": [
    {
     "name": "stdout",
     "output_type": "stream",
     "text": [
      "4\n"
     ]
    }
   ],
   "source": [
    "total = 0\n",
    "for iterator in [1,-2,3,4]:\n",
    "    total = total + iterator\n",
    "print(iterator)"
   ]
  },
  {
   "cell_type": "code",
   "execution_count": 74,
   "id": "78d365ba-e259-457c-835e-a570bbe25377",
   "metadata": {},
   "outputs": [
    {
     "name": "stdout",
     "output_type": "stream",
     "text": [
      "0, 1, 2, 3, 4, 5, 6, 7, 8, 9, "
     ]
    }
   ],
   "source": [
    "for counter in range(10):\n",
    "    print(counter,end=\", \")"
   ]
  },
  {
   "cell_type": "code",
   "execution_count": 76,
   "id": "f15ca9ee-a0ce-4adf-9fbf-8fce4fda6522",
   "metadata": {},
   "outputs": [
    {
     "name": "stdout",
     "output_type": "stream",
     "text": [
      "0, 1, 2, 3, 4, "
     ]
    }
   ],
   "source": [
    "for counter in range(5):\n",
    "    print(counter,end=\", \")"
   ]
  },
  {
   "cell_type": "code",
   "execution_count": 77,
   "id": "d1fa7266-c591-4371-a20a-8911ebc5f54b",
   "metadata": {},
   "outputs": [
    {
     "name": "stdout",
     "output_type": "stream",
     "text": [
      "10\n"
     ]
    }
   ],
   "source": [
    "total = 0\n",
    "for number in [1,2,3,4]:\n",
    "    total += number\n",
    "print(total)"
   ]
  },
  {
   "cell_type": "code",
   "execution_count": 83,
   "id": "a0a74a93-ca15-43ca-a585-3159b0414246",
   "metadata": {},
   "outputs": [
    {
     "name": "stdout",
     "output_type": "stream",
     "text": [
      "Class average is 81.7\n"
     ]
    }
   ],
   "source": [
    "# Sequence controlled iteration - formatted strings \n",
    "total = 0\n",
    "grade_counter = 0\n",
    "grades = [98,76,71,87,83,90,57,79,82,94]\n",
    "\n",
    "for grade in grades:\n",
    "    total += grade\n",
    "    grade_counter += 1\n",
    "\n",
    "# average = total / grade_counter\n",
    "print(f'Class average is {total / grade_counter}')"
   ]
  },
  {
   "cell_type": "code",
   "execution_count": 90,
   "id": "de689ace-77c7-4c15-842b-1fe62b0bc315",
   "metadata": {},
   "outputs": [
    {
     "name": "stdin",
     "output_type": "stream",
     "text": [
      "Enter grades , -1 to end:  89\n"
     ]
    },
    {
     "name": "stdout",
     "output_type": "stream",
     "text": [
      "No grades were entered\n"
     ]
    }
   ],
   "source": [
    "total = 0\n",
    "counter = 0\n",
    "\n",
    "grades = int(input('Enter grades , -1 to end: '))\n",
    "while grade != -1:\n",
    "    total += grade\n",
    "    counter += 1\n",
    "    grades = int(input('Enter grades , -1 to end: '))\n",
    "\n",
    "if counter != 0:\n",
    "    average = total / counter\n",
    "    print(f\"Average is {average:.2f}\")\n",
    "else:\n",
    "    print(\"No grades were entered\")"
   ]
  },
  {
   "cell_type": "code",
   "execution_count": 94,
   "id": "702ed858-1ffb-4941-aa90-15cc647f8aba",
   "metadata": {},
   "outputs": [
    {
     "name": "stdout",
     "output_type": "stream",
     "text": [
      "0 1 2 3 4 5 6 7 8 9 "
     ]
    }
   ],
   "source": [
    "for i in range(0,10):\n",
    "    print(i,end=\" \")"
   ]
  },
  {
   "cell_type": "code",
   "execution_count": 95,
   "id": "bd63e0d3-143f-4cf4-bc3e-c816b6451e8c",
   "metadata": {},
   "outputs": [
    {
     "name": "stdout",
     "output_type": "stream",
     "text": [
      "0 2 4 6 8 "
     ]
    }
   ],
   "source": [
    "for i in range(0,10,2):\n",
    "    print(i,end=\" \")"
   ]
  },
  {
   "cell_type": "code",
   "execution_count": 96,
   "id": "07ceff51-d459-404f-831e-bb2f5e18b403",
   "metadata": {},
   "outputs": [
    {
     "name": "stdout",
     "output_type": "stream",
     "text": [
      "10 8 6 4 2 "
     ]
    }
   ],
   "source": [
    "for i in range(10,0,-2):\n",
    "    print(i,end=\" \")"
   ]
  },
  {
   "cell_type": "code",
   "execution_count": 100,
   "id": "154f5cc6-cbc9-464d-a22f-f590dba9e15d",
   "metadata": {},
   "outputs": [
    {
     "name": "stdout",
     "output_type": "stream",
     "text": [
      "0 1 2 3 4 5 6 7 8 9 "
     ]
    }
   ],
   "source": [
    "for i in range(0,100):\n",
    "    if i == 10:\n",
    "        break\n",
    "    print(i,end=\" \")"
   ]
  },
  {
   "cell_type": "code",
   "execution_count": 1,
   "id": "95e2b534-142b-4b4c-8b4e-ff07557eb4c2",
   "metadata": {},
   "outputs": [
    {
     "name": "stdout",
     "output_type": "stream",
     "text": [
      "0 1 2 3 4 5 6 7 8 9 11 "
     ]
    }
   ],
   "source": [
    "for i in range(12):\n",
    "    if i == 10:\n",
    "        continue\n",
    "    print(i,end=\" \")"
   ]
  },
  {
   "cell_type": "code",
   "execution_count": 104,
   "id": "24601cdf-49cc-4e7d-90f8-ed111bc97565",
   "metadata": {},
   "outputs": [
    {
     "name": "stdout",
     "output_type": "stream",
     "text": [
      "Senior female\n"
     ]
    }
   ],
   "source": [
    "gender = 'female'\n",
    "age = 70\n",
    "\n",
    "if gender == 'female' and age >= 65:\n",
    "    print(\"Senior female\")\n",
    "    "
   ]
  },
  {
   "cell_type": "code",
   "execution_count": 105,
   "id": "42106182-0f77-4e48-9c49-6a80840a5061",
   "metadata": {},
   "outputs": [
    {
     "name": "stdout",
     "output_type": "stream",
     "text": [
      "A Grade\n"
     ]
    }
   ],
   "source": [
    "semester_avg = 83\n",
    "final_exam = 95\n",
    "if semester_avg >= 90 or final_exam >= 90:\n",
    "    print('A Grade')"
   ]
  },
  {
   "cell_type": "code",
   "execution_count": 107,
   "id": "6c351e1a-795a-480e-a466-1e99dc6f1a8d",
   "metadata": {},
   "outputs": [
    {
     "name": "stdout",
     "output_type": "stream",
     "text": [
      "79.4\n"
     ]
    }
   ],
   "source": [
    "\n",
    "grade = [85,93,45,89,85]\n",
    "result = sum(grade) / len(grade)\n",
    "print(result)"
   ]
  },
  {
   "cell_type": "code",
   "execution_count": 115,
   "id": "5f94e5b0-0f1b-4c5d-b1e7-50b6aeadfe4b",
   "metadata": {},
   "outputs": [
    {
     "data": {
      "text/plain": [
       "79.4"
      ]
     },
     "execution_count": 115,
     "metadata": {},
     "output_type": "execute_result"
    }
   ],
   "source": [
    "import statistics\n",
    "statistics.mean(grade)\n"
   ]
  },
  {
   "cell_type": "code",
   "execution_count": 117,
   "id": "bd6c613a-a029-4c7c-bec4-b2c34fec4b52",
   "metadata": {},
   "outputs": [
    {
     "data": {
      "text/plain": [
       "85"
      ]
     },
     "execution_count": 117,
     "metadata": {},
     "output_type": "execute_result"
    }
   ],
   "source": [
    "statistics.median(grade)"
   ]
  },
  {
   "cell_type": "code",
   "execution_count": 118,
   "id": "3397967b-78d4-46a0-8b2f-7e4b1a36c6a4",
   "metadata": {},
   "outputs": [
    {
     "data": {
      "text/plain": [
       "85"
      ]
     },
     "execution_count": 118,
     "metadata": {},
     "output_type": "execute_result"
    }
   ],
   "source": [
    "\n",
    "statistics.mode(grade)"
   ]
  },
  {
   "cell_type": "code",
   "execution_count": 119,
   "id": "64e636cc-de96-4eaf-b5a1-89dbd662031f",
   "metadata": {},
   "outputs": [
    {
     "data": {
      "text/plain": [
       "[45, 85, 85, 89, 93]"
      ]
     },
     "execution_count": 119,
     "metadata": {},
     "output_type": "execute_result"
    }
   ],
   "source": [
    "sorted(grade)"
   ]
  },
  {
   "cell_type": "code",
   "execution_count": 120,
   "id": "b6910d7b-9ec6-4af7-92b1-46bd370878fb",
   "metadata": {},
   "outputs": [
    {
     "data": {
      "text/plain": [
       "49"
      ]
     },
     "execution_count": 120,
     "metadata": {},
     "output_type": "execute_result"
    }
   ],
   "source": [
    "def square(number):\n",
    "    return number ** 2\n",
    "square(7)"
   ]
  },
  {
   "cell_type": "code",
   "execution_count": 121,
   "id": "5f870c27-cd70-4e1b-80fa-20c7c27edd66",
   "metadata": {},
   "outputs": [
    {
     "data": {
      "text/plain": [
       "\u001b[1;31mSignature:\u001b[0m \u001b[0msquare\u001b[0m\u001b[1;33m(\u001b[0m\u001b[0mnumber\u001b[0m\u001b[1;33m)\u001b[0m\u001b[1;33m\u001b[0m\u001b[1;33m\u001b[0m\u001b[0m\n",
       "\u001b[1;31mDocstring:\u001b[0m <no docstring>\n",
       "\u001b[1;31mFile:\u001b[0m      c:\\users\\goutam tiwari\\appdata\\local\\temp\\ipykernel_7732\\1382631848.py\n",
       "\u001b[1;31mType:\u001b[0m      function"
      ]
     },
     "metadata": {},
     "output_type": "display_data"
    }
   ],
   "source": [
    "square?\n"
   ]
  },
  {
   "cell_type": "code",
   "execution_count": 122,
   "id": "e2964121-259b-4ece-a194-173fe87c4d8d",
   "metadata": {},
   "outputs": [
    {
     "data": {
      "text/plain": [
       "\u001b[1;31mSignature:\u001b[0m \u001b[0msquare\u001b[0m\u001b[1;33m(\u001b[0m\u001b[0mnumber\u001b[0m\u001b[1;33m)\u001b[0m\u001b[1;33m\u001b[0m\u001b[1;33m\u001b[0m\u001b[0m\n",
       "\u001b[1;31mDocstring:\u001b[0m <no docstring>\n",
       "\u001b[1;31mSource:\u001b[0m   \n",
       "\u001b[1;32mdef\u001b[0m \u001b[0msquare\u001b[0m\u001b[1;33m(\u001b[0m\u001b[0mnumber\u001b[0m\u001b[1;33m)\u001b[0m\u001b[1;33m:\u001b[0m\u001b[1;33m\n",
       "\u001b[0m    \u001b[1;32mreturn\u001b[0m \u001b[0mnumber\u001b[0m \u001b[1;33m**\u001b[0m \u001b[1;36m2\u001b[0m\u001b[1;33m\u001b[0m\u001b[1;33m\u001b[0m\u001b[0m\n",
       "\u001b[1;31mFile:\u001b[0m      c:\\users\\goutam tiwari\\appdata\\local\\temp\\ipykernel_7732\\1382631848.py\n",
       "\u001b[1;31mType:\u001b[0m      function"
      ]
     },
     "metadata": {},
     "output_type": "display_data"
    }
   ],
   "source": [
    "square??\n"
   ]
  },
  {
   "cell_type": "code",
   "execution_count": 123,
   "id": "c5f6e09a-eea0-4c4c-b7ac-b3d83e0b5e14",
   "metadata": {},
   "outputs": [
    {
     "data": {
      "text/plain": [
       "\u001b[1;31mDocstring:\u001b[0m\n",
       "min(iterable, *[, default=obj, key=func]) -> value\n",
       "min(arg1, arg2, *args, *[, key=func]) -> value\n",
       "\n",
       "With a single iterable argument, return its smallest item. The\n",
       "default keyword-only argument specifies an object to return if\n",
       "the provided iterable is empty.\n",
       "With two or more arguments, return the smallest argument.\n",
       "\u001b[1;31mType:\u001b[0m      builtin_function_or_method"
      ]
     },
     "metadata": {},
     "output_type": "display_data"
    }
   ],
   "source": [
    "min??"
   ]
  },
  {
   "cell_type": "code",
   "execution_count": 124,
   "id": "fdfd74dc-a6c9-4866-b4ee-3024e31011ad",
   "metadata": {},
   "outputs": [],
   "source": [
    "def maximum(v1,v2,v3):\n",
    "    max_value = v1\n",
    "    if v2 > max_value:\n",
    "        max_value = v2\n",
    "    if v3 > max_value:\n",
    "        max_value = v3\n",
    "    return max_value"
   ]
  },
  {
   "cell_type": "code",
   "execution_count": 125,
   "id": "983b19f9-4c57-40bf-91e1-f871bdcd1bc8",
   "metadata": {},
   "outputs": [
    {
     "data": {
      "text/plain": [
       "4"
      ]
     },
     "execution_count": 125,
     "metadata": {},
     "output_type": "execute_result"
    }
   ],
   "source": [
    "maximum(2,3,4)"
   ]
  },
  {
   "cell_type": "code",
   "execution_count": 126,
   "id": "001c8de9-5e12-4d86-a7e5-e480b49f7325",
   "metadata": {},
   "outputs": [
    {
     "data": {
      "text/plain": [
       "'yellow'"
      ]
     },
     "execution_count": 126,
     "metadata": {},
     "output_type": "execute_result"
    }
   ],
   "source": [
    "maximum('yellow','red','orange')"
   ]
  },
  {
   "cell_type": "code",
   "execution_count": 127,
   "id": "d63435ae-e9bb-49b1-8976-655977f57702",
   "metadata": {},
   "outputs": [
    {
     "name": "stdout",
     "output_type": "stream",
     "text": [
      "2 3 1 2 4 4 5 5 4 2 "
     ]
    }
   ],
   "source": [
    "import random \n",
    "for roll in range(10):\n",
    "    print(random.randrange(1,7), end=\" \")"
   ]
  },
  {
   "cell_type": "code",
   "execution_count": 13,
   "id": "595eaee6-5760-4118-96f7-aba594999794",
   "metadata": {},
   "outputs": [
    {
     "name": "stdout",
     "output_type": "stream",
     "text": [
      "Face    Frequency\n",
      "   1       999525\n",
      "   2       999443\n",
      "   3      1000965\n",
      "   4       999694\n",
      "   5       999541\n",
      "   6      1000832\n"
     ]
    }
   ],
   "source": [
    "#Roll a six-sided die 6,000,000 times\n",
    "\n",
    "import random\n",
    "\n",
    "#face frequency counters\n",
    "frequency1 = 0\n",
    "frequency2 = 0\n",
    "frequency3 = 0\n",
    "frequency4 = 0\n",
    "frequency5 = 0\n",
    "frequency6 = 0\n",
    "\n",
    "#6,000,000 die rolls\n",
    "for roll in range(6_000_000): #note underscore separators \n",
    "    face = random.randrange(1,7)\n",
    "    #increment appropriate face counter\n",
    "    if face == 1:\n",
    "        frequency1 += 1\n",
    "    elif face == 2:\n",
    "        frequency2 += 1\n",
    "    elif face == 3:\n",
    "        frequency3 += 1\n",
    "    elif face == 4:\n",
    "        frequency4 += 1\n",
    "    elif face == 5:\n",
    "        frequency5 += 1\n",
    "    elif face == 6:\n",
    "        frequency6 += 1\n",
    "        \n",
    "print(f'Face{\"Frequency\":>13}')\n",
    "print(f'{1:>4}{frequency1:>13}')\n",
    "print(f'{2:>4}{frequency2:>13}')\n",
    "print(f'{3:>4}{frequency3:>13}')\n",
    "print(f'{4:>4}{frequency4:>13}')\n",
    "print(f'{5:>4}{frequency5:>13}')\n",
    "print(f'{6:>4}{frequency6:>13}')\n",
    "    "
   ]
  },
  {
   "cell_type": "code",
   "execution_count": 18,
   "id": "e2c8839e-1ff6-4434-be51-77e1d50113ca",
   "metadata": {},
   "outputs": [
    {
     "name": "stdout",
     "output_type": "stream",
     "text": [
      "Player rolled 4 + 1 = 5\n",
      "point is 5\n",
      "Player rolled 2 + 5 = 7\n",
      "Player loses\n"
     ]
    }
   ],
   "source": [
    "#case study:A Game of change\n",
    "import random\n",
    "\n",
    "def roll_dice():\n",
    "    die1 = random.randrange(1,7)\n",
    "    die2 = random.randrange(1,7)\n",
    "    return (die1,die2) #pack die face values into tuple\n",
    "\n",
    "def display_dice(dice):\n",
    "    die1, die2 = dice #unpack the tuple into variables die1 and die2\n",
    "    print(f'Player rolled {die1} + {die2} = {sum(dice)}')\n",
    "\n",
    "die_values = roll_dice() #first roll\n",
    "display_dice(die_values)\n",
    "\n",
    "#determine game status and point, based on first roll\n",
    "sum_of_dice = sum(die_values)\n",
    "\n",
    "if sum_of_dice in (7,11): #win\n",
    "    game_status = 'WON'\n",
    "elif sum_of_dice in (2,3,12): #lose\n",
    "    game_status = 'LOST'\n",
    "else: #remember point\n",
    "    game_status = 'CONTINUE'\n",
    "    my_point = sum_of_dice\n",
    "    print('point is', my_point)\n",
    "\n",
    "#continue rolling until player wins or loses\n",
    "while game_status == 'CONTINUE':\n",
    "    die_values = roll_dice()\n",
    "    display_dice(die_values)\n",
    "    sum_of_dice = sum(die_values)\n",
    "\n",
    "    if sum_of_dice == my_point: #win by making point\n",
    "        game_status = 'WON'\n",
    "    elif sum_of_dice == 7: # lose by rolling 7\n",
    "        game_status = 'LOST'\n",
    "\n",
    "#display \"wins\" or \"losses\" message\n",
    "if game_status == 'WON':\n",
    "    print('Player wins')\n",
    "else:\n",
    "    print('Player loses')"
   ]
  },
  {
   "attachments": {},
   "cell_type": "markdown",
   "id": "3ce9a25b-799a-4a5d-b081-1d30003da670",
   "metadata": {},
   "source": []
  },
  {
   "cell_type": "code",
   "execution_count": 20,
   "id": "fe6b3d3c-3a73-4e83-be00-033b2d7f3629",
   "metadata": {},
   "outputs": [
    {
     "data": {
      "text/plain": [
       "30.0"
      ]
     },
     "execution_count": 20,
     "metadata": {},
     "output_type": "execute_result"
    }
   ],
   "source": [
    "#math module function\n",
    "import math\n",
    "math.sqrt(900)\n"
   ]
  },
  {
   "cell_type": "code",
   "execution_count": 38,
   "id": "e896bedc-4640-4a1e-bd9d-aad4e4323d25",
   "metadata": {},
   "outputs": [
    {
     "name": "stdout",
     "output_type": "stream",
     "text": [
      "10\n",
      "9\n",
      "0.22288991410024764\n",
      "-0.9748436214041636\n",
      "-0.22864171155902654\n",
      "9897.129058743909\n",
      "2.2192034840549946\n",
      "0.9637878273455552\n",
      "5578466.012364797\n",
      "3.03315017762062\n",
      "9.2\n",
      "9.2\n",
      "2.1999999999999993\n"
     ]
    }
   ],
   "source": [
    "#some math module fuctions:-\n",
    "import math\n",
    "x = 9.2\n",
    "y = 7.0\n",
    "print(math.ceil(x)) \n",
    "print(math.floor(x))\n",
    "print(math.sin(x))\n",
    "print(math.cos(x))\n",
    "print(math.tan(x))\n",
    "print(math.exp(x))\n",
    "print(math.log(x))\n",
    "print(math.log10(x))\n",
    "print(math.pow(x,y))\n",
    "print(math.sqrt(x))\n",
    "print(math.fabs(x))\n",
    "print(abs(x))\n",
    "print(math.fmod(x,y))"
   ]
  },
  {
   "cell_type": "code",
   "execution_count": 39,
   "id": "152c3db4-e17a-4a32-b6dc-a1a4b645feb8",
   "metadata": {},
   "outputs": [
    {
     "ename": "SyntaxError",
     "evalue": "invalid syntax (16768088.py, line 1)",
     "output_type": "error",
     "traceback": [
      "\u001b[1;36m  Cell \u001b[1;32mIn[39], line 1\u001b[1;36m\u001b[0m\n\u001b[1;33m    ma<Tab>\u001b[0m\n\u001b[1;37m           ^\u001b[0m\n\u001b[1;31mSyntaxError\u001b[0m\u001b[1;31m:\u001b[0m invalid syntax\n"
     ]
    }
   ],
   "source": [
    "ma<Tab>"
   ]
  },
  {
   "cell_type": "code",
   "execution_count": 44,
   "id": "05d53133-6346-43c8-b28b-7d184297b432",
   "metadata": {},
   "outputs": [
    {
     "name": "stdout",
     "output_type": "stream",
     "text": [
      "6\n"
     ]
    }
   ],
   "source": [
    "def rectangle_area(length=2, width=3):\n",
    "    return length * width\n",
    "print(rectangle_area())"
   ]
  },
  {
   "cell_type": "code",
   "execution_count": 46,
   "id": "4975bc8c-87bb-4c59-9326-22c75cb859f3",
   "metadata": {},
   "outputs": [
    {
     "data": {
      "text/plain": [
       "30"
      ]
     },
     "execution_count": 46,
     "metadata": {},
     "output_type": "execute_result"
    }
   ],
   "source": [
    "rectangle_area(10,3)"
   ]
  },
  {
   "cell_type": "code",
   "execution_count": 1,
   "id": "a75ce010-b9ba-4706-a272-088498a3a435",
   "metadata": {},
   "outputs": [
    {
     "data": {
      "text/plain": [
       "'hello'"
      ]
     },
     "execution_count": 1,
     "metadata": {},
     "output_type": "execute_result"
    }
   ],
   "source": [
    "# Methods\n",
    "s = 'hello'\n",
    "s.lower()"
   ]
  },
  {
   "cell_type": "code",
   "execution_count": 2,
   "id": "05b1864f-2fb3-4f67-96d0-87b35ad0b9eb",
   "metadata": {},
   "outputs": [
    {
     "data": {
      "text/plain": [
       "'HELLO'"
      ]
     },
     "execution_count": 2,
     "metadata": {},
     "output_type": "execute_result"
    }
   ],
   "source": [
    "s.upper()"
   ]
  },
  {
   "cell_type": "code",
   "execution_count": 12,
   "id": "379aec09-c259-410b-b6f6-ef602e191614",
   "metadata": {},
   "outputs": [
    {
     "name": "stdout",
     "output_type": "stream",
     "text": [
      "Assising global varible-- after modifying x :-  3\n",
      "7\n"
     ]
    }
   ],
   "source": [
    " x = 7\n",
    "def access_global():\n",
    "    x = 3\n",
    "    print('Assising global varible-- after modifying x :- ',x)\n",
    "access_global()\n",
    "print(x)"
   ]
  },
  {
   "cell_type": "code",
   "execution_count": 14,
   "id": "82bccf14-f5e5-4eec-872a-bea4fade7925",
   "metadata": {},
   "outputs": [
    {
     "data": {
      "text/plain": [
       "11"
      ]
     },
     "execution_count": 14,
     "metadata": {},
     "output_type": "execute_result"
    }
   ],
   "source": [
    "# import --deeper look\n",
    "from math import ceil,floor\n",
    "ceil(10.3)\n",
    "#floor(10.7)"
   ]
  },
  {
   "cell_type": "code",
   "execution_count": 15,
   "id": "3b9f5dec-b99c-4dd0-ab72-911c103df763",
   "metadata": {},
   "outputs": [
    {
     "data": {
      "text/plain": [
       "140711935207896"
      ]
     },
     "execution_count": 15,
     "metadata": {},
     "output_type": "execute_result"
    }
   ],
   "source": [
    "x = 2\n",
    "id(x)"
   ]
  },
  {
   "cell_type": "code",
   "execution_count": 17,
   "id": "56ac2ab3-c72e-4edf-9c3a-ed8da6edbabe",
   "metadata": {},
   "outputs": [
    {
     "name": "stdout",
     "output_type": "stream",
     "text": [
      "id(7) is :-  140711935208056\n"
     ]
    },
    {
     "data": {
      "text/plain": [
       "343"
      ]
     },
     "execution_count": 17,
     "metadata": {},
     "output_type": "execute_result"
    }
   ],
   "source": [
    "x = 7\n",
    "def cube(x):\n",
    "    print(\"id(7) is :- \",id(x))\n",
    "    return x ** 3\n",
    "cube(x)"
   ]
  },
  {
   "cell_type": "code",
   "execution_count": 22,
   "id": "5bb8f9c2-e118-4576-ae93-a6c55d96f8e3",
   "metadata": {},
   "outputs": [
    {
     "name": "stdout",
     "output_type": "stream",
     "text": [
      "120\n"
     ]
    }
   ],
   "source": [
    "#factorial of a number --recursion\n",
    "factorial = 1\n",
    "for number in range(5,0,-1):\n",
    "    factorial *= number\n",
    "print(factorial)"
   ]
  },
  {
   "cell_type": "code",
   "execution_count": 23,
   "id": "a67bae55-e331-4bf9-b421-e061c38e4f9f",
   "metadata": {},
   "outputs": [
    {
     "data": {
      "text/plain": [
       "120"
      ]
     },
     "execution_count": 23,
     "metadata": {},
     "output_type": "execute_result"
    }
   ],
   "source": [
    "factorial"
   ]
  },
  {
   "cell_type": "code",
   "execution_count": 24,
   "id": "dd9c105b-672a-44b6-821a-e83634586158",
   "metadata": {},
   "outputs": [
    {
     "name": "stdout",
     "output_type": "stream",
     "text": [
      "0! = 1\n",
      "1! = 1\n",
      "2! = 2\n",
      "3! = 6\n",
      "4! = 24\n",
      "5! = 120\n",
      "6! = 720\n",
      "7! = 5040\n",
      "8! = 40320\n",
      "9! = 362880\n",
      "10! = 3628800\n"
     ]
    }
   ],
   "source": [
    "#implementing using recuresion\n",
    "def factorial(number):\n",
    "    if number <= 1:\n",
    "        return 1\n",
    "    return number * factorial(number - 1) #recursive call\n",
    "\n",
    "for i in range(11):\n",
    "    print(f'{i}! = {factorial(i)}')"
   ]
  },
  {
   "cell_type": "code",
   "execution_count": 25,
   "id": "fec4bdd7-f787-496a-966a-b003364a56be",
   "metadata": {},
   "outputs": [
    {
     "data": {
      "text/plain": [
       "120"
      ]
     },
     "execution_count": 25,
     "metadata": {},
     "output_type": "execute_result"
    }
   ],
   "source": [
    "def factorial(number):\n",
    "    if number <= 1:\n",
    "        return 1\n",
    "    return number * factorial(number - 1)\n",
    "factorial(5)"
   ]
  },
  {
   "cell_type": "code",
   "execution_count": 26,
   "id": "82a68760-115a-4914-bea1-825f5501c623",
   "metadata": {},
   "outputs": [
    {
     "data": {
      "text/plain": [
       "<function __main__.factorial(number)>"
      ]
     },
     "execution_count": 26,
     "metadata": {},
     "output_type": "execute_result"
    }
   ],
   "source": [
    "factorial"
   ]
  },
  {
   "cell_type": "code",
   "execution_count": 32,
   "id": "d3224419-47e7-4936-9d3c-bd347767343e",
   "metadata": {},
   "outputs": [
    {
     "name": "stdout",
     "output_type": "stream",
     "text": [
      "[-45, 98, 80, 50, 9]\n"
     ]
    }
   ],
   "source": [
    "#list \n",
    "c = [-45,98,80,50,9]\n",
    "print(c)l"
   ]
  },
  {
   "cell_type": "code",
   "execution_count": 34,
   "id": "3813ebe7-9efe-4c16-b631-6e95c0ea67dd",
   "metadata": {},
   "outputs": [
    {
     "name": "stdout",
     "output_type": "stream",
     "text": [
      "['goutam', 'tiwari', '22', 'Male']\n"
     ]
    }
   ],
   "source": [
    "details = ['goutam','tiwari','22','Male']\n",
    "print(details)"
   ]
  },
  {
   "cell_type": "code",
   "execution_count": 35,
   "id": "07ada61c-4dbc-4d1c-87d6-ad1f3b2ae773",
   "metadata": {},
   "outputs": [
    {
     "data": {
      "text/plain": [
       "['goutam', 'tiwari', '22', 'Male']"
      ]
     },
     "execution_count": 35,
     "metadata": {},
     "output_type": "execute_result"
    }
   ],
   "source": [
    "details"
   ]
  },
  {
   "cell_type": "code",
   "execution_count": 36,
   "id": "3f0e27e3-e5a0-4ab9-b757-00fd3e87747b",
   "metadata": {},
   "outputs": [
    {
     "data": {
      "text/plain": [
       "'goutam'"
      ]
     },
     "execution_count": 36,
     "metadata": {},
     "output_type": "execute_result"
    }
   ],
   "source": [
    "details[0]"
   ]
  },
  {
   "cell_type": "code",
   "execution_count": 37,
   "id": "6c4c6332-d46c-45b6-8439-1062ec5314a8",
   "metadata": {},
   "outputs": [
    {
     "data": {
      "text/plain": [
       "'Male'"
      ]
     },
     "execution_count": 37,
     "metadata": {},
     "output_type": "execute_result"
    }
   ],
   "source": [
    "details[-1]"
   ]
  },
  {
   "cell_type": "code",
   "execution_count": 38,
   "id": "6ea02b59-a893-4ecf-991d-4359dc7cf7e0",
   "metadata": {},
   "outputs": [
    {
     "data": {
      "text/plain": [
       "50"
      ]
     },
     "execution_count": 38,
     "metadata": {},
     "output_type": "execute_result"
    }
   ],
   "source": [
    "a = 1\n",
    "b= 2\n",
    "c [a + b]"
   ]
  },
  {
   "cell_type": "code",
   "execution_count": 39,
   "id": "6dcc567f-f5ad-4b05-b0db-8b6f1053f014",
   "metadata": {},
   "outputs": [
    {
     "data": {
      "text/plain": [
       "50"
      ]
     },
     "execution_count": 39,
     "metadata": {},
     "output_type": "execute_result"
    }
   ],
   "source": [
    "c[a+b]"
   ]
  },
  {
   "cell_type": "code",
   "execution_count": 40,
   "id": "34837e00-56d5-45c5-8151-e7645c84de29",
   "metadata": {},
   "outputs": [
    {
     "ename": "TypeError",
     "evalue": "'str' object does not support item assignment",
     "output_type": "error",
     "traceback": [
      "\u001b[1;31m---------------------------------------------------------------------------\u001b[0m",
      "\u001b[1;31mTypeError\u001b[0m                                 Traceback (most recent call last)",
      "Cell \u001b[1;32mIn[40], line 2\u001b[0m\n\u001b[0;32m      1\u001b[0m s \u001b[38;5;241m=\u001b[39m \u001b[38;5;124m'\u001b[39m\u001b[38;5;124mhello\u001b[39m\u001b[38;5;124m'\u001b[39m\n\u001b[1;32m----> 2\u001b[0m \u001b[43ms\u001b[49m\u001b[43m[\u001b[49m\u001b[38;5;241;43m0\u001b[39;49m\u001b[43m]\u001b[49m \u001b[38;5;241m=\u001b[39m \u001b[38;5;124m'\u001b[39m\u001b[38;5;124mH\u001b[39m\u001b[38;5;124m'\u001b[39m\n\u001b[0;32m      3\u001b[0m \u001b[38;5;28mprint\u001b[39m(s)\n",
      "\u001b[1;31mTypeError\u001b[0m: 'str' object does not support item assignment"
     ]
    }
   ],
   "source": [
    "s = 'hello'\n",
    "s[0] = 'H'\n",
    "print(s)"
   ]
  },
  {
   "cell_type": "code",
   "execution_count": 41,
   "id": "aa775261-e452-49af-8d75-db962d620410",
   "metadata": {},
   "outputs": [
    {
     "ename": "IndexError",
     "evalue": "list index out of range",
     "output_type": "error",
     "traceback": [
      "\u001b[1;31m---------------------------------------------------------------------------\u001b[0m",
      "\u001b[1;31mIndexError\u001b[0m                                Traceback (most recent call last)",
      "Cell \u001b[1;32mIn[41], line 1\u001b[0m\n\u001b[1;32m----> 1\u001b[0m \u001b[43mdetails\u001b[49m\u001b[43m[\u001b[49m\u001b[38;5;241;43m9\u001b[39;49m\u001b[43m]\u001b[49m\n",
      "\u001b[1;31mIndexError\u001b[0m: list index out of range"
     ]
    }
   ],
   "source": [
    "details[9]"
   ]
  },
  {
   "cell_type": "code",
   "execution_count": 48,
   "id": "8a042984-0807-490e-b02c-1ab2b5271195",
   "metadata": {},
   "outputs": [
    {
     "name": "stdout",
     "output_type": "stream",
     "text": [
      "[1, 2, 3, 4, 5]\n"
     ]
    }
   ],
   "source": [
    "# Appending to a list with +=....right side of += should be iterable.\n",
    "list = []\n",
    "for number in range(1, 6):\n",
    "    list += [number]\n",
    "print(list)"
   ]
  },
  {
   "cell_type": "code",
   "execution_count": 52,
   "id": "d2f8db2b-a68d-478d-97f4-f73e94e11b6d",
   "metadata": {},
   "outputs": [
    {
     "name": "stdout",
     "output_type": "stream",
     "text": [
      "['P', 'y', 't', 'h', 'o', 'n']\n"
     ]
    }
   ],
   "source": [
    "# \n",
    "letter = []\n",
    "letter += 'Python'\n",
    "print(letter)"
   ]
  },
  {
   "cell_type": "code",
   "execution_count": 54,
   "id": "b9a5267e-5680-49fd-8506-8a56687a517d",
   "metadata": {},
   "outputs": [
    {
     "name": "stdout",
     "output_type": "stream",
     "text": [
      "[1, 2, 3, 5, 6, 7]\n"
     ]
    }
   ],
   "source": [
    "# concatenation list with +=\n",
    "l = [1,2,3]\n",
    "m = [5,6,7]\n",
    "concatenated_list = l + m\n",
    "print(concatenated_list)"
   ]
  },
  {
   "cell_type": "code",
   "execution_count": 55,
   "id": "75fe8b34-3dde-4884-a20e-425ba0d7fdbb",
   "metadata": {},
   "outputs": [
    {
     "data": {
      "text/plain": [
       "[1, 2, 3, 5, 6, 7]"
      ]
     },
     "execution_count": 55,
     "metadata": {},
     "output_type": "execute_result"
    }
   ],
   "source": [
    "concatenated_list"
   ]
  },
  {
   "cell_type": "code",
   "execution_count": 57,
   "id": "c7a186c9-c4bd-4556-9061-757528ab4359",
   "metadata": {},
   "outputs": [
    {
     "name": "stdout",
     "output_type": "stream",
     "text": [
      "0: 1\n",
      "1: 2\n",
      "2: 3\n",
      "3: 5\n",
      "4: 6\n",
      "5: 7\n"
     ]
    }
   ],
   "source": [
    "# Using for and range to access list indices and values. \n",
    "for i in range(len(concatenated_list)):\n",
    "    print(f'{i}: {concatenated_list[i]}')"
   ]
  },
  {
   "cell_type": "code",
   "execution_count": 58,
   "id": "41da0571-fc06-417c-9e50-e494baa942d9",
   "metadata": {},
   "outputs": [
    {
     "data": {
      "text/plain": [
       "True"
      ]
     },
     "execution_count": 58,
     "metadata": {},
     "output_type": "execute_result"
    }
   ],
   "source": [
    "#comparision operator\n",
    "# You can compare entire list elements by elements using comparison operators\n",
    "a = [1,2,3]\n",
    "b = [1,2,3]\n",
    "c = [1,2,3,4]\n",
    "\n",
    "a == b"
   ]
  },
  {
   "cell_type": "code",
   "execution_count": 59,
   "id": "67feee41-e753-445e-9d3a-49187288bdd8",
   "metadata": {},
   "outputs": [
    {
     "data": {
      "text/plain": [
       "False"
      ]
     },
     "execution_count": 59,
     "metadata": {},
     "output_type": "execute_result"
    }
   ],
   "source": [
    "a == c"
   ]
  },
  {
   "cell_type": "code",
   "execution_count": 60,
   "id": "0e290dc7-4bd6-4c26-9679-d54812971812",
   "metadata": {},
   "outputs": [
    {
     "data": {
      "text/plain": [
       "True"
      ]
     },
     "execution_count": 60,
     "metadata": {},
     "output_type": "execute_result"
    }
   ],
   "source": [
    "a < c"
   ]
  },
  {
   "cell_type": "code",
   "execution_count": 61,
   "id": "9eabff43-a4a2-443a-bd53-6525865c91fa",
   "metadata": {},
   "outputs": [
    {
     "data": {
      "text/plain": [
       "True"
      ]
     },
     "execution_count": 61,
     "metadata": {},
     "output_type": "execute_result"
    }
   ],
   "source": [
    "c >= b"
   ]
  },
  {
   "cell_type": "code",
   "execution_count": 64,
   "id": "7aa9ac60-85b1-4c65-9e42-c7a5cb28e1ec",
   "metadata": {},
   "outputs": [
    {
     "name": "stdout",
     "output_type": "stream",
     "text": [
      "0\n",
      "('goutam', 'tiwari', '22', 'Engineering')\n"
     ]
    },
    {
     "data": {
      "text/plain": [
       "4"
      ]
     },
     "execution_count": 64,
     "metadata": {},
     "output_type": "execute_result"
    }
   ],
   "source": [
    "# Tuples are immutable and typically store heterogeneous data, but data can be homogeneous. \n",
    "# tuple's length in its number of elements and cannot change during programe execution.\n",
    "\n",
    "# Creating Tuple\n",
    "student_tuple = ()\n",
    "print(len(student_tuple))\n",
    "\n",
    "# Recall that you can pack a tuple by separating its values with commas.\n",
    "student_tuple2 = 'goutam', 'tiwari', '22', 'Engineering'\n",
    "print(student_tuple2)\n",
    "\n",
    "len(student_tuple2)\n",
    "\n"
   ]
  },
  {
   "cell_type": "code",
   "execution_count": 65,
   "id": "6dfd44bf-b572-41e3-adc0-520fd4cd9dee",
   "metadata": {},
   "outputs": [
    {
     "data": {
      "text/plain": [
       "33361"
      ]
     },
     "execution_count": 65,
     "metadata": {},
     "output_type": "execute_result"
    }
   ],
   "source": [
    "# Accessing tuple elements\n",
    "time_tuple = (9,16,1)\n",
    "\n",
    "time_tuple[0] * 3600 + time_tuple[1] * 60 + time_tuple[2]\n",
    "\n"
   ]
  },
  {
   "cell_type": "code",
   "execution_count": 66,
   "id": "6c8ecfcc-7ce7-4c00-bd33-c98e518c3a1b",
   "metadata": {},
   "outputs": [
    {
     "name": "stdout",
     "output_type": "stream",
     "text": [
      "(10, 20, 30, 40, 50)\n"
     ]
    }
   ],
   "source": [
    "tuple_01 = (10,20,30)\n",
    "tuple_01 += (40,50)\n",
    "print(tuple_01)"
   ]
  },
  {
   "cell_type": "code",
   "execution_count": 67,
   "id": "dc57aa30-a7b5-4bc3-84e7-4939cc07a74f",
   "metadata": {},
   "outputs": [
    {
     "data": {
      "text/plain": [
       "(10, 20, 30, 40, 50)"
      ]
     },
     "execution_count": 67,
     "metadata": {},
     "output_type": "execute_result"
    }
   ],
   "source": [
    "tuple_01"
   ]
  },
  {
   "cell_type": "code",
   "execution_count": 71,
   "id": "b92c62a0-b801-4a40-a34d-74cd7c1af6ab",
   "metadata": {},
   "outputs": [
    {
     "name": "stdout",
     "output_type": "stream",
     "text": [
      "(10, 20, 30, 40, 50, 60, 70)\n",
      "(10, 20, 30, 40, 50, 60, 70, 60, 70)\n",
      "(10, 20, 30, 40, 50, 60, 70)\n"
     ]
    }
   ],
   "source": [
    "tuple_02 = tuple_01\n",
    "print(tuple_02)\n",
    "tuple_01 += (60,70)\n",
    "print(tuple_01)\n",
    "print(tuple_02) # Tuple2  still refers to the original tuple."
   ]
  },
  {
   "cell_type": "code",
   "execution_count": 73,
   "id": "b64bc7f2-1581-4b65-ba89-cded90fe560e",
   "metadata": {},
   "outputs": [
    {
     "data": {
      "text/plain": [
       "[1, 2, 3, 4, 5, 6, 7]"
      ]
     },
     "execution_count": 73,
     "metadata": {},
     "output_type": "execute_result"
    }
   ],
   "source": [
    "# Appending Tuples to lists\n",
    "numbers = [1,2,3,4,5] #list\n",
    "numbers += (6,7)      #appending tuple(6,7) into list \n",
    "numbers"
   ]
  },
  {
   "cell_type": "code",
   "execution_count": 77,
   "id": "97583f33-e167-475c-b283-26da9ff53e7e",
   "metadata": {},
   "outputs": [
    {
     "name": "stdout",
     "output_type": "stream",
     "text": [
      "('Goutam', 'Tiwari', [90, 95, 91])\n"
     ]
    }
   ],
   "source": [
    "# Tuples may contain mutable objects\n",
    "student_dairy = ('Goutam','Tiwari',[90,85,91])\n",
    "student_dairy[2][1] = 95\n",
    "print(student_dairy)"
   ]
  },
  {
   "cell_type": "code",
   "execution_count": 81,
   "id": "bb7dd0ff-5d87-4da3-bb5f-a2b7d55957aa",
   "metadata": {},
   "outputs": [
    {
     "name": "stdout",
     "output_type": "stream",
     "text": [
      "('goutam\\ntiwari', 'hello')\n"
     ]
    },
    {
     "data": {
      "text/plain": [
       "tuple"
      ]
     },
     "execution_count": 81,
     "metadata": {},
     "output_type": "execute_result"
    }
   ],
   "source": [
    "dies = 'goutam\\ntiwari','hello'\n",
    "print(dies)\n",
    "type(dies)"
   ]
  },
  {
   "cell_type": "code",
   "execution_count": 90,
   "id": "0736dc68-c00f-4356-860e-3e5521189957",
   "metadata": {},
   "outputs": [
    {
     "data": {
      "text/plain": [
       "'Goutam'"
      ]
     },
     "execution_count": 90,
     "metadata": {},
     "output_type": "execute_result"
    }
   ],
   "source": [
    "#unpacking sequences\n",
    "stu_tuple = ('Goutam',[98,97,99])\n",
    "first_name, grades = stu_tuple\n",
    "first_name"
   ]
  },
  {
   "cell_type": "code",
   "execution_count": 91,
   "id": "7919a826-b4cd-4ce3-9c83-c15d8817a5de",
   "metadata": {},
   "outputs": [
    {
     "data": {
      "text/plain": [
       "[98, 97, 99]"
      ]
     },
     "execution_count": 91,
     "metadata": {},
     "output_type": "execute_result"
    }
   ],
   "source": [
    "grades"
   ]
  },
  {
   "cell_type": "code",
   "execution_count": 97,
   "id": "b23b869e-da3a-4a9b-9dda-e27477a171dc",
   "metadata": {},
   "outputs": [
    {
     "name": "stdout",
     "output_type": "stream",
     "text": [
      "h\n",
      "i\n"
     ]
    }
   ],
   "source": [
    "# We can also unpack string,list and a sequence \n",
    "s = 'hi'\n",
    "first,second = s\n",
    "print(first)\n",
    "print(second)"
   ]
  },
  {
   "cell_type": "code",
   "execution_count": 100,
   "id": "7092156c-22bc-43f6-99be-cd9f41264402",
   "metadata": {},
   "outputs": [
    {
     "name": "stdout",
     "output_type": "stream",
     "text": [
      "h\ti\n"
     ]
    }
   ],
   "source": [
    "print(f'{first}\\t{second}')"
   ]
  },
  {
   "cell_type": "code",
   "execution_count": 101,
   "id": "fa4a756f-751c-43e0-a667-62a7aa03cc9a",
   "metadata": {},
   "outputs": [
    {
     "name": "stdout",
     "output_type": "stream",
     "text": [
      "2 3 5\n"
     ]
    }
   ],
   "source": [
    "n1, n2, n3 = [2,3,5]\n",
    "print(f'{n1} {n2} {n3}')"
   ]
  },
  {
   "cell_type": "code",
   "execution_count": 103,
   "id": "c93b8b44-0e1e-4cef-86a8-89d993efd95c",
   "metadata": {},
   "outputs": [
    {
     "name": "stdout",
     "output_type": "stream",
     "text": [
      "10\t20\t30\n"
     ]
    }
   ],
   "source": [
    "n1, n2, n3 = range(10,40,10)\n",
    "print(f'{n1}\\t{n2}\\t{n3}')"
   ]
  },
  {
   "cell_type": "code",
   "execution_count": 106,
   "id": "db93528c-92ac-41d4-bd95-75bff0258889",
   "metadata": {},
   "outputs": [
    {
     "name": "stdout",
     "output_type": "stream",
     "text": [
      "number1 = 22; number2 = 99\n"
     ]
    }
   ],
   "source": [
    "# Swapping value using packing and unpacking\n",
    "number1 = 99\n",
    "number2 = 22\n",
    "number1, number2 = (number2,number1)\n",
    "print(f'number1 = {n1}; number2 = {number2}')"
   ]
  },
  {
   "cell_type": "code",
   "execution_count": 122,
   "id": "577e8e38-5dfa-4b74-ac88-a4fc5ec92a15",
   "metadata": {},
   "outputs": [
    {
     "name": "stdout",
     "output_type": "stream",
     "text": [
      "0: red\n",
      "1: yellow\n",
      "2: orange\n"
     ]
    }
   ],
   "source": [
    "# Accessing indices and values safely with build-in function enumerate\n",
    "colours = ['red', 'yellow', 'orange']\n",
    "for index, value in enumerate(colours):\n",
    "    print(f'{index}: {value}')\n"
   ]
  },
  {
   "cell_type": "code",
   "execution_count": 2,
   "id": "0c3252c8-cc8c-47ac-b406-d867e34d6844",
   "metadata": {},
   "outputs": [
    {
     "name": "stdout",
     "output_type": "stream",
     "text": [
      "\n",
      "Creating a bar chart form numbers:\n",
      "Index   Value Bar\n",
      "    0      19 *******************\n",
      "    1       3 ***\n",
      "    2      15 ***************\n",
      "    3       7 *******\n",
      "    4      11 ***********\n"
     ]
    }
   ],
   "source": [
    "numbers = [19,3,15,7,11]\n",
    "\n",
    "print('\\nCreating a bar chart form numbers:')\n",
    "print(f'Index{\"Value\":>8} Bar')\n",
    "\n",
    "for index, value in enumerate(numbers):\n",
    "    print(f'{index:>5}{value:>8} {\"*\" * value}')"
   ]
  },
  {
   "cell_type": "code",
   "execution_count": 1,
   "id": "86bf93c9-6cce-410c-9cc5-35a9881b3997",
   "metadata": {},
   "outputs": [
    {
     "data": {
      "text/plain": [
       "3"
      ]
     },
     "execution_count": 1,
     "metadata": {},
     "output_type": "execute_result"
    }
   ],
   "source": [
    "2 + 1"
   ]
  },
  {
   "cell_type": "code",
   "execution_count": 2,
   "id": "1cbacc99-789e-442d-a1c0-3f2d1c6ffdd1",
   "metadata": {},
   "outputs": [
    {
     "data": {
      "text/plain": [
       "[3, 4]"
      ]
     },
     "execution_count": 2,
     "metadata": {},
     "output_type": "execute_result"
    }
   ],
   "source": [
    "numbers = [1,2,3,4,5,6,7,9]\n",
    "numbers[2:4]"
   ]
  },
  {
   "cell_type": "code",
   "execution_count": 3,
   "id": "e4699dac-5552-417e-8909-d99aff45e396",
   "metadata": {},
   "outputs": [
    {
     "data": {
      "text/plain": [
       "[1, 2, 3, 4, 5, 6, 7, 9]"
      ]
     },
     "execution_count": 3,
     "metadata": {},
     "output_type": "execute_result"
    }
   ],
   "source": [
    "numbers[:8]"
   ]
  },
  {
   "cell_type": "code",
   "execution_count": 5,
   "id": "37277235-8aed-466e-ade2-9d95e00a9692",
   "metadata": {},
   "outputs": [
    {
     "data": {
      "text/plain": [
       "[1, 2, 3, 4, 5, 6, 7]"
      ]
     },
     "execution_count": 5,
     "metadata": {},
     "output_type": "execute_result"
    }
   ],
   "source": [
    "numbers[0:7]"
   ]
  },
  {
   "cell_type": "code",
   "execution_count": 6,
   "id": "c3f4f75a-ea92-42dc-ad9e-13394e373593",
   "metadata": {},
   "outputs": [
    {
     "data": {
      "text/plain": [
       "[3, 4, 5, 6, 7, 9]"
      ]
     },
     "execution_count": 6,
     "metadata": {},
     "output_type": "execute_result"
    }
   ],
   "source": [
    "numbers[2:]"
   ]
  },
  {
   "cell_type": "code",
   "execution_count": 7,
   "id": "440fea64-1747-46ce-b385-e81b4bfa1624",
   "metadata": {},
   "outputs": [
    {
     "data": {
      "text/plain": [
       "[3, 4, 5, 6, 7, 9]"
      ]
     },
     "execution_count": 7,
     "metadata": {},
     "output_type": "execute_result"
    }
   ],
   "source": [
    "numbers[2:len(numbers)]"
   ]
  },
  {
   "cell_type": "code",
   "execution_count": 10,
   "id": "761cd008-9369-49c5-8592-c15bb3a3e005",
   "metadata": {},
   "outputs": [
    {
     "data": {
      "text/plain": [
       "[1, 2, 3, 4, 5, 6, 7, 9]"
      ]
     },
     "execution_count": 10,
     "metadata": {},
     "output_type": "execute_result"
    }
   ],
   "source": [
    "numbers[:]"
   ]
  },
  {
   "cell_type": "markdown",
   "id": "0ac5c680-6c36-453e-ae91-8905da5fe2a4",
   "metadata": {},
   "source": []
  },
  {
   "cell_type": "code",
   "execution_count": 11,
   "id": "31d534f4-0819-4be4-a718-d2cf1dfe561f",
   "metadata": {},
   "outputs": [
    {
     "data": {
      "text/plain": [
       "[1, 3, 5, 7]"
      ]
     },
     "execution_count": 11,
     "metadata": {},
     "output_type": "execute_result"
    }
   ],
   "source": [
    "numbers[::2]"
   ]
  },
  {
   "cell_type": "code",
   "execution_count": 12,
   "id": "889a551b-b8c4-4f1e-9692-f61c4b044ea1",
   "metadata": {},
   "outputs": [
    {
     "data": {
      "text/plain": [
       "[9, 7, 6, 5, 4, 3, 2, 1]"
      ]
     },
     "execution_count": 12,
     "metadata": {},
     "output_type": "execute_result"
    }
   ],
   "source": [
    "#reverse order\n",
    "numbers[::-1]"
   ]
  },
  {
   "cell_type": "code",
   "execution_count": 13,
   "id": "be56379c-8650-498b-bb4f-6ca875a2c7ae",
   "metadata": {},
   "outputs": [
    {
     "data": {
      "text/plain": [
       "[4, 5, 6, 7, 9]"
      ]
     },
     "execution_count": 13,
     "metadata": {},
     "output_type": "execute_result"
    }
   ],
   "source": [
    "#delete first three numbers\n",
    "numbers[0:3] = []\n",
    "numbers"
   ]
  },
  {
   "cell_type": "code",
   "execution_count": 19,
   "id": "8dbbafdf-4c6a-499c-a046-1a05a6fc05f3",
   "metadata": {},
   "outputs": [
    {
     "data": {
      "text/plain": [
       "[100, 5, 200, 7, 300]"
      ]
     },
     "execution_count": 19,
     "metadata": {},
     "output_type": "execute_result"
    }
   ],
   "source": [
    "#updating values in list by a jump of 2\n",
    "numbers[::2] = [100,200,300]\n",
    "numbers"
   ]
  },
  {
   "cell_type": "code",
   "execution_count": 20,
   "id": "69bd0ed2-cc38-407d-9ef7-acb6371e3830",
   "metadata": {},
   "outputs": [
    {
     "data": {
      "text/plain": [
       "2594085895360"
      ]
     },
     "execution_count": 20,
     "metadata": {},
     "output_type": "execute_result"
    }
   ],
   "source": [
    "id(numbers)"
   ]
  },
  {
   "cell_type": "code",
   "execution_count": 21,
   "id": "ae7413e0-cdf5-4b13-9669-4d57697494e0",
   "metadata": {},
   "outputs": [
    {
     "data": {
      "text/plain": [
       "[]"
      ]
     },
     "execution_count": 21,
     "metadata": {},
     "output_type": "execute_result"
    }
   ],
   "source": [
    "#deleting all the elements in numbers,leaving the existing list empty\n",
    "numbers[:] = []\n",
    "numbers"
   ]
  },
  {
   "cell_type": "code",
   "execution_count": 22,
   "id": "71ce9f72-e67c-49a9-9c9b-37b75050a3f7",
   "metadata": {},
   "outputs": [
    {
     "data": {
      "text/plain": [
       "2594085895360"
      ]
     },
     "execution_count": 22,
     "metadata": {},
     "output_type": "execute_result"
    }
   ],
   "source": [
    "id(numbers)"
   ]
  },
  {
   "cell_type": "code",
   "execution_count": 23,
   "id": "35841eb8-ba7b-4d3f-8a71-aaa4260a8e6d",
   "metadata": {},
   "outputs": [
    {
     "data": {
      "text/plain": [
       "[]"
      ]
     },
     "execution_count": 23,
     "metadata": {},
     "output_type": "execute_result"
    }
   ],
   "source": [
    "numbers"
   ]
  },
  {
   "cell_type": "code",
   "execution_count": 25,
   "id": "62b10536-0e36-4f29-bfdf-c273c0c2632c",
   "metadata": {},
   "outputs": [
    {
     "data": {
      "text/plain": [
       "[0, 1, 2, 3, 4, 5, 6, 7, 8, 9]"
      ]
     },
     "execution_count": 25,
     "metadata": {},
     "output_type": "execute_result"
    }
   ],
   "source": [
    "# using del statement to remove elements from a list \n",
    "num = list(range(0,10))\n",
    "num"
   ]
  },
  {
   "cell_type": "code",
   "execution_count": 27,
   "id": "af8844b2-0b95-4f98-bc84-e7ee3d7a8f8f",
   "metadata": {},
   "outputs": [
    {
     "data": {
      "text/plain": [
       "[0, 1, 2, 3, 4, 5, 6, 7]"
      ]
     },
     "execution_count": 27,
     "metadata": {},
     "output_type": "execute_result"
    }
   ],
   "source": [
    "del num[-1]\n",
    "num"
   ]
  },
  {
   "cell_type": "code",
   "execution_count": 28,
   "id": "b9465710-1be1-4d90-a81d-6240b3d43a0f",
   "metadata": {},
   "outputs": [
    {
     "data": {
      "text/plain": [
       "[2, 3, 4, 5, 6, 7]"
      ]
     },
     "execution_count": 28,
     "metadata": {},
     "output_type": "execute_result"
    }
   ],
   "source": [
    "# deleting list's first two elements\n",
    "del num[0:2]\n",
    "num"
   ]
  },
  {
   "cell_type": "code",
   "execution_count": 29,
   "id": "63c95f9f-f9f7-4008-a469-db9dfeb04673",
   "metadata": {},
   "outputs": [],
   "source": [
    "del num[:]"
   ]
  },
  {
   "cell_type": "code",
   "execution_count": 30,
   "id": "e625dce7-7621-4152-a59b-3095b1274f16",
   "metadata": {},
   "outputs": [
    {
     "data": {
      "text/plain": [
       "[]"
      ]
     },
     "execution_count": 30,
     "metadata": {},
     "output_type": "execute_result"
    }
   ],
   "source": [
    "num"
   ]
  },
  {
   "cell_type": "code",
   "execution_count": 31,
   "id": "3f0f0ec9-bd78-45e5-bde3-b943f6dca65a",
   "metadata": {},
   "outputs": [],
   "source": [
    "# deleting a variable from the current session\n",
    "del num"
   ]
  },
  {
   "cell_type": "code",
   "execution_count": 32,
   "id": "1ddc6d0f-ad54-4aad-a2a8-8b1f2a2d2ff0",
   "metadata": {},
   "outputs": [
    {
     "ename": "NameError",
     "evalue": "name 'num' is not defined",
     "output_type": "error",
     "traceback": [
      "\u001b[1;31m---------------------------------------------------------------------------\u001b[0m",
      "\u001b[1;31mNameError\u001b[0m                                 Traceback (most recent call last)",
      "Cell \u001b[1;32mIn[32], line 1\u001b[0m\n\u001b[1;32m----> 1\u001b[0m \u001b[43mnum\u001b[49m\n",
      "\u001b[1;31mNameError\u001b[0m: name 'num' is not defined"
     ]
    }
   ],
   "source": [
    "num"
   ]
  },
  {
   "cell_type": "code",
   "execution_count": 33,
   "id": "d457b635-162b-4997-b6aa-9e652ba280d8",
   "metadata": {},
   "outputs": [
    {
     "data": {
      "text/plain": [
       "[4, 8, 12]"
      ]
     },
     "execution_count": 33,
     "metadata": {},
     "output_type": "execute_result"
    }
   ],
   "source": [
    "# passing an Entire list to a function\n",
    "def Modify_elements(items):\n",
    "    for i in range(len(items)):\n",
    "        items[i] *= 2\n",
    "\n",
    "items = [2,4,6]\n",
    "Modify_elements(items) #passing entire list as argument\n",
    "items"
   ]
  },
  {
   "cell_type": "code",
   "execution_count": 34,
   "id": "64bf1046-45f0-43ca-88cd-15605833db8a",
   "metadata": {},
   "outputs": [
    {
     "ename": "TypeError",
     "evalue": "'tuple' object does not support item assignment",
     "output_type": "error",
     "traceback": [
      "\u001b[1;31m---------------------------------------------------------------------------\u001b[0m",
      "\u001b[1;31mTypeError\u001b[0m                                 Traceback (most recent call last)",
      "Cell \u001b[1;32mIn[34], line 3\u001b[0m\n\u001b[0;32m      1\u001b[0m \u001b[38;5;66;03m#passing tuple to a function \u001b[39;00m\n\u001b[0;32m      2\u001b[0m nums_tuple \u001b[38;5;241m=\u001b[39m (\u001b[38;5;241m10\u001b[39m,\u001b[38;5;241m20\u001b[39m,\u001b[38;5;241m30\u001b[39m)\n\u001b[1;32m----> 3\u001b[0m \u001b[43mModify_elements\u001b[49m\u001b[43m(\u001b[49m\u001b[43mnums_tuple\u001b[49m\u001b[43m)\u001b[49m\n",
      "Cell \u001b[1;32mIn[33], line 4\u001b[0m, in \u001b[0;36mModify_elements\u001b[1;34m(items)\u001b[0m\n\u001b[0;32m      2\u001b[0m \u001b[38;5;28;01mdef\u001b[39;00m \u001b[38;5;21mModify_elements\u001b[39m(items):\n\u001b[0;32m      3\u001b[0m     \u001b[38;5;28;01mfor\u001b[39;00m i \u001b[38;5;129;01min\u001b[39;00m \u001b[38;5;28mrange\u001b[39m(\u001b[38;5;28mlen\u001b[39m(items)):\n\u001b[1;32m----> 4\u001b[0m         \u001b[43mitems\u001b[49m\u001b[43m[\u001b[49m\u001b[43mi\u001b[49m\u001b[43m]\u001b[49m \u001b[38;5;241m*\u001b[39m\u001b[38;5;241m=\u001b[39m \u001b[38;5;241m2\u001b[39m\n",
      "\u001b[1;31mTypeError\u001b[0m: 'tuple' object does not support item assignment"
     ]
    }
   ],
   "source": [
    "#passing tuple to a function \n",
    "nums_tuple = (10,20,30)\n",
    "Modify_elements(nums_tuple) "
   ]
  },
  {
   "cell_type": "code",
   "execution_count": 36,
   "id": "7892a079-b3fa-411f-9863-64391544dda6",
   "metadata": {},
   "outputs": [
    {
     "data": {
      "text/plain": [
       "[1, 2, 3, 5, 6, 7, 7, 9, 10]"
      ]
     },
     "execution_count": 36,
     "metadata": {},
     "output_type": "execute_result"
    }
   ],
   "source": [
    "#sorting lists\n",
    "a = [10,3,7,1,2,5,7,9,6]\n",
    "a.sort()\n",
    "a"
   ]
  },
  {
   "cell_type": "code",
   "execution_count": 37,
   "id": "3663ab9d-7565-4443-a48e-04c90a19bb7c",
   "metadata": {},
   "outputs": [
    {
     "data": {
      "text/plain": [
       "[10, 9, 7, 7, 6, 5, 3, 2, 1]"
      ]
     },
     "execution_count": 37,
     "metadata": {},
     "output_type": "execute_result"
    }
   ],
   "source": [
    "a.sort(reverse=True)\n",
    "a"
   ]
  },
  {
   "cell_type": "code",
   "execution_count": 38,
   "id": "6842099c-dcff-443f-b4c5-92d0a54dd776",
   "metadata": {},
   "outputs": [
    {
     "data": {
      "text/plain": [
       "[10, 9, 7, 7, 6, 5, 3, 2, 1]"
      ]
     },
     "execution_count": 38,
     "metadata": {},
     "output_type": "execute_result"
    }
   ],
   "source": [
    "# sort using build-in functions\n",
    "sorted(a)\n",
    "a"
   ]
  },
  {
   "cell_type": "code",
   "execution_count": 41,
   "id": "9b021ef5-06ee-4b01-8944-766ada6f7d84",
   "metadata": {},
   "outputs": [
    {
     "data": {
      "text/plain": [
       "['d',\n",
       " 'd',\n",
       " 'd',\n",
       " 'f',\n",
       " 'f',\n",
       " 'f',\n",
       " 'i',\n",
       " 'i',\n",
       " 'j',\n",
       " 'j',\n",
       " 'j',\n",
       " 'o',\n",
       " 'o',\n",
       " 'o',\n",
       " 's',\n",
       " 's',\n",
       " 's']"
      ]
     },
     "execution_count": 41,
     "metadata": {},
     "output_type": "execute_result"
    }
   ],
   "source": [
    "letter = 'fdsodifjdosifjsoj'\n",
    "sorted(letter)"
   ]
  },
  {
   "cell_type": "code",
   "execution_count": 46,
   "id": "6ddb8d1c-c055-40b9-b4b9-9d160fe3d3d0",
   "metadata": {},
   "outputs": [
    {
     "data": {
      "text/plain": [
       "['blue', 'green', 'orange', 'red', 'yellow']"
      ]
     },
     "execution_count": 46,
     "metadata": {},
     "output_type": "execute_result"
    }
   ],
   "source": [
    "colours = ('red', 'orange', 'yellow', 'green', 'blue')\n",
    "acending_colours = sorted(colours)\n",
    "acending_colours"
   ]
  },
  {
   "cell_type": "code",
   "execution_count": 47,
   "id": "9ead3b02-c886-4db9-9697-e32071aa2830",
   "metadata": {},
   "outputs": [
    {
     "data": {
      "text/plain": [
       "['yellow', 'red', 'orange', 'green', 'blue']"
      ]
     },
     "execution_count": 47,
     "metadata": {},
     "output_type": "execute_result"
    }
   ],
   "source": [
    "decending_colours = sorted(colours,reverse=True)\n",
    "decending_colours"
   ]
  },
  {
   "cell_type": "code",
   "execution_count": 48,
   "id": "7c04734e-bc2b-42fd-981c-05e8c4f6d528",
   "metadata": {},
   "outputs": [
    {
     "data": {
      "text/plain": [
       "6"
      ]
     },
     "execution_count": 48,
     "metadata": {},
     "output_type": "execute_result"
    }
   ],
   "source": [
    "# searching\n",
    "#searching in list -- list method index ---through an error if key does't found at particular index\n",
    "numbers = [3,7,1,4,2,8,5,6]\n",
    "numbers.index(5)"
   ]
  },
  {
   "cell_type": "code",
   "execution_count": 49,
   "id": "00a243c3-a618-46a0-8bd3-915c4d38c750",
   "metadata": {},
   "outputs": [
    {
     "ename": "ValueError",
     "evalue": "10 is not in list",
     "output_type": "error",
     "traceback": [
      "\u001b[1;31m---------------------------------------------------------------------------\u001b[0m",
      "\u001b[1;31mValueError\u001b[0m                                Traceback (most recent call last)",
      "Cell \u001b[1;32mIn[49], line 1\u001b[0m\n\u001b[1;32m----> 1\u001b[0m \u001b[43mnumbers\u001b[49m\u001b[38;5;241;43m.\u001b[39;49m\u001b[43mindex\u001b[49m\u001b[43m(\u001b[49m\u001b[38;5;241;43m10\u001b[39;49m\u001b[43m)\u001b[49m \u001b[38;5;66;03m#not present in list ---> will through an error\u001b[39;00m\n",
      "\u001b[1;31mValueError\u001b[0m: 10 is not in list"
     ]
    }
   ],
   "source": [
    "numbers.index(10) #not present in list ---> will through an error"
   ]
  },
  {
   "cell_type": "code",
   "execution_count": 55,
   "id": "f974b5a2-9fd3-4b90-a425-5cc9e2c934a7",
   "metadata": {},
   "outputs": [],
   "source": [
    "# You can use *= to multiply a sequence -- that is, append a sequence to itself\n"
   ]
  },
  {
   "cell_type": "code",
   "execution_count": 56,
   "id": "41b2c84e-8277-498e-a978-abc595896bfe",
   "metadata": {},
   "outputs": [
    {
     "data": {
      "text/plain": [
       "[3,\n",
       " 7,\n",
       " 1,\n",
       " 4,\n",
       " 2,\n",
       " 8,\n",
       " 5,\n",
       " 6,\n",
       " 3,\n",
       " 7,\n",
       " 1,\n",
       " 4,\n",
       " 2,\n",
       " 8,\n",
       " 5,\n",
       " 6,\n",
       " 3,\n",
       " 7,\n",
       " 1,\n",
       " 4,\n",
       " 2,\n",
       " 8,\n",
       " 5,\n",
       " 6,\n",
       " 3,\n",
       " 7,\n",
       " 1,\n",
       " 4,\n",
       " 2,\n",
       " 8,\n",
       " 5,\n",
       " 6,\n",
       " 3,\n",
       " 7,\n",
       " 1,\n",
       " 4,\n",
       " 2,\n",
       " 8,\n",
       " 5,\n",
       " 6,\n",
       " 3,\n",
       " 7,\n",
       " 1,\n",
       " 4,\n",
       " 2,\n",
       " 8,\n",
       " 5,\n",
       " 6,\n",
       " 3,\n",
       " 7,\n",
       " 1,\n",
       " 4,\n",
       " 2,\n",
       " 8,\n",
       " 5,\n",
       " 6,\n",
       " 3,\n",
       " 7,\n",
       " 1,\n",
       " 4,\n",
       " 2,\n",
       " 8,\n",
       " 5,\n",
       " 6,\n",
       " 3,\n",
       " 7,\n",
       " 1,\n",
       " 4,\n",
       " 2,\n",
       " 8,\n",
       " 5,\n",
       " 6,\n",
       " 3,\n",
       " 7,\n",
       " 1,\n",
       " 4,\n",
       " 2,\n",
       " 8,\n",
       " 5,\n",
       " 6,\n",
       " 3,\n",
       " 7,\n",
       " 1,\n",
       " 4,\n",
       " 2,\n",
       " 8,\n",
       " 5,\n",
       " 6,\n",
       " 3,\n",
       " 7,\n",
       " 1,\n",
       " 4,\n",
       " 2,\n",
       " 8,\n",
       " 5,\n",
       " 6,\n",
       " 3,\n",
       " 7,\n",
       " 1,\n",
       " 4,\n",
       " 2,\n",
       " 8,\n",
       " 5,\n",
       " 6,\n",
       " 3,\n",
       " 7,\n",
       " 1,\n",
       " 4,\n",
       " 2,\n",
       " 8,\n",
       " 5,\n",
       " 6,\n",
       " 3,\n",
       " 7,\n",
       " 1,\n",
       " 4,\n",
       " 2,\n",
       " 8,\n",
       " 5,\n",
       " 6,\n",
       " 3,\n",
       " 7,\n",
       " 1,\n",
       " 4,\n",
       " 2,\n",
       " 8,\n",
       " 5,\n",
       " 6]"
      ]
     },
     "execution_count": 56,
     "metadata": {},
     "output_type": "execute_result"
    }
   ],
   "source": [
    "numbers *= 2\n",
    "numbers"
   ]
  },
  {
   "cell_type": "code",
   "execution_count": 58,
   "id": "b403aef0-8eb2-42a5-a2e4-ed623e336f7f",
   "metadata": {},
   "outputs": [
    {
     "data": {
      "text/plain": [
       "14"
      ]
     },
     "execution_count": 58,
     "metadata": {},
     "output_type": "execute_result"
    }
   ],
   "source": [
    "# The following code searches the updated list for the value 5 starting from index 7 and continuing through the end of the list.\n",
    "numbers.index(5,7)"
   ]
  },
  {
   "cell_type": "code",
   "execution_count": 59,
   "id": "a5026c24-6154-405c-971c-4296aa1a588b",
   "metadata": {},
   "outputs": [
    {
     "data": {
      "text/plain": [
       "14"
      ]
     },
     "execution_count": 59,
     "metadata": {},
     "output_type": "execute_result"
    }
   ],
   "source": [
    "numbers.index(5,7) # searching with starting to upto but not including the last index"
   ]
  },
  {
   "cell_type": "code",
   "execution_count": 60,
   "id": "4563d074-c583-4fe6-a3a3-1aa6f29531d6",
   "metadata": {},
   "outputs": [
    {
     "data": {
      "text/plain": [
       "14"
      ]
     },
     "execution_count": 60,
     "metadata": {},
     "output_type": "execute_result"
    }
   ],
   "source": [
    "numbers.index(5,7,len(numbers))"
   ]
  },
  {
   "cell_type": "code",
   "execution_count": 61,
   "id": "cd064a04-9d26-4aee-b3db-2f8b68066007",
   "metadata": {},
   "outputs": [
    {
     "data": {
      "text/plain": [
       "1"
      ]
     },
     "execution_count": 61,
     "metadata": {},
     "output_type": "execute_result"
    }
   ],
   "source": [
    "# The following look for the value 7 in the range of element with indices 0 through 3.\n",
    "numbers.index(7,0,4)"
   ]
  },
  {
   "cell_type": "code",
   "execution_count": 62,
   "id": "fc4b5ff8-820f-45fa-9da3-1d9e2ff3e5b8",
   "metadata": {},
   "outputs": [
    {
     "data": {
      "text/plain": [
       "False"
      ]
     },
     "execution_count": 62,
     "metadata": {},
     "output_type": "execute_result"
    }
   ],
   "source": [
    "# Operator in and not in\n",
    "# Operator in test whether its right operant's Iterabal contains the left operands value.\n",
    "1000 in numbers"
   ]
  },
  {
   "cell_type": "code",
   "execution_count": 63,
   "id": "821e2c28-3167-4b45-aa83-8dbeef6619a6",
   "metadata": {},
   "outputs": [
    {
     "data": {
      "text/plain": [
       "True"
      ]
     },
     "execution_count": 63,
     "metadata": {},
     "output_type": "execute_result"
    }
   ],
   "source": [
    "7 in numbers"
   ]
  },
  {
   "cell_type": "code",
   "execution_count": 65,
   "id": "5c2097cb-1287-4867-bcff-db6e4d0a8f61",
   "metadata": {},
   "outputs": [
    {
     "data": {
      "text/plain": [
       "True"
      ]
     },
     "execution_count": 65,
     "metadata": {},
     "output_type": "execute_result"
    }
   ],
   "source": [
    "# not in Operator\n",
    "1000 not in numbers"
   ]
  },
  {
   "cell_type": "code",
   "execution_count": 66,
   "id": "78992e91-ca82-4faa-a787-f2342cc337f0",
   "metadata": {},
   "outputs": [
    {
     "data": {
      "text/plain": [
       "False"
      ]
     },
     "execution_count": 66,
     "metadata": {},
     "output_type": "execute_result"
    }
   ],
   "source": [
    "5 not in numbers"
   ]
  },
  {
   "cell_type": "code",
   "execution_count": 72,
   "id": "3f798c1f-00c7-44a4-9dad-d1880cbd04f1",
   "metadata": {},
   "outputs": [
    {
     "name": "stdout",
     "output_type": "stream",
     "text": [
      "100 not found\n"
     ]
    }
   ],
   "source": [
    "# Using ooperartor in to Prevent a ValueError\n",
    "key = 100\n",
    "if key in numbers:\n",
    "    print(f'found {key} at index {numbers.index(seach_key)}')\n",
    "else:\n",
    "    print(f'{key} not found')"
   ]
  },
  {
   "cell_type": "code",
   "execution_count": 73,
   "id": "d06045fa-d9c5-4e97-984b-5e3623697994",
   "metadata": {},
   "outputs": [
    {
     "name": "stdout",
     "output_type": "stream",
     "text": [
      "found 5 at index 6\n"
     ]
    }
   ],
   "source": [
    "# Using ooperartor in to Prevent a ValueError\n",
    "key = 5\n",
    "if key in numbers:\n",
    "    print(f'found {key} at index {numbers.index(5)}')\n",
    "else:\n",
    "    print(f'{key} not found')"
   ]
  },
  {
   "cell_type": "code",
   "execution_count": null,
   "id": "0e385152-f008-4516-bd22-249fed53e645",
   "metadata": {},
   "outputs": [],
   "source": [
    "# Build-In Functions any and all\n",
    "# The building function any returns true if any item in its site travel argument is true. The built in function all returns true if all items in its eye travel arguments are true. \n",
    "# Recall that non zero values are true and zero is false. Non empty I travel upset \n",
    "# also evaluates to true where. any empty iterable evolutions to false function any and all are additional example of internal iteration in functional style programming.\n"
   ]
  },
  {
   "cell_type": "code",
   "execution_count": 74,
   "id": "52c9afa9-424d-4c13-8e37-f71baf725496",
   "metadata": {},
   "outputs": [
    {
     "data": {
      "text/plain": [
       "['red', 'orange', 'yellow', 'green']"
      ]
     },
     "execution_count": 74,
     "metadata": {},
     "output_type": "execute_result"
    }
   ],
   "source": [
    "# Inserting element at a particular index\n",
    "colors = ['orange','yellow','green']\n",
    "colors.insert(0,'red')\n",
    "colors"
   ]
  },
  {
   "cell_type": "code",
   "execution_count": 75,
   "id": "4eeaec57-a72e-472d-ab00-0f10d0261f50",
   "metadata": {},
   "outputs": [
    {
     "data": {
      "text/plain": [
       "['red', 'orange', 'yellow', 'green', 'blue']"
      ]
     },
     "execution_count": 75,
     "metadata": {},
     "output_type": "execute_result"
    }
   ],
   "source": [
    "#Adding element to the end of the list\n",
    "colors.append('blue')\n",
    "colors"
   ]
  },
  {
   "cell_type": "code",
   "execution_count": 76,
   "id": "b42eae3a-7309-437d-9d3c-c7cbf0b76a50",
   "metadata": {},
   "outputs": [
    {
     "data": {
      "text/plain": [
       "['red', 'orange', 'yellow', 'green', 'blue', 'indigo', 'violet']"
      ]
     },
     "execution_count": 76,
     "metadata": {},
     "output_type": "execute_result"
    }
   ],
   "source": [
    "# Adding all the elements of a sequence to the end of a list\n",
    "colors.extend(['indigo','violet'])\n",
    "colors"
   ]
  },
  {
   "cell_type": "code",
   "execution_count": 78,
   "id": "14c2023d-24c8-41ca-9692-bbae4d5993b5",
   "metadata": {},
   "outputs": [
    {
     "data": {
      "text/plain": [
       "['a', 'b', 'c']"
      ]
     },
     "execution_count": 78,
     "metadata": {},
     "output_type": "execute_result"
    }
   ],
   "source": [
    "#Appending list with a string\n",
    "sample_list = []\n",
    "s = 'abc'\n",
    "sample_list.extend(s)\n",
    "sample_list"
   ]
  },
  {
   "cell_type": "code",
   "execution_count": 79,
   "id": "9db5f4e2-a6e6-4a6d-bffa-126099a882d7",
   "metadata": {},
   "outputs": [
    {
     "data": {
      "text/plain": [
       "['a', 'b', 'c', 1, 2, 3]"
      ]
     },
     "execution_count": 79,
     "metadata": {},
     "output_type": "execute_result"
    }
   ],
   "source": [
    "t = (1,2,3)\n",
    "sample_list.extend(t)\n",
    "sample_list"
   ]
  },
  {
   "cell_type": "markdown",
   "id": "33236149-96fa-4ccb-a4ce-cd20600be922",
   "metadata": {},
   "source": [
    "# Appending tuple without creating a temprorary variable like - \"t\"\n",
    "sample_list.extend((4,5,6)) # note the extra parentheses\n",
    "sample_list\n",
    "#type error will occur if you omit the required paranthesis"
   ]
  },
  {
   "cell_type": "code",
   "execution_count": 81,
   "id": "5b370a93-5d28-42c4-9e94-01b150fccc27",
   "metadata": {},
   "outputs": [
    {
     "data": {
      "text/plain": [
       "('red', 'orange', 'yellow', 'green', 'blue')"
      ]
     },
     "execution_count": 81,
     "metadata": {},
     "output_type": "execute_result"
    }
   ],
   "source": [
    "# Removing first occurence of a list\n",
    "colours"
   ]
  },
  {
   "cell_type": "code",
   "execution_count": 82,
   "id": "eab24b16-1daf-4b8f-a091-6dd99898ea1f",
   "metadata": {},
   "outputs": [
    {
     "data": {
      "text/plain": [
       "['orange', 'yellow', 'green', 'blue', 'indigo', 'violet']"
      ]
     },
     "execution_count": 82,
     "metadata": {},
     "output_type": "execute_result"
    }
   ],
   "source": [
    "colors.remove('red')\n",
    "colors"
   ]
  },
  {
   "cell_type": "code",
   "execution_count": 89,
   "id": "1f9e8896-56b3-403b-ae32-50d0468516e4",
   "metadata": {},
   "outputs": [
    {
     "data": {
      "text/plain": [
       "['orange', 'green', 'indigo', 'violet']"
      ]
     },
     "execution_count": 89,
     "metadata": {},
     "output_type": "execute_result"
    }
   ],
   "source": [
    "colors.remove('yellow')\n",
    "colors"
   ]
  },
  {
   "cell_type": "markdown",
   "id": "060a1c6a-7254-4133-9ec5-86fc38a70f53",
   "metadata": {},
   "source": []
  },
  {
   "cell_type": "code",
   "execution_count": 91,
   "id": "1f93ba96-4800-4f0e-90b1-ff27a2a313e1",
   "metadata": {},
   "outputs": [
    {
     "data": {
      "text/plain": [
       "[]"
      ]
     },
     "execution_count": 91,
     "metadata": {},
     "output_type": "execute_result"
    }
   ],
   "source": [
    "# Emptying a list\n",
    "# to clear all the elements in a list, call method clear.\n",
    "colors.clear()\n",
    "colors"
   ]
  },
  {
   "cell_type": "code",
   "execution_count": 93,
   "id": "d527906c-29d0-45af-9201-486b51305176",
   "metadata": {},
   "outputs": [
    {
     "data": {
      "text/plain": [
       "[]"
      ]
     },
     "execution_count": 93,
     "metadata": {},
     "output_type": "execute_result"
    }
   ],
   "source": [
    "colors[:] = [] # equivalent to previously shown slice assignment\n",
    "colors"
   ]
  },
  {
   "cell_type": "code",
   "execution_count": 94,
   "id": "79d08d0a-7068-47ee-b25e-dd07e6d6c92e",
   "metadata": {},
   "outputs": [
    {
     "name": "stdout",
     "output_type": "stream",
     "text": [
      " 1 appears 3 times in responses\n",
      " 2 appears 5 times in responses\n",
      " 3 appears 8 times in responses\n",
      " 4 appears 2 times in responses\n",
      " 5 appears 2 times in responses\n"
     ]
    }
   ],
   "source": [
    "# Counting the Number of Occurrences of an Item\n",
    "#List method count searches for its argument and returns the number of times it is found\n",
    "responses = [1,2,5,4,3,5,2,1,3,3,1,4,3,3,3,2,3,3,2,2]\n",
    "for i in range(1,6):\n",
    "    print(f' {i} appears {responses.count(i)} times in responses')"
   ]
  },
  {
   "cell_type": "code",
   "execution_count": 95,
   "id": "32eb6b0f-ad8e-4cc8-9a6f-5116feeb2322",
   "metadata": {},
   "outputs": [
    {
     "data": {
      "text/plain": [
       "['red', 'orange', 'yellow', 'green', 'red']"
      ]
     },
     "execution_count": 95,
     "metadata": {},
     "output_type": "execute_result"
    }
   ],
   "source": [
    "#Reversing a list' Elements\n",
    "color = ['red','green','yellow','orange','red']\n",
    "color.reverse()\n",
    "color"
   ]
  },
  {
   "cell_type": "code",
   "execution_count": 96,
   "id": "3a34758a-dceb-43bb-b211-83f8352fd498",
   "metadata": {},
   "outputs": [
    {
     "data": {
      "text/plain": [
       "['red', 'orange', 'yellow', 'green', 'red']"
      ]
     },
     "execution_count": 96,
     "metadata": {},
     "output_type": "execute_result"
    }
   ],
   "source": [
    "# Copying a list\n",
    "# List method copy returns a new list containing a Shallow copy of the original list.\n",
    "copied_list = color.copy()\n",
    "copied_list"
   ]
  },
  {
   "cell_type": "code",
   "execution_count": 97,
   "id": "edb7aac7-5085-4104-9f1e-5ed3bc386603",
   "metadata": {},
   "outputs": [
    {
     "data": {
      "text/plain": [
       "['red', 'orange', 'yellow', 'green', 'red']"
      ]
     },
     "execution_count": 97,
     "metadata": {},
     "output_type": "execute_result"
    }
   ],
   "source": [
    "copied_list = color[:]\n",
    "color"
   ]
  },
  {
   "cell_type": "code",
   "execution_count": 99,
   "id": "599d9344-bd96-4319-9f17-e9fedf48eaae",
   "metadata": {},
   "outputs": [
    {
     "data": {
      "text/plain": [
       "['red']"
      ]
     },
     "execution_count": 99,
     "metadata": {},
     "output_type": "execute_result"
    }
   ],
   "source": [
    "# Simulating Stack with List:\n",
    "# python not have build in stack type --> think list as contrained list -- push(append) ---add ele at the end of list.\n",
    "# pop() -- with no argument--- which removes and returns the items at the end of the list.\n",
    "\n",
    "#creating emtpy stack\n",
    "stack = []\n",
    "stack.append('red')\n",
    "stack"
   ]
  },
  {
   "cell_type": "code",
   "execution_count": 100,
   "id": "61e7512f-0945-4a40-a02f-19fa5b43fc50",
   "metadata": {},
   "outputs": [
    {
     "data": {
      "text/plain": [
       "['red', 'green']"
      ]
     },
     "execution_count": 100,
     "metadata": {},
     "output_type": "execute_result"
    }
   ],
   "source": [
    "stack.append('green')\n",
    "stack"
   ]
  },
  {
   "cell_type": "code",
   "execution_count": 101,
   "id": "907ee967-5f9a-4eaf-99a3-47af48be823a",
   "metadata": {},
   "outputs": [
    {
     "data": {
      "text/plain": [
       "'green'"
      ]
     },
     "execution_count": 101,
     "metadata": {},
     "output_type": "execute_result"
    }
   ],
   "source": [
    "stack.pop()"
   ]
  },
  {
   "cell_type": "code",
   "execution_count": 102,
   "id": "2abeb95b-9d14-49de-97a0-8385ec45fd90",
   "metadata": {},
   "outputs": [
    {
     "data": {
      "text/plain": [
       "['red']"
      ]
     },
     "execution_count": 102,
     "metadata": {},
     "output_type": "execute_result"
    }
   ],
   "source": [
    "stack"
   ]
  },
  {
   "cell_type": "code",
   "execution_count": 103,
   "id": "a85e6398-98d0-4a79-8275-d9dc37e83608",
   "metadata": {},
   "outputs": [
    {
     "data": {
      "text/plain": [
       "'red'"
      ]
     },
     "execution_count": 103,
     "metadata": {},
     "output_type": "execute_result"
    }
   ],
   "source": [
    "stack.pop()"
   ]
  },
  {
   "cell_type": "code",
   "execution_count": 104,
   "id": "4a70a5d0-93ec-4903-9d53-5cf6431186bf",
   "metadata": {},
   "outputs": [
    {
     "data": {
      "text/plain": [
       "[]"
      ]
     },
     "execution_count": 104,
     "metadata": {},
     "output_type": "execute_result"
    }
   ],
   "source": [
    "stack"
   ]
  },
  {
   "cell_type": "code",
   "execution_count": 105,
   "id": "63ff5dbc-0351-4874-91bc-54e20ddf4da2",
   "metadata": {},
   "outputs": [
    {
     "ename": "IndexError",
     "evalue": "pop from empty list",
     "output_type": "error",
     "traceback": [
      "\u001b[1;31m---------------------------------------------------------------------------\u001b[0m",
      "\u001b[1;31mIndexError\u001b[0m                                Traceback (most recent call last)",
      "Cell \u001b[1;32mIn[105], line 1\u001b[0m\n\u001b[1;32m----> 1\u001b[0m \u001b[43mstack\u001b[49m\u001b[38;5;241;43m.\u001b[39;49m\u001b[43mpop\u001b[49m\u001b[43m(\u001b[49m\u001b[43m)\u001b[49m\n",
      "\u001b[1;31mIndexError\u001b[0m: pop from empty list"
     ]
    }
   ],
   "source": [
    "stack.pop()"
   ]
  },
  {
   "cell_type": "code",
   "execution_count": 106,
   "id": "6eae8286-8bd1-4107-be9e-a4d19eddfc66",
   "metadata": {},
   "outputs": [],
   "source": [
    "# You also can use a list to simulate another popular collection called a queue, in which you insert at the back and delete from the front.\n",
    "# Items are retrieved from queue in first in  first out(FIFO) order.\n"
   ]
  },
  {
   "cell_type": "code",
   "execution_count": 108,
   "id": "f9131b2c-2ef8-4a19-a384-07527dd6ca81",
   "metadata": {},
   "outputs": [
    {
     "data": {
      "text/plain": [
       "[1, 2, 3, 4, 5]"
      ]
     },
     "execution_count": 108,
     "metadata": {},
     "output_type": "execute_result"
    }
   ],
   "source": [
    "# List comprehension to create a list of integers.\n",
    "list2 = [item for item in range(1,6)]\n",
    "list2"
   ]
  },
  {
   "cell_type": "code",
   "execution_count": 111,
   "id": "45229967-3ada-4131-bf62-9d35d2f4642c",
   "metadata": {},
   "outputs": [
    {
     "data": {
      "text/plain": [
       "[1, 8, 27, 64, 125]"
      ]
     },
     "execution_count": 111,
     "metadata": {},
     "output_type": "execute_result"
    }
   ],
   "source": [
    "# performing operations in a list comprehension's expression\n",
    "list3 = [item ** 3 for item in range(1,6)]\n",
    "list3"
   ]
  },
  {
   "cell_type": "code",
   "execution_count": 112,
   "id": "dd75ffc8-df36-4372-9bb9-791d3a3f1d00",
   "metadata": {},
   "outputs": [],
   "source": [
    "# Filtering list comprehension with if clauses. to select only those that matches a condition.\n",
    "# This typically produces a list with fewer elements then the data being filtered."
   ]
  },
  {
   "cell_type": "code",
   "execution_count": 113,
   "id": "372fe82f-7a2e-4e9e-83b1-3104f7fc3b5e",
   "metadata": {},
   "outputs": [
    {
     "data": {
      "text/plain": [
       "[2, 4, 6, 8, 10]"
      ]
     },
     "execution_count": 113,
     "metadata": {},
     "output_type": "execute_result"
    }
   ],
   "source": [
    "list4 = [item for item in range(1,11) if item % 2 == 0]\n",
    "list4"
   ]
  },
  {
   "cell_type": "code",
   "execution_count": 115,
   "id": "d6c872e9-e0e3-48eb-976b-a484792a15c2",
   "metadata": {},
   "outputs": [
    {
     "data": {
      "text/plain": [
       "['RED', 'ORANGE', 'YELLOW', 'GREEN', 'BLUE']"
      ]
     },
     "execution_count": 115,
     "metadata": {},
     "output_type": "execute_result"
    }
   ],
   "source": [
    "# List comprehension debt processes another list elements.\n",
    "# The foreclosure can process any trouble. \n",
    "# Let's create a list of the lowercase  string and use our list comprehension to create a new list containing their upper case versions.\n",
    "color = ['red','orange','yellow','green','blue']\n",
    "color = [item.upper() for item in color]\n",
    "color"
   ]
  },
  {
   "cell_type": "code",
   "execution_count": 116,
   "id": "4971f54e-e1cb-4350-97f7-f32f3d4e3a18",
   "metadata": {},
   "outputs": [
    {
     "data": {
      "text/plain": [
       "['red', 'orange', 'yellow', 'green', 'blue']"
      ]
     },
     "execution_count": 116,
     "metadata": {},
     "output_type": "execute_result"
    }
   ],
   "source": [
    "color = [item.lower() for item in color]\n",
    "color"
   ]
  },
  {
   "cell_type": "code",
   "execution_count": 1,
   "id": "98d9327d-003c-49c0-908f-2136e3a10233",
   "metadata": {},
   "outputs": [
    {
     "name": "stdout",
     "output_type": "stream",
     "text": [
      "9 49 1 81 25 "
     ]
    }
   ],
   "source": [
    "# Generator Expressions\n",
    "numbers = [10,3,7,1,9,4,2,8,5,6]\n",
    "for value in (x ** 2 for x in numbers if x % 2 != 0):\n",
    "    print(value, end=\" \")"
   ]
  },
  {
   "cell_type": "code",
   "execution_count": 2,
   "id": "8861128e-504e-4075-bb76-57e669a4a7e6",
   "metadata": {},
   "outputs": [],
   "source": [
    "Squares_of_odd = (x ** 2 for x in numbers if x % 2 != 0)"
   ]
  },
  {
   "cell_type": "code",
   "execution_count": 4,
   "id": "e6042539-abe7-4d34-81e2-0411537fdc79",
   "metadata": {},
   "outputs": [
    {
     "data": {
      "text/plain": [
       "<generator object <genexpr> at 0x000001B8C5ED6260>"
      ]
     },
     "execution_count": 4,
     "metadata": {},
     "output_type": "execute_result"
    }
   ],
   "source": [
    "Squares_of_odd"
   ]
  },
  {
   "cell_type": "code",
   "execution_count": 6,
   "id": "eea8207a-2be3-4f0d-8c49-36f7bf88eb24",
   "metadata": {},
   "outputs": [
    {
     "data": {
      "text/plain": [
       "[1, 3, 5, 7, 9, 11]"
      ]
     },
     "execution_count": 6,
     "metadata": {},
     "output_type": "execute_result"
    }
   ],
   "source": [
    "#Filter, Map and Reduce\n",
    "\n",
    "#using filter build-in function to obtain odd values in numbes\n",
    "numbers = [1,2,3,4,5,6,7,8,9,10,11,12]\n",
    "\n",
    "def is_odd(x):\n",
    "    # Returns true if X is odd\n",
    "    return x % 2 != 0\n",
    "\n",
    "list(filter(is_odd, numbers)) # The result of filter is a filter object, which is lazy. and does not compute result immediately. \n",
    "# That's why we use list to convert filter object into a list of odd numbers.\n",
    "\n"
   ]
  },
  {
   "cell_type": "code",
   "execution_count": 7,
   "id": "051c39d0-5769-4bb5-8cf7-c29613e6f718",
   "metadata": {},
   "outputs": [
    {
     "data": {
      "text/plain": [
       "[1, 3, 5, 7, 9, 11]"
      ]
     },
     "execution_count": 7,
     "metadata": {},
     "output_type": "execute_result"
    }
   ],
   "source": [
    "# We can also use. list comprehension with if clause.\n",
    "[item for item in numbers if is_odd(item)]"
   ]
  },
  {
   "cell_type": "code",
   "execution_count": 11,
   "id": "421c827d-2f4d-479d-a46d-68c372c7cd50",
   "metadata": {},
   "outputs": [
    {
     "data": {
      "text/plain": [
       "<filter at 0x1b8c5c2e350>"
      ]
     },
     "execution_count": 11,
     "metadata": {},
     "output_type": "execute_result"
    }
   ],
   "source": [
    "# we can use lamda rather than a function\n",
    "filter(lambda x: x % 2 != 0, numbers) # this is a object so we need to convert it into list\n"
   ]
  },
  {
   "cell_type": "code",
   "execution_count": 12,
   "id": "1f002740-f351-4728-8368-dd780d484056",
   "metadata": {},
   "outputs": [
    {
     "data": {
      "text/plain": [
       "[1, 3, 5, 7, 9, 11]"
      ]
     },
     "execution_count": 12,
     "metadata": {},
     "output_type": "execute_result"
    }
   ],
   "source": [
    "list(filter(lambda x: x % 2 != 0, numbers))"
   ]
  },
  {
   "cell_type": "code",
   "execution_count": 14,
   "id": "7456b266-56dc-4874-aa82-532172573416",
   "metadata": {},
   "outputs": [
    {
     "data": {
      "text/plain": [
       "[1, 4, 9, 16, 25, 36, 49, 64, 81, 100, 121, 144]"
      ]
     },
     "execution_count": 14,
     "metadata": {},
     "output_type": "execute_result"
    }
   ],
   "source": [
    "# Mapping a sequence's values to a new values.\n",
    "numbers = [1,2,3,4,5,6,7,8,9,10,11,12]\n",
    "list(map(lambda x: x ** 2, numbers))\n"
   ]
  },
  {
   "cell_type": "code",
   "execution_count": 16,
   "id": "6512c991-cead-48c7-9406-f5ed8ada19ef",
   "metadata": {},
   "outputs": [
    {
     "data": {
      "text/plain": [
       "[1, 4, 9, 16, 25, 36, 49, 64, 81, 100, 121, 144]"
      ]
     },
     "execution_count": 16,
     "metadata": {},
     "output_type": "execute_result"
    }
   ],
   "source": [
    "# we can also use\n",
    "[item ** 2 for item in numbers]"
   ]
  },
  {
   "cell_type": "code",
   "execution_count": 20,
   "id": "62073f19-7bef-4fa4-acd4-c6fe068c4651",
   "metadata": {},
   "outputs": [
    {
     "data": {
      "text/plain": [
       "[1, 9, 25, 49, 81, 121]"
      ]
     },
     "execution_count": 20,
     "metadata": {},
     "output_type": "execute_result"
    }
   ],
   "source": [
    "# combining filter and map\n",
    "numbers = [1,2,3,4,5,6,7,8,9,10,11,12]\n",
    "list(map(lambda x: x ** 2, filter(lambda x: x % 2 != 0, numbers)))"
   ]
  },
  {
   "cell_type": "code",
   "execution_count": 21,
   "id": "4cd4cbd9-5ae2-4add-a898-f79845ff51cd",
   "metadata": {},
   "outputs": [
    {
     "data": {
      "text/plain": [
       "[1, 9, 25, 49, 81, 121]"
      ]
     },
     "execution_count": 21,
     "metadata": {},
     "output_type": "execute_result"
    }
   ],
   "source": [
    "# can also use list comprehension \n",
    "[x ** 2 for x in numbers if x % 2 != 0]\n",
    "\n",
    "# For each value of x and numbers, the expression x ** 2 is performed only if the condition x % 2 != 0 is true.  "
   ]
  },
  {
   "cell_type": "code",
   "execution_count": 23,
   "id": "56708ca5-685b-49ec-bd2c-72d1b7da2a75",
   "metadata": {},
   "outputs": [
    {
     "data": {
      "text/plain": [
       "84"
      ]
     },
     "execution_count": 23,
     "metadata": {},
     "output_type": "execute_result"
    }
   ],
   "source": [
    "# Other sequence processing functions.\n",
    "# ord build-in function which returns the Numerical value of a character\n",
    "ord('R')  # We'll return the numerical value of a character."
   ]
  },
  {
   "cell_type": "code",
   "execution_count": 24,
   "id": "55aa2770-c726-4743-9dbb-e40339e28dca",
   "metadata": {},
   "outputs": [
    {
     "data": {
      "text/plain": [
       "True"
      ]
     },
     "execution_count": 24,
     "metadata": {},
     "output_type": "execute_result"
    }
   ],
   "source": [
    "'Red' < 'orange'  # lowercase has high numerical value than uppercase "
   ]
  },
  {
   "cell_type": "code",
   "execution_count": 25,
   "id": "14b29dd8-9833-4dd1-b121-5b032bbd5d78",
   "metadata": {},
   "outputs": [
    {
     "data": {
      "text/plain": [
       "'Blue'"
      ]
     },
     "execution_count": 25,
     "metadata": {},
     "output_type": "execute_result"
    }
   ],
   "source": [
    "# Let's assume that we like to determine minimum and maximum string using alphabetical order, not numerical yaffir. Lexi graphically order. \n",
    "# If we arrange colors alphabetically, blue, green, orange, red and yellow,\n",
    "colour = ['Blue','green','orange','Red','Yellow']\n",
    "min(colour, key=lambda s: s.lower())"
   ]
  },
  {
   "cell_type": "code",
   "execution_count": 28,
   "id": "4f64fe07-9807-4bb4-997c-809fe6773550",
   "metadata": {},
   "outputs": [
    {
     "data": {
      "text/plain": [
       "'Yellow'"
      ]
     },
     "execution_count": 28,
     "metadata": {},
     "output_type": "execute_result"
    }
   ],
   "source": [
    "max(colour, key=lambda s: s.lower())  # Since python. compares strings using numerical values. \n",
    "                                      # lamdba calls lower(method) to get a stirng's lowercase version"
   ]
  },
  {
   "cell_type": "code",
   "execution_count": 29,
   "id": "9b3ec5da-03a6-4210-b99b-7ca677f8edf3",
   "metadata": {},
   "outputs": [
    {
     "data": {
      "text/plain": [
       "[4, 3, 2, 1]"
      ]
     },
     "execution_count": 29,
     "metadata": {},
     "output_type": "execute_result"
    }
   ],
   "source": [
    "# iterating in reverse order\n",
    "numbers = [1,2,3,4]\n",
    "[item for item in reversed(numbers)]"
   ]
  },
  {
   "cell_type": "code",
   "execution_count": 34,
   "id": "b99f40b7-ca8d-4377-938f-9fd180f2555e",
   "metadata": {},
   "outputs": [
    {
     "name": "stdout",
     "output_type": "stream",
     "text": [
      "Name = goutam - GPA=90\n",
      "Name = Dingi - GPA=80\n",
      "Name = mudit - GPA=90\n"
     ]
    }
   ],
   "source": [
    "# Combining Iterables into tuples of corresponding Elements. using zip build-in function\n",
    "names = ['goutam', 'Dingi', 'mudit']\n",
    "grades_avg = [90,80,90]\n",
    "for name,gpa in zip(names, grades_avg):  #zip function Allows you to iterate over multiple iterables of data at the same time.\n",
    "    print(f'Name = {name} - GPA={gpa}')\n",
    "\n",
    "\n",
    "# note - If names had four elements, but grade average had only three,\n",
    "    # does it function would stop after 3rd element, since grade average is the shortest iterable."
   ]
  },
  {
   "cell_type": "code",
   "execution_count": 36,
   "id": "4caba16e-b20a-4b2c-82b8-9649fbf2aeba",
   "metadata": {},
   "outputs": [
    {
     "data": {
      "text/plain": [
       "[[77, 68, 86, 73], [96, 87, 89, 81], [70, 90, 86, 81]]"
      ]
     },
     "execution_count": 36,
     "metadata": {},
     "output_type": "execute_result"
    }
   ],
   "source": [
    "# Two dimensional list. \n",
    "\n",
    "a = [ [77,68,86,73],\n",
    "      [96,87,89,81],\n",
    "      [70,90,86,81] ]\n",
    "a"
   ]
  },
  {
   "cell_type": "code",
   "execution_count": 37,
   "id": "d88fd88a-1127-4eef-9334-8b0a171fbadc",
   "metadata": {},
   "outputs": [
    {
     "name": "stdout",
     "output_type": "stream",
     "text": [
      "77 68 86 73 \n",
      "96 87 89 81 \n",
      "70 90 86 81 \n"
     ]
    }
   ],
   "source": [
    "#nested for loop\n",
    "for row in a:\n",
    "    for item in row:\n",
    "        print(item,end=\" \")\n",
    "    print()"
   ]
  },
  {
   "cell_type": "code",
   "execution_count": 39,
   "id": "089c7cff-aaec-45ba-9be3-7049965b67df",
   "metadata": {},
   "outputs": [
    {
     "name": "stdout",
     "output_type": "stream",
     "text": [
      " a[0][0] = 77  a[0][1] = 68  a[0][2] = 86  a[0][3] = 73 \n",
      " a[1][0] = 96  a[1][1] = 87  a[1][2] = 89  a[1][3] = 81 \n",
      " a[2][0] = 70  a[2][1] = 90  a[2][2] = 86  a[2][3] = 81 \n"
     ]
    }
   ],
   "source": [
    "# we will modify the nested loop to display list's name ,row,coloum,and its values\n",
    "for i, row in enumerate(a):\n",
    "    for j, item in enumerate(row):\n",
    "        print(f' a[{i}][{j}] = {item}', end=\" \")\n",
    "    print()\n",
    "\n",
    "# note - We will use array-oriented-programming --numpy lib-->ndarray collection| pandas lib's Dataframes collection.\n",
    "# These enabled you to manipulate multi dimensional collection more concisely and conveniently \n",
    "# than the  2 dimensional list manipulations you have seen in this section"
   ]
  },
  {
   "cell_type": "code",
   "execution_count": 41,
   "id": "a3fa8bdb-ab94-4bd3-b35d-e8c94cf24024",
   "metadata": {},
   "outputs": [
    {
     "ename": "ModuleNotFoundError",
     "evalue": "No module named 'matplotlib'",
     "output_type": "error",
     "traceback": [
      "\u001b[1;31m---------------------------------------------------------------------------\u001b[0m",
      "\u001b[1;31mModuleNotFoundError\u001b[0m                       Traceback (most recent call last)",
      "Cell \u001b[1;32mIn[41], line 1\u001b[0m\n\u001b[1;32m----> 1\u001b[0m \u001b[38;5;28;01mimport\u001b[39;00m \u001b[38;5;21;01mmatplotlib\u001b[39;00m\u001b[38;5;21;01m.\u001b[39;00m\u001b[38;5;21;01mpyplot\u001b[39;00m \u001b[38;5;28;01mas\u001b[39;00m \u001b[38;5;21;01mplt\u001b[39;00m\n\u001b[0;32m      2\u001b[0m \u001b[38;5;28;01mimport\u001b[39;00m \u001b[38;5;21;01mnumpy\u001b[39;00m \u001b[38;5;28;01mas\u001b[39;00m \u001b[38;5;21;01mnp\u001b[39;00m\n\u001b[0;32m      3\u001b[0m \u001b[38;5;28;01mimport\u001b[39;00m \u001b[38;5;21;01mrandom\u001b[39;00m\n",
      "\u001b[1;31mModuleNotFoundError\u001b[0m: No module named 'matplotlib'"
     ]
    }
   ],
   "source": [
    "import matplotlib.pyplot as plt\n",
    "import numpy as np\n",
    "import random\n",
    "import seaborn as sns\n",
    "\n",
    "rolls = [random.randrange(1,7) for i in range(600)]\n",
    "values, frequencies = np.unique(rolls, return_counts=True)"
   ]
  },
  {
   "cell_type": "code",
   "execution_count": 7,
   "id": "8aa2e6a5-8af1-43c1-a1a5-15dbad0b7491",
   "metadata": {},
   "outputs": [
    {
     "data": {
      "text/plain": [
       "{'India': 91, 'Pakistan': 92, 'China': '08'}"
      ]
     },
     "execution_count": 7,
     "metadata": {},
     "output_type": "execute_result"
    }
   ],
   "source": [
    "# Dictionary and sets\n",
    "countery_codes = {'India' : 91 , 'Pakistan' : 92 , 'China': '08' }\n",
    "countery_codes"
   ]
  },
  {
   "cell_type": "code",
   "execution_count": 2,
   "id": "471d23f2-1a74-4c14-b2f4-31abcc9e61b7",
   "metadata": {},
   "outputs": [
    {
     "data": {
      "text/plain": [
       "3"
      ]
     },
     "execution_count": 2,
     "metadata": {},
     "output_type": "execute_result"
    }
   ],
   "source": [
    "len(countery_codes)"
   ]
  },
  {
   "cell_type": "code",
   "execution_count": 3,
   "id": "acfd8444-860f-41ea-ac78-d07fc5182fd9",
   "metadata": {},
   "outputs": [
    {
     "name": "stdout",
     "output_type": "stream",
     "text": [
      "Dictonary is not empty\n"
     ]
    }
   ],
   "source": [
    "# dictionary --- flase-- if empty\n",
    "if countery_codes:\n",
    "    print(\"Dictonary is not empty\")\n",
    "else:\n",
    "    print(\"Dictonary is empty\")"
   ]
  },
  {
   "cell_type": "code",
   "execution_count": 8,
   "id": "871e9d66-99c2-4f1d-87a8-c6b75d9e45af",
   "metadata": {},
   "outputs": [
    {
     "data": {
      "text/plain": [
       "{'January': '31', 'Febrary': '28', 'March': '31'}"
      ]
     },
     "execution_count": 8,
     "metadata": {},
     "output_type": "execute_result"
    }
   ],
   "source": [
    "Day_per_month = {'January' : '31' , 'Febrary' : '28' , 'March': '31' }\n",
    "Day_per_month \n",
    "# dictonary are unordered--- The dictionary string representation shows the key value pair in their insertion order. \n",
    "# But it is not guaranteed because the diaries are unordered. We will look into it in latter chapters"
   ]
  },
  {
   "cell_type": "code",
   "execution_count": 10,
   "id": "947a11f9-35d1-4ede-b493-38c8446b14d1",
   "metadata": {},
   "outputs": [
    {
     "name": "stdout",
     "output_type": "stream",
     "text": [
      "January has 31 days\n",
      "Febrary has 28 days\n",
      "March has 31 days\n"
     ]
    }
   ],
   "source": [
    "# For statement iterates through days per month key value fare dictionary method (.items) written each key value  as a tuple,\n",
    "# which we unpack into month and days\n",
    "for month,days in Day_per_month.items():\n",
    "    print(f'{month} has {days} days')\n"
   ]
  },
  {
   "cell_type": "code",
   "execution_count": 11,
   "id": "082efbbe-b5b3-4871-a3c9-2dd006ea0fa7",
   "metadata": {},
   "outputs": [
    {
     "data": {
      "text/plain": [
       "{'I': 1, 'II': 2, 'III': 3, 'IV': 4, 'V': 5, 'X': 100}"
      ]
     },
     "execution_count": 11,
     "metadata": {},
     "output_type": "execute_result"
    }
   ],
   "source": [
    "# Basic operations\n",
    "roman_numerals = {'I' : 1, 'II' : 2, 'III' : 3, 'IV' : 4, 'V' : 5, 'X' : 100 }\n",
    "roman_numerals"
   ]
  },
  {
   "cell_type": "code",
   "execution_count": 12,
   "id": "816e5510-2e39-48ed-a373-45f32f778b9d",
   "metadata": {},
   "outputs": [
    {
     "data": {
      "text/plain": [
       "5"
      ]
     },
     "execution_count": 12,
     "metadata": {},
     "output_type": "execute_result"
    }
   ],
   "source": [
    "#Acessing the values\n",
    "roman_numerals['V']"
   ]
  },
  {
   "cell_type": "code",
   "execution_count": 13,
   "id": "70f51c02-9ea5-4916-b5fa-6b63ff8ae5fb",
   "metadata": {},
   "outputs": [
    {
     "data": {
      "text/plain": [
       "10"
      ]
     },
     "execution_count": 13,
     "metadata": {},
     "output_type": "execute_result"
    }
   ],
   "source": [
    "#updating the existing key-value pair\n",
    "roman_numerals['X'] = 10\n",
    "roman_numerals['X']"
   ]
  },
  {
   "cell_type": "code",
   "execution_count": 14,
   "id": "bd650565-2719-43a8-b58d-4afa43fa6a76",
   "metadata": {},
   "outputs": [
    {
     "data": {
      "text/plain": [
       "{'I': 1, 'II': 2, 'III': 3, 'IV': 4, 'V': 5, 'X': 10, 'K': 13}"
      ]
     },
     "execution_count": 14,
     "metadata": {},
     "output_type": "execute_result"
    }
   ],
   "source": [
    "#Adding new key-value pair ---> remember --> keys are case-sensitive\n",
    "roman_numerals['K'] = 13\n",
    "roman_numerals"
   ]
  },
  {
   "cell_type": "code",
   "execution_count": 15,
   "id": "1fb852da-2625-49a5-9826-055dc5b00223",
   "metadata": {},
   "outputs": [
    {
     "data": {
      "text/plain": [
       "{'I': 1, 'II': 2, 'III': 3, 'IV': 4, 'X': 10, 'K': 13}"
      ]
     },
     "execution_count": 15,
     "metadata": {},
     "output_type": "execute_result"
    }
   ],
   "source": [
    "# Removing a key-value pair\n",
    "del roman_numerals['V']\n",
    "roman_numerals"
   ]
  },
  {
   "cell_type": "code",
   "execution_count": 16,
   "id": "14d98e96-f87d-47ed-bfcf-201750dfca67",
   "metadata": {},
   "outputs": [
    {
     "data": {
      "text/plain": [
       "10"
      ]
     },
     "execution_count": 16,
     "metadata": {},
     "output_type": "execute_result"
    }
   ],
   "source": [
    "# also remove key-value pair by pop method of dictonary ---> it will return the value of removed element\n",
    "roman_numerals.pop('X')"
   ]
  },
  {
   "cell_type": "code",
   "execution_count": 18,
   "id": "94bad597-9233-4e18-b5c3-5bf23a354bcf",
   "metadata": {},
   "outputs": [
    {
     "ename": "KeyError",
     "evalue": "'XI'",
     "output_type": "error",
     "traceback": [
      "\u001b[1;31m---------------------------------------------------------------------------\u001b[0m",
      "\u001b[1;31mKeyError\u001b[0m                                  Traceback (most recent call last)",
      "Cell \u001b[1;32mIn[18], line 2\u001b[0m\n\u001b[0;32m      1\u001b[0m \u001b[38;5;66;03m# Attempting to access non-existing key\u001b[39;00m\n\u001b[1;32m----> 2\u001b[0m \u001b[43mroman_numerals\u001b[49m\u001b[43m[\u001b[49m\u001b[38;5;124;43m'\u001b[39;49m\u001b[38;5;124;43mXI\u001b[39;49m\u001b[38;5;124;43m'\u001b[39;49m\u001b[43m]\u001b[49m\n",
      "\u001b[1;31mKeyError\u001b[0m: 'XI'"
     ]
    }
   ],
   "source": [
    "# Attempting to access non-existing key\n",
    "roman_numerals['XI']\n",
    "\n",
    "#note - you can use get method which return None if key not found"
   ]
  },
  {
   "cell_type": "code",
   "execution_count": 19,
   "id": "05485147-22ea-4e49-9c56-958e6ccaddc0",
   "metadata": {},
   "outputs": [
    {
     "data": {
      "text/plain": [
       "3"
      ]
     },
     "execution_count": 19,
     "metadata": {},
     "output_type": "execute_result"
    }
   ],
   "source": [
    "# using get method\n",
    "roman_numerals.get('III')"
   ]
  },
  {
   "cell_type": "code",
   "execution_count": 22,
   "id": "0ca4df07-f6af-46f4-9518-f8f0a0f70fb2",
   "metadata": {},
   "outputs": [
    {
     "data": {
      "text/plain": [
       "'XI not in dictionary'"
      ]
     },
     "execution_count": 22,
     "metadata": {},
     "output_type": "execute_result"
    }
   ],
   "source": [
    "roman_numerals.get('XI' ,'XI not in dictionary') "
   ]
  },
  {
   "cell_type": "code",
   "execution_count": 23,
   "id": "e399db6d-8324-4f7f-af8a-f611b30c402f",
   "metadata": {},
   "outputs": [
    {
     "data": {
      "text/plain": [
       "3"
      ]
     },
     "execution_count": 23,
     "metadata": {},
     "output_type": "execute_result"
    }
   ],
   "source": [
    "roman_numerals.get('III', 'III is not in dictonary') # if found--then got value AND if not found-- String associated will be printed."
   ]
  },
  {
   "cell_type": "code",
   "execution_count": 24,
   "id": "233a675b-11b6-4890-8642-25dfebfa00df",
   "metadata": {},
   "outputs": [
    {
     "data": {
      "text/plain": [
       "False"
      ]
     },
     "execution_count": 24,
     "metadata": {},
     "output_type": "execute_result"
    }
   ],
   "source": [
    "# Testing Wheather a Dictonary contains a specified key\n",
    "# using 'in' and 'not in'\n",
    "'V' in roman_numerals\n"
   ]
  },
  {
   "cell_type": "code",
   "execution_count": 25,
   "id": "c587c698-4eac-4d0c-ba0d-88580551ca84",
   "metadata": {},
   "outputs": [
    {
     "data": {
      "text/plain": [
       "True"
      ]
     },
     "execution_count": 25,
     "metadata": {},
     "output_type": "execute_result"
    }
   ],
   "source": [
    "'III' in roman_numerals"
   ]
  },
  {
   "cell_type": "code",
   "execution_count": 26,
   "id": "dde5944a-aa56-498a-b10e-656743a7482c",
   "metadata": {},
   "outputs": [
    {
     "data": {
      "text/plain": [
       "True"
      ]
     },
     "execution_count": 26,
     "metadata": {},
     "output_type": "execute_result"
    }
   ],
   "source": [
    "'XI' not in roman_numerals"
   ]
  },
  {
   "cell_type": "code",
   "execution_count": 38,
   "id": "458e0520-8e20-4a0a-9ec2-c18c4be18e9b",
   "metadata": {},
   "outputs": [
    {
     "name": "stdout",
     "output_type": "stream",
     "text": [
      "January Febrary March April "
     ]
    }
   ],
   "source": [
    "\n",
    "#just like we have --> item method of dictionary | we also have .keys , .values method each will return the dictnary's data\n",
    "month = {'January':1, 'Febrary':2 , 'March':3, 'April':4}\n",
    "for month_name in month.keys():\n",
    "    print(month_name, end=\" \")\n",
    "\n",
    "\n",
    "    "
   ]
  },
  {
   "cell_type": "code",
   "execution_count": 39,
   "id": "6a2578ff-1037-44f8-b932-fc178b8bdc88",
   "metadata": {},
   "outputs": [
    {
     "name": "stdout",
     "output_type": "stream",
     "text": [
      "1 2 3 4 "
     ]
    }
   ],
   "source": [
    "for month_number in month.values():\n",
    "    print(month_number, end=\" \")"
   ]
  },
  {
   "cell_type": "code",
   "execution_count": 40,
   "id": "83ca939a-a550-4964-8586-9057c7278727",
   "metadata": {},
   "outputs": [
    {
     "name": "stdout",
     "output_type": "stream",
     "text": [
      "January Febrary March April "
     ]
    }
   ],
   "source": [
    "# Dictonary View\n",
    "months_view = month.keys()\n",
    "\n",
    "for key in months_view:\n",
    "    print(key, end=\" \")"
   ]
  },
  {
   "cell_type": "code",
   "execution_count": 41,
   "id": "9ea6b529-017b-41c5-85ed-beb9ddfa0b9c",
   "metadata": {},
   "outputs": [],
   "source": [
    "months['April'] = 44"
   ]
  },
  {
   "cell_type": "code",
   "execution_count": 42,
   "id": "cd206b04-69c1-45bb-9d58-7492814e3a9e",
   "metadata": {},
   "outputs": [
    {
     "data": {
      "text/plain": [
       "{'January': 1, 'Febrary': 2, 'March': 3, 'April': 44}"
      ]
     },
     "execution_count": 42,
     "metadata": {},
     "output_type": "execute_result"
    }
   ],
   "source": [
    "months"
   ]
  },
  {
   "cell_type": "code",
   "execution_count": 44,
   "id": "b888ab3f-a6c3-4cca-862a-2904f3136baa",
   "metadata": {},
   "outputs": [
    {
     "name": "stdout",
     "output_type": "stream",
     "text": [
      "January Febrary March April "
     ]
    }
   ],
   "source": [
    "for key in months_view:\n",
    "    print(key, end=\" \")"
   ]
  },
  {
   "cell_type": "code",
   "execution_count": 45,
   "id": "24ce9ea5-689c-4dbc-bc89-7bacc2f4defb",
   "metadata": {},
   "outputs": [
    {
     "data": {
      "text/plain": [
       "['January', 'Febrary', 'March', 'April']"
      ]
     },
     "execution_count": 45,
     "metadata": {},
     "output_type": "execute_result"
    }
   ],
   "source": [
    "# converting Dic-- key,values or key-values pair into lists\n",
    "list(month.keys())"
   ]
  },
  {
   "cell_type": "code",
   "execution_count": 46,
   "id": "5aed4396-2ee2-41a4-bafe-ba80f14e9f54",
   "metadata": {},
   "outputs": [
    {
     "data": {
      "text/plain": [
       "[1, 2, 3, 4]"
      ]
     },
     "execution_count": 46,
     "metadata": {},
     "output_type": "execute_result"
    }
   ],
   "source": [
    "list(month.values())"
   ]
  },
  {
   "cell_type": "code",
   "execution_count": 47,
   "id": "8f54876a-4ff0-418a-aad8-39caff0e169d",
   "metadata": {},
   "outputs": [
    {
     "data": {
      "text/plain": [
       "[('January', 1), ('Febrary', 2), ('March', 3), ('April', 44)]"
      ]
     },
     "execution_count": 47,
     "metadata": {},
     "output_type": "execute_result"
    }
   ],
   "source": [
    "list(months.items())"
   ]
  },
  {
   "cell_type": "code",
   "execution_count": 49,
   "id": "5f4159f3-68e3-4b8d-8a6c-ecc41c546deb",
   "metadata": {},
   "outputs": [
    {
     "name": "stdout",
     "output_type": "stream",
     "text": [
      "April Febrary January March "
     ]
    }
   ],
   "source": [
    "# processing keys in sorted order\n",
    "for month_name in sorted(month.keys()):\n",
    "    print(month_name, end=\" \")"
   ]
  },
  {
   "cell_type": "code",
   "execution_count": 50,
   "id": "daa71383-727f-4e9a-9266-b10d15a86053",
   "metadata": {},
   "outputs": [
    {
     "data": {
      "text/plain": [
       "False"
      ]
     },
     "execution_count": 50,
     "metadata": {},
     "output_type": "execute_result"
    }
   ],
   "source": [
    "# Dictionary comparisions\n",
    "fruits1 = {'Bhindi':2, 'Potato':3 }\n",
    "fruits2 = {'Tomato':1, 'chilli':4 }\n",
    "fruits1 == fruits2"
   ]
  },
  {
   "cell_type": "code",
   "execution_count": 51,
   "id": "b710dcf1-7cbd-4508-8e9f-167b6650fffc",
   "metadata": {},
   "outputs": [
    {
     "data": {
      "text/plain": [
       "True"
      ]
     },
     "execution_count": 51,
     "metadata": {},
     "output_type": "execute_result"
    }
   ],
   "source": [
    "fruits1 != fruits2"
   ]
  },
  {
   "cell_type": "code",
   "execution_count": 59,
   "id": "b5bfdd0a-13a0-47f5-b53d-94f809808032",
   "metadata": {},
   "outputs": [
    {
     "name": "stdout",
     "output_type": "stream",
     "text": [
      " Average for Susan is 92.33\n",
      " Average for Eduardo is 85.67\n",
      " Average for Azizi is 90.67\n",
      " Average for Pantipa is 93.33\n",
      "class's Average is : 90.50\n"
     ]
    }
   ],
   "source": [
    "#Dictionary of a student Grades -- marks of 4 students in 3 subjects\n",
    "Grade_book = {\n",
    "    \"Susan\" : [92,85,100],\n",
    "    \"Eduardo\" : [83,95,79],\n",
    "    \"Azizi\" : [91,89,92],\n",
    "    \"Pantipa\" : [97,91,92] }\n",
    "all_grades_total = 0\n",
    "all_grades_count = 0\n",
    "\n",
    "for name, grades in Grade_book.items():\n",
    "    total = sum(grades)\n",
    "    print(f' Average for {name} is {total/len(grades):.2f}')\n",
    "    all_grades_total += total\n",
    "    all_grades_count += len(grades)\n",
    "\n",
    "print(f\"class's Average is : {all_grades_total / all_grades_count :.2f}\")"
   ]
  },
  {
   "cell_type": "code",
   "execution_count": 70,
   "id": "2659a7ca-68be-403a-afec-166b4822eaae",
   "metadata": {},
   "outputs": [
    {
     "name": "stdout",
     "output_type": "stream",
     "text": [
      "WORD        COUNT\n",
      "different   1\n",
      "is          2\n",
      "more        1\n",
      "sample      2\n",
      "several     1\n",
      "some        1\n",
      "text        2\n",
      "this        2\n",
      "with        2\n",
      "words       2\n",
      "\n",
      " Number of unique words: 10\n"
     ]
    }
   ],
   "source": [
    "# example -- Word count\n",
    "text = 'this is sample text with several words this is more sample text with some different words'\n",
    "word_count = {}\n",
    "\n",
    "#count occurance of each unique word\n",
    "for word in text.split():\n",
    "    if word in word_count:\n",
    "        word_count[word] += 1  # update existing key-value pair\n",
    "    else:\n",
    "        word_count[word] = 1   #insert new key-value pair\n",
    "print(f'{\"WORD\":<12}COUNT')\n",
    "\n",
    "for word, count in sorted(word_count.items()):\n",
    "    print(f'{word:<12}{count}')\n",
    "\n",
    "print('\\n Number of unique words:', len(word_count))"
   ]
  },
  {
   "cell_type": "code",
   "execution_count": 69,
   "id": "590dca74-7814-481d-8e12-5a47c4109079",
   "metadata": {},
   "outputs": [
    {
     "name": "stdout",
     "output_type": "stream",
     "text": [
      "different   1\n",
      "is          2\n",
      "more        1\n",
      "sample      2\n",
      "several     1\n",
      "some        1\n",
      "text        2\n",
      "this        2\n",
      "with        2\n",
      "words       2\n",
      "Number of unique keys: 10\n"
     ]
    }
   ],
   "source": [
    "# Python standard library module collection\n",
    "# This library contains counting functionality that we implemented using the dictionary and loop.\n",
    "# The module collection contains the type counter which receives an eye driver and summarizes its elements.\n",
    "# Let's re implement the preceding script in fuel lines of code with counter\n",
    "\n",
    "from collections import Counter\n",
    "text = 'this is sample text with several words this is more sample text with some different words'\n",
    "\n",
    "counter = Counter(text.split())\n",
    "for word, count in sorted(counter.items()):\n",
    "    print(f'{word:<12}{count}')\n",
    "\n",
    "print('Number of unique keys:' ,len(counter.keys()))"
   ]
  },
  {
   "cell_type": "code",
   "execution_count": 72,
   "id": "a3ee93e6-4e79-4474-a45a-476d648411d4",
   "metadata": {},
   "outputs": [
    {
     "data": {
      "text/plain": [
       "{'South Africa': 'za'}"
      ]
     },
     "execution_count": 72,
     "metadata": {},
     "output_type": "execute_result"
    }
   ],
   "source": [
    "#Dictionary method update\n",
    "#update method ---insert key-value pair and can also update it\n",
    "country_codes ={}\n",
    "country_codes.update({'South Africa':'za'})\n",
    "country_codes"
   ]
  },
  {
   "cell_type": "code",
   "execution_count": 73,
   "id": "bcbe6c30-a2a0-4c3e-959d-f478ea24f234",
   "metadata": {},
   "outputs": [
    {
     "data": {
      "text/plain": [
       "{'South Africa': 'za', 'Australia': 'au'}"
      ]
     },
     "execution_count": 73,
     "metadata": {},
     "output_type": "execute_result"
    }
   ],
   "source": [
    "country_codes.update(Australia='au') # it took Australia as stirng as a key and au as its value\n",
    "country_codes"
   ]
  },
  {
   "cell_type": "code",
   "execution_count": 74,
   "id": "3b88664f-3775-4e1b-a4d0-63bd67d312e3",
   "metadata": {},
   "outputs": [
    {
     "data": {
      "text/plain": [
       "{1: 'view', 2: 'hear'}"
      ]
     },
     "execution_count": 74,
     "metadata": {},
     "output_type": "execute_result"
    }
   ],
   "source": [
    "# Reversing key-value pair in dictonary\n",
    "dic = {'view' : 1 ,'hear' : 2 }\n",
    "dic2 = {number:name for name, number in dic.items()}\n",
    "dic2"
   ]
  },
  {
   "cell_type": "code",
   "execution_count": 75,
   "id": "2e508421-b25e-49f8-8ba6-376b8f845a16",
   "metadata": {},
   "outputs": [
    {
     "data": {
      "text/plain": [
       "{1: 'January', 2: 'Febrary', 3: 'March'}"
      ]
     },
     "execution_count": 75,
     "metadata": {},
     "output_type": "execute_result"
    }
   ],
   "source": [
    "month = {'January':1, 'Febrary':2, 'March':3}\n",
    "month2 = {number : name for name, number in month.items()}\n",
    "month2"
   ]
  },
  {
   "cell_type": "code",
   "execution_count": 79,
   "id": "be6b7084-7a9b-4557-8567-f9ccc981eb5d",
   "metadata": {},
   "outputs": [
    {
     "data": {
      "text/plain": [
       "{'Sue': 93.0, 'Bob': 90.0}"
      ]
     },
     "execution_count": 79,
     "metadata": {},
     "output_type": "execute_result"
    }
   ],
   "source": [
    "#another example\n",
    "grades = {'Sue':[98,87,94], 'Bob':[84,95,91]}\n",
    "grades2 = {k: sum(v) / len(v) for k, v in grades.items()}\n",
    "grades2"
   ]
  },
  {
   "cell_type": "code",
   "execution_count": 81,
   "id": "6d2735f9-1270-4e6b-ab6c-06963d4b3f8d",
   "metadata": {},
   "outputs": [
    {
     "data": {
      "text/plain": [
       "{'blue', 'green', 'orange', 'red', 'yellow'}"
      ]
     },
     "execution_count": 81,
     "metadata": {},
     "output_type": "execute_result"
    }
   ],
   "source": [
    "# sets\n",
    "# Some points to remember\n",
    "# It is unordered collection of unique values. only contain immutable objects like string and float tuple.\n",
    "# sets , do not support indexing and slicing with a square bracket. Dictionaries also do not support slicing\n",
    "# Important use of set is duplicate elimination automatically when creating a set.\n",
    "# Resulting set value or not displayed in the same order as they were listed in snippet 1\n",
    "# You should not write code that depends on the order of their elements.\n",
    "\n",
    "colors = {'red', 'orange', 'yellow', 'green', 'red', 'blue' }\n",
    "colors"
   ]
  },
  {
   "cell_type": "code",
   "execution_count": 82,
   "id": "d1e4cdf7-7f41-4e92-8e0e-131e0fa5b66e",
   "metadata": {},
   "outputs": [
    {
     "data": {
      "text/plain": [
       "5"
      ]
     },
     "execution_count": 82,
     "metadata": {},
     "output_type": "execute_result"
    }
   ],
   "source": [
    "#Length of a set\n",
    "len(colors)"
   ]
  },
  {
   "cell_type": "code",
   "execution_count": 83,
   "id": "fa40904c-b1de-4eda-bd95-f872b2a03e47",
   "metadata": {},
   "outputs": [
    {
     "data": {
      "text/plain": [
       "True"
      ]
     },
     "execution_count": 83,
     "metadata": {},
     "output_type": "execute_result"
    }
   ],
   "source": [
    "#Cheaking whether a value is in a set\n",
    "'red' in colors"
   ]
  },
  {
   "cell_type": "code",
   "execution_count": 84,
   "id": "50a22bd3-75ed-4708-afe8-ae4da4643c99",
   "metadata": {},
   "outputs": [
    {
     "data": {
      "text/plain": [
       "False"
      ]
     },
     "execution_count": 84,
     "metadata": {},
     "output_type": "execute_result"
    }
   ],
   "source": [
    "'puple' in colors"
   ]
  },
  {
   "cell_type": "code",
   "execution_count": 85,
   "id": "52e48fc6-6453-49df-a797-219fdd460532",
   "metadata": {},
   "outputs": [
    {
     "data": {
      "text/plain": [
       "True"
      ]
     },
     "execution_count": 85,
     "metadata": {},
     "output_type": "execute_result"
    }
   ],
   "source": [
    "'purple' not in colors"
   ]
  },
  {
   "cell_type": "code",
   "execution_count": 87,
   "id": "5492d164-dd5e-4cf4-8f2e-1abebc5b6eb0",
   "metadata": {},
   "outputs": [
    {
     "name": "stdout",
     "output_type": "stream",
     "text": [
      "GREEN ORANGE YELLOW RED BLUE "
     ]
    }
   ],
   "source": [
    "#Iterating Through a set -- sets are iterable, so you can process each element with a for loop.\n",
    "for color in colors:\n",
    "    print(color.upper(), end=\" \")"
   ]
  },
  {
   "cell_type": "code",
   "execution_count": 89,
   "id": "8aec2c91-8900-45a8-82ff-5e7dd37f70ce",
   "metadata": {},
   "outputs": [
    {
     "data": {
      "text/plain": [
       "{1, 2, 3, 4, 5, 6, 7, 8, 9}"
      ]
     },
     "execution_count": 89,
     "metadata": {},
     "output_type": "execute_result"
    }
   ],
   "source": [
    "#creating a set with Built-in set Function\n",
    "list = [1,2,3,4,5,6,7,8,9]\n",
    "set(list)"
   ]
  },
  {
   "cell_type": "code",
   "execution_count": 99,
   "id": "0d05fead-dcfd-4d5c-b0b4-2645d07e353f",
   "metadata": {},
   "outputs": [
    {
     "data": {
      "text/plain": [
       "set()"
      ]
     },
     "execution_count": 99,
     "metadata": {},
     "output_type": "execute_result"
    }
   ],
   "source": [
    "# creating empty set\n",
    "# do not use {} --> empty curly braces \n",
    "# use empty paranthesis\n",
    "set() \n",
    "\n",
    "# note :- Python displays an empty set as set() to avoid confusion with python string representation of an empty dictionary.({})"
   ]
  },
  {
   "cell_type": "code",
   "execution_count": null,
   "id": "da26d107-0b20-471f-a64f-d0a568adf13e",
   "metadata": {},
   "outputs": [],
   "source": [
    "# Frozenset : An Immutable set Type\n",
    "# Sets are mutable -- you can add,remove element ,but set ele must be immutable.\n",
    "# therefore a set cannot have other sets as element\n",
    "# All frozen Immutable said it can not be modified after you created. So asset can contain frozen set as element.\n",
    "# The building function frozen set creates a frozen set from any iterable.."
   ]
  },
  {
   "cell_type": "code",
   "execution_count": 100,
   "id": "38d731b1-e772-427e-acb1-bd7c9e5173d7",
   "metadata": {},
   "outputs": [
    {
     "data": {
      "text/plain": [
       "True"
      ]
     },
     "execution_count": 100,
     "metadata": {},
     "output_type": "execute_result"
    }
   ],
   "source": [
    "# compairing sets\n",
    "{1,2,3} == {1,2,3}"
   ]
  },
  {
   "cell_type": "code",
   "execution_count": 103,
   "id": "96d3700b-3cad-46f8-9c25-1e36ca7d9ece",
   "metadata": {},
   "outputs": [
    {
     "data": {
      "text/plain": [
       "False"
      ]
     },
     "execution_count": 103,
     "metadata": {},
     "output_type": "execute_result"
    }
   ],
   "source": [
    "{1,2,3} < {1,2,3}"
   ]
  },
  {
   "cell_type": "code",
   "execution_count": 104,
   "id": "83a8f3e8-8d3f-4f0a-8058-7c999dbe25a4",
   "metadata": {},
   "outputs": [
    {
     "data": {
      "text/plain": [
       "True"
      ]
     },
     "execution_count": 104,
     "metadata": {},
     "output_type": "execute_result"
    }
   ],
   "source": [
    "{1,2,3} <= {1,2,3}"
   ]
  },
  {
   "cell_type": "code",
   "execution_count": 105,
   "id": "d1bd8fab-370f-4363-9795-9ee1a0003a28",
   "metadata": {},
   "outputs": [
    {
     "data": {
      "text/plain": [
       "True"
      ]
     },
     "execution_count": 105,
     "metadata": {},
     "output_type": "execute_result"
    }
   ],
   "source": [
    "{1,2,3}.issubset({1,2,3})"
   ]
  },
  {
   "cell_type": "code",
   "execution_count": 106,
   "id": "710a20f0-b205-4641-bee4-a08a0ab81b99",
   "metadata": {},
   "outputs": [
    {
     "data": {
      "text/plain": [
       "True"
      ]
     },
     "execution_count": 106,
     "metadata": {},
     "output_type": "execute_result"
    }
   ],
   "source": [
    "{1,2,3} >= {1,2,3}"
   ]
  },
  {
   "cell_type": "code",
   "execution_count": 107,
   "id": "9a814499-fd74-45c9-a641-1cc228cf03f0",
   "metadata": {},
   "outputs": [
    {
     "data": {
      "text/plain": [
       "False"
      ]
     },
     "execution_count": 107,
     "metadata": {},
     "output_type": "execute_result"
    }
   ],
   "source": [
    "{1,2,3} > {1,2,3}"
   ]
  },
  {
   "cell_type": "code",
   "execution_count": 112,
   "id": "2a5df1a0-aeae-4586-9165-9cff25228c28",
   "metadata": {},
   "outputs": [
    {
     "data": {
      "text/plain": [
       "True"
      ]
     },
     "execution_count": 112,
     "metadata": {},
     "output_type": "execute_result"
    }
   ],
   "source": [
    "{1,2,3}.issuperset({1,2,3})"
   ]
  },
  {
   "cell_type": "code",
   "execution_count": 113,
   "id": "87b3851e-0324-42b0-96b5-072634ae8cdb",
   "metadata": {},
   "outputs": [
    {
     "data": {
      "text/plain": [
       "{1, 2, 3, 4}"
      ]
     },
     "execution_count": 113,
     "metadata": {},
     "output_type": "execute_result"
    }
   ],
   "source": [
    "# Set - Union\n",
    "{1,2,3} | {2,3,4}"
   ]
  },
  {
   "cell_type": "code",
   "execution_count": 119,
   "id": "23a4c10d-f6af-4d7d-b0f0-a717a463cdc2",
   "metadata": {},
   "outputs": [
    {
     "data": {
      "text/plain": [
       "{1, 2, 3, 4, 5, 6}"
      ]
     },
     "execution_count": 119,
     "metadata": {},
     "output_type": "execute_result"
    }
   ],
   "source": [
    "{1,2,3}.union([4,5,6])"
   ]
  },
  {
   "cell_type": "code",
   "execution_count": 120,
   "id": "f056db69-d6cd-477f-9d10-8f3419ae6ab9",
   "metadata": {},
   "outputs": [
    {
     "data": {
      "text/plain": [
       "{2, 3}"
      ]
     },
     "execution_count": 120,
     "metadata": {},
     "output_type": "execute_result"
    }
   ],
   "source": [
    "# Intersection\n",
    "{1,2,3} & {2,3,4}"
   ]
  },
  {
   "cell_type": "code",
   "execution_count": 121,
   "id": "a2f20b64-b071-4522-87df-bf8be2753b9e",
   "metadata": {},
   "outputs": [
    {
     "data": {
      "text/plain": [
       "{1, 2, 3}"
      ]
     },
     "execution_count": 121,
     "metadata": {},
     "output_type": "execute_result"
    }
   ],
   "source": [
    "{1,2,3}.intersection([1,2,2,3,3,4,4])"
   ]
  },
  {
   "cell_type": "code",
   "execution_count": 125,
   "id": "6cd8ee33-275a-46ff-8079-76a8a50c5d52",
   "metadata": {},
   "outputs": [
    {
     "data": {
      "text/plain": [
       "{4, 5}"
      ]
     },
     "execution_count": 125,
     "metadata": {},
     "output_type": "execute_result"
    }
   ],
   "source": [
    "# diffence - The difference between two set is a set consisting of elements in the left of rent data, not in the right of rent. \n",
    "# You can calculate a difference with - operator\n",
    "{1,2,3,4,5} - {1,2,3}\n"
   ]
  },
  {
   "cell_type": "code",
   "execution_count": 126,
   "id": "a2bb80d4-04d8-4390-9137-488c4cf9af6d",
   "metadata": {},
   "outputs": [
    {
     "data": {
      "text/plain": [
       "{1, 2, 4, 5}"
      ]
     },
     "execution_count": 126,
     "metadata": {},
     "output_type": "execute_result"
    }
   ],
   "source": [
    "# Symmetric diffrence - Both sets that are not in common with one another.\n",
    "{1,3,5} ^ {2,3,4}"
   ]
  },
  {
   "cell_type": "code",
   "execution_count": 131,
   "id": "5132e1b2-090b-4e94-a740-05e837ea425a",
   "metadata": {},
   "outputs": [
    {
     "data": {
      "text/plain": [
       "{1, 2, 4, 5, 7}"
      ]
     },
     "execution_count": 131,
     "metadata": {},
     "output_type": "execute_result"
    }
   ],
   "source": [
    "{1,3,5,7}.symmetric_difference([2,2,3,3,4,4])"
   ]
  },
  {
   "cell_type": "code",
   "execution_count": 132,
   "id": "27a6790e-5d80-4e7b-a568-6ecaa2f016d3",
   "metadata": {},
   "outputs": [
    {
     "data": {
      "text/plain": [
       "True"
      ]
     },
     "execution_count": 132,
     "metadata": {},
     "output_type": "execute_result"
    }
   ],
   "source": [
    "# Disjoint- If they do not have any common element.\n",
    "{1,3,5}.isdisjoint([2,4,6])"
   ]
  },
  {
   "cell_type": "code",
   "execution_count": 134,
   "id": "e81602c5-e33d-461b-975c-fb3b809c29c6",
   "metadata": {},
   "outputs": [
    {
     "data": {
      "text/plain": [
       "{1, 2, 3, 4, 5}"
      ]
     },
     "execution_count": 134,
     "metadata": {},
     "output_type": "execute_result"
    }
   ],
   "source": [
    "# Mutable Set Operations and Methods --> |= this is Union augmented assignment. \n",
    "# Performs a set union operation, but modifies its \"|=\" left operant.\n",
    "numbers = {1,3,5}\n",
    "numbers |= {2,3,4}  \n",
    "numbers"
   ]
  },
  {
   "cell_type": "code",
   "execution_count": 135,
   "id": "69af269b-bd79-4c31-9d0c-0f8b5b8e4a5e",
   "metadata": {},
   "outputs": [],
   "source": [
    "numbers.update(range(10))"
   ]
  },
  {
   "cell_type": "code",
   "execution_count": 136,
   "id": "5bbe72bb-ac9f-40e0-bfc6-1c1803dd3c78",
   "metadata": {},
   "outputs": [
    {
     "data": {
      "text/plain": [
       "{0, 1, 2, 3, 4, 5, 6, 7, 8, 9}"
      ]
     },
     "execution_count": 136,
     "metadata": {},
     "output_type": "execute_result"
    }
   ],
   "source": [
    "numbers"
   ]
  },
  {
   "cell_type": "code",
   "execution_count": 137,
   "id": "a9232637-9609-44d7-899d-f9f661309a31",
   "metadata": {},
   "outputs": [
    {
     "data": {
      "text/plain": [
       "{0, 1, 2, 3, 4, 5, 6, 7, 8, 9, 17}"
      ]
     },
     "execution_count": 137,
     "metadata": {},
     "output_type": "execute_result"
    }
   ],
   "source": [
    "#Method for Adding and Removing Elements \n",
    "# Set method add insert its argument if argument is not already in the set. Otherwise set Remain unchanged\n",
    "numbers.add(17)\n",
    "numbers"
   ]
  },
  {
   "cell_type": "code",
   "execution_count": 139,
   "id": "0c0de001-d1a3-4da0-9ea2-e3b2722cba86",
   "metadata": {},
   "outputs": [
    {
     "data": {
      "text/plain": [
       "{0, 1, 2, 3, 4, 5, 6, 7, 8, 9, 17}"
      ]
     },
     "execution_count": 139,
     "metadata": {},
     "output_type": "execute_result"
    }
   ],
   "source": [
    "numbers.add(3)\n",
    "numbers"
   ]
  },
  {
   "cell_type": "code",
   "execution_count": 140,
   "id": "26421d0a-4689-4d61-8b3a-9b17d30d253e",
   "metadata": {},
   "outputs": [
    {
     "data": {
      "text/plain": [
       "{0, 1, 2, 4, 5, 6, 7, 8, 9, 17}"
      ]
     },
     "execution_count": 140,
     "metadata": {},
     "output_type": "execute_result"
    }
   ],
   "source": [
    "# Remove method - Removes its argument from the set a key error occurs if the value is not in the set.\n",
    "numbers.remove(3)\n",
    "numbers"
   ]
  },
  {
   "cell_type": "code",
   "execution_count": 141,
   "id": "4ae42342-f650-41d6-baf7-ae3769dca3b7",
   "metadata": {},
   "outputs": [
    {
     "data": {
      "text/plain": [
       "0"
      ]
     },
     "execution_count": 141,
     "metadata": {},
     "output_type": "execute_result"
    }
   ],
   "source": [
    "# Discard method also remove its argument from the set, but does not cause an exception if the value is not in the set.\n",
    "# You can also use remove an arbitrary set element And return it with pop, but sets are nodded, so you do not know which element will be returned.\n",
    "numbers.pop()"
   ]
  },
  {
   "cell_type": "code",
   "execution_count": 143,
   "id": "a4caf5f1-d4f6-4531-ba8e-34548c52caec",
   "metadata": {},
   "outputs": [
    {
     "data": {
      "text/plain": [
       "1"
      ]
     },
     "execution_count": 143,
     "metadata": {},
     "output_type": "execute_result"
    }
   ],
   "source": [
    "numbers.pop()"
   ]
  },
  {
   "cell_type": "code",
   "execution_count": 144,
   "id": "0cd6531c-da9d-4438-8c07-025c738ced91",
   "metadata": {},
   "outputs": [
    {
     "data": {
      "text/plain": [
       "2"
      ]
     },
     "execution_count": 144,
     "metadata": {},
     "output_type": "execute_result"
    }
   ],
   "source": [
    "numbers.pop()  # A  keyerror occurs if the set is empty when you call pop."
   ]
  },
  {
   "cell_type": "code",
   "execution_count": 145,
   "id": "161839d7-3a40-4720-b349-8b17ce5b1577",
   "metadata": {},
   "outputs": [],
   "source": [
    "# method clear --- will clear empties the set on which it's called\n",
    "numbers.clear()"
   ]
  },
  {
   "cell_type": "code",
   "execution_count": 146,
   "id": "dd7f28dc-4424-4484-8a9c-f245e5da68cd",
   "metadata": {},
   "outputs": [
    {
     "data": {
      "text/plain": [
       "set()"
      ]
     },
     "execution_count": 146,
     "metadata": {},
     "output_type": "execute_result"
    }
   ],
   "source": [
    "numbers"
   ]
  },
  {
   "cell_type": "code",
   "execution_count": 147,
   "id": "bed012d4-0ec0-4007-908b-9969241efe92",
   "metadata": {},
   "outputs": [
    {
     "data": {
      "text/plain": [
       "{2, 4, 6, 8, 10}"
      ]
     },
     "execution_count": 147,
     "metadata": {},
     "output_type": "execute_result"
    }
   ],
   "source": [
    "# Set Comprehensions\n",
    "# Let's create a new set containing on....nique even values in the list numbers\n",
    "numbers = [1,2,2,3,4,5,6,6,7,8,9,10,10]\n",
    "evens = {item for item in numbers if item % 2 == 0}\n",
    "evens"
   ]
  },
  {
   "cell_type": "code",
   "execution_count": 1,
   "id": "689a11d9-72bf-45ae-b7dc-062eb41a2f57",
   "metadata": {},
   "outputs": [
    {
     "data": {
      "text/plain": [
       "array([ 2,  3,  5,  7, 11])"
      ]
     },
     "execution_count": 1,
     "metadata": {},
     "output_type": "execute_result"
    }
   ],
   "source": [
    "# Array oriented programming with Numpy.\n",
    "import numpy as np\n",
    "numbers = np.array([ 2,  3,  5,  7,  11])\n",
    "numbers\n"
   ]
  },
  {
   "cell_type": "code",
   "execution_count": 3,
   "id": "fa0caacc-8860-4925-9c1b-d0f2bc7c8ad0",
   "metadata": {},
   "outputs": [
    {
     "data": {
      "text/plain": [
       "array([[1, 2, 3],\n",
       "       [4, 5, 6]])"
      ]
     },
     "execution_count": 3,
     "metadata": {},
     "output_type": "execute_result"
    }
   ],
   "source": [
    "# Multidimensional array\n",
    "numbers = np.array([[1,2,3],[4,5,6]])\n",
    "numbers"
   ]
  },
  {
   "cell_type": "code",
   "execution_count": 4,
   "id": "12911edc-805d-415c-928c-11c5ef51c56c",
   "metadata": {},
   "outputs": [
    {
     "data": {
      "text/plain": [
       "array([[1, 2, 3],\n",
       "       [4, 5, 6]])"
      ]
     },
     "execution_count": 4,
     "metadata": {},
     "output_type": "execute_result"
    }
   ],
   "source": [
    "integer = np.array([[1,2,3],[4,5,6]])\n",
    "integer"
   ]
  },
  {
   "cell_type": "code",
   "execution_count": 5,
   "id": "49f70877-54d3-4d45-973d-25e612a3e46f",
   "metadata": {},
   "outputs": [
    {
     "data": {
      "text/plain": [
       "array([[12.2, 12.3],\n",
       "       [13.2, 13.3]])"
      ]
     },
     "execution_count": 5,
     "metadata": {},
     "output_type": "execute_result"
    }
   ],
   "source": [
    "float = np.array([[12.2,12.3],[13.2,13.3]])\n",
    "float"
   ]
  },
  {
   "cell_type": "code",
   "execution_count": 10,
   "id": "0184600b-7210-4296-b878-d53df20d6f84",
   "metadata": {},
   "outputs": [
    {
     "data": {
      "text/plain": [
       "array([0. , 0.1])"
      ]
     },
     "execution_count": 10,
     "metadata": {},
     "output_type": "execute_result"
    }
   ],
   "source": [
    "float = np.array([0.0,0.1]) # Numpy does not display trailing zeros to the right of the decimal point in the floating point values\n",
    "float"
   ]
  },
  {
   "cell_type": "code",
   "execution_count": 11,
   "id": "94f21755-6f29-451f-a29e-6abfc7154811",
   "metadata": {},
   "outputs": [
    {
     "data": {
      "text/plain": [
       "dtype('int64')"
      ]
     },
     "execution_count": 11,
     "metadata": {},
     "output_type": "execute_result"
    }
   ],
   "source": [
    "# determining the array element type\n",
    "integer.dtype"
   ]
  },
  {
   "cell_type": "code",
   "execution_count": 12,
   "id": "06395c12-4657-42dc-b3dd-f66aaecefc65",
   "metadata": {},
   "outputs": [
    {
     "data": {
      "text/plain": [
       "dtype('float64')"
      ]
     },
     "execution_count": 12,
     "metadata": {},
     "output_type": "execute_result"
    }
   ],
   "source": [
    "float.dtype"
   ]
  },
  {
   "cell_type": "code",
   "execution_count": 13,
   "id": "46871412-1ad9-4eb9-bcec-fdcde0b6569e",
   "metadata": {},
   "outputs": [
    {
     "data": {
      "text/plain": [
       "2"
      ]
     },
     "execution_count": 13,
     "metadata": {},
     "output_type": "execute_result"
    }
   ],
   "source": [
    "# Determining an array's dimensions\n",
    "integer.ndim"
   ]
  },
  {
   "cell_type": "code",
   "execution_count": 14,
   "id": "f65481c7-6798-4371-80ad-26bd8570d3fe",
   "metadata": {},
   "outputs": [
    {
     "data": {
      "text/plain": [
       "1"
      ]
     },
     "execution_count": 14,
     "metadata": {},
     "output_type": "execute_result"
    }
   ],
   "source": [
    "float.ndim"
   ]
  },
  {
   "cell_type": "code",
   "execution_count": 15,
   "id": "68e9cf7f-578f-4ecb-ae62-2901031da3e9",
   "metadata": {},
   "outputs": [
    {
     "data": {
      "text/plain": [
       "(2, 3)"
      ]
     },
     "execution_count": 15,
     "metadata": {},
     "output_type": "execute_result"
    }
   ],
   "source": [
    "integer.shape"
   ]
  },
  {
   "cell_type": "code",
   "execution_count": 16,
   "id": "c87a2e70-c184-4c73-914a-9605b708c42b",
   "metadata": {},
   "outputs": [
    {
     "data": {
      "text/plain": [
       "(2,)"
      ]
     },
     "execution_count": 16,
     "metadata": {},
     "output_type": "execute_result"
    }
   ],
   "source": [
    "float.shape"
   ]
  },
  {
   "cell_type": "code",
   "execution_count": 17,
   "id": "a7134e5a-d096-4240-81f5-756f6e43990f",
   "metadata": {},
   "outputs": [
    {
     "data": {
      "text/plain": [
       "6"
      ]
     },
     "execution_count": 17,
     "metadata": {},
     "output_type": "execute_result"
    }
   ],
   "source": [
    "# Determining an array's Number of elements and element size\n",
    "integer.size"
   ]
  },
  {
   "cell_type": "code",
   "execution_count": 18,
   "id": "d8abed82-d1ab-446f-a846-9cd98230b4a0",
   "metadata": {},
   "outputs": [
    {
     "data": {
      "text/plain": [
       "2"
      ]
     },
     "execution_count": 18,
     "metadata": {},
     "output_type": "execute_result"
    }
   ],
   "source": [
    "float.size # The total number of elements in the array"
   ]
  },
  {
   "cell_type": "code",
   "execution_count": 19,
   "id": "463bb0ed-31df-4c56-be76-8a3f1aeaba9f",
   "metadata": {},
   "outputs": [
    {
     "data": {
      "text/plain": [
       "8"
      ]
     },
     "execution_count": 19,
     "metadata": {},
     "output_type": "execute_result"
    }
   ],
   "source": [
    "integer.itemsize # Number of byte required to store each element"
   ]
  },
  {
   "cell_type": "code",
   "execution_count": 20,
   "id": "11deb833-0bce-4d65-849e-1e7c6a41dca5",
   "metadata": {},
   "outputs": [
    {
     "data": {
      "text/plain": [
       "8"
      ]
     },
     "execution_count": 20,
     "metadata": {},
     "output_type": "execute_result"
    }
   ],
   "source": [
    "float.itemsize # Number of bytes required to store each element of array."
   ]
  },
  {
   "cell_type": "code",
   "execution_count": 21,
   "id": "23e337e0-9d0d-43ba-8cbb-07bd342da59e",
   "metadata": {},
   "outputs": [
    {
     "name": "stdout",
     "output_type": "stream",
     "text": [
      "1 2 3 \n",
      "4 5 6 \n"
     ]
    }
   ],
   "source": [
    "# Iterating through multidimensional array's element\n",
    "for row in integer:\n",
    "    for column in row:\n",
    "        print(column, end=\" \")\n",
    "    print()"
   ]
  },
  {
   "cell_type": "code",
   "execution_count": 25,
   "id": "1d932161-e134-4bcf-a04f-806d33dd7190",
   "metadata": {},
   "outputs": [
    {
     "name": "stdout",
     "output_type": "stream",
     "text": [
      "4 5 6 7 8 9 "
     ]
    }
   ],
   "source": [
    "# If array is one dimensional, then we can use flat \n",
    "float = np.array([[4,5,6,7,8,9]])\n",
    "for i in float.flat:\n",
    "    print(i, end=\" \")"
   ]
  },
  {
   "cell_type": "code",
   "execution_count": 27,
   "id": "870475e9-3c24-4d96-a647-59670d2ff218",
   "metadata": {},
   "outputs": [
    {
     "data": {
      "text/plain": [
       "array([0., 0., 0., 0., 0.])"
      ]
     },
     "execution_count": 27,
     "metadata": {},
     "output_type": "execute_result"
    }
   ],
   "source": [
    "# Filling arrays with specific values - filling with zeros\n",
    "import numpy as np\n",
    "np.zeros(5)\n"
   ]
  },
  {
   "cell_type": "code",
   "execution_count": 29,
   "id": "189b89b2-a0a0-4cc6-b21f-c4e0e0b0ee57",
   "metadata": {},
   "outputs": [
    {
     "data": {
      "text/plain": [
       "array([[1, 1, 1, 1],\n",
       "       [1, 1, 1, 1]])"
      ]
     },
     "execution_count": 29,
     "metadata": {},
     "output_type": "execute_result"
    }
   ],
   "source": [
    "# filling with 1's ----> \n",
    "import numpy as np\n",
    "np.ones((2,4), dtype=int)"
   ]
  },
  {
   "cell_type": "code",
   "execution_count": 31,
   "id": "39a99909-a931-4f83-98f6-d6a2972050de",
   "metadata": {},
   "outputs": [
    {
     "data": {
      "text/plain": [
       "array([[13, 13, 13, 13, 13],\n",
       "       [13, 13, 13, 13, 13],\n",
       "       [13, 13, 13, 13, 13]])"
      ]
     },
     "execution_count": 31,
     "metadata": {},
     "output_type": "execute_result"
    }
   ],
   "source": [
    "# The array written by the full contains elements with the second argument's value and a type\n",
    "import numpy as np\n",
    "np.full((3,5), 13)"
   ]
  },
  {
   "cell_type": "code",
   "execution_count": 32,
   "id": "34988bf1-561a-46b3-b0eb-2dca4cb794b7",
   "metadata": {},
   "outputs": [
    {
     "data": {
      "text/plain": [
       "array([0, 1, 2, 3, 4])"
      ]
     },
     "execution_count": 32,
     "metadata": {},
     "output_type": "execute_result"
    }
   ],
   "source": [
    "# Creating arrays from ranges\n",
    "import numpy as np\n",
    "np.arange(5)"
   ]
  },
  {
   "cell_type": "code",
   "execution_count": 33,
   "id": "16e45759-fd1e-468b-a7ec-da8d0155438d",
   "metadata": {},
   "outputs": [
    {
     "data": {
      "text/plain": [
       "array([5, 6, 7, 8, 9])"
      ]
     },
     "execution_count": 33,
     "metadata": {},
     "output_type": "execute_result"
    }
   ],
   "source": [
    "np.arange(5,10)"
   ]
  },
  {
   "cell_type": "code",
   "execution_count": 34,
   "id": "07b9ad73-dc46-4de8-91b4-2b18acce752d",
   "metadata": {},
   "outputs": [
    {
     "data": {
      "text/plain": [
       "array([10,  8,  6,  4,  2])"
      ]
     },
     "execution_count": 34,
     "metadata": {},
     "output_type": "execute_result"
    }
   ],
   "source": [
    "np.arange(10,1,-2)"
   ]
  },
  {
   "cell_type": "code",
   "execution_count": 35,
   "id": "0f0a5e8c-8a2e-4c78-a9c1-336212f766fe",
   "metadata": {},
   "outputs": [
    {
     "data": {
      "text/plain": [
       "array([0.  , 0.25, 0.5 , 0.75, 1.  ])"
      ]
     },
     "execution_count": 35,
     "metadata": {},
     "output_type": "execute_result"
    }
   ],
   "source": [
    "# Creating floating-point ranges with linspace\n",
    "np.linspace(0.0, 1.0, num=5)"
   ]
  },
  {
   "cell_type": "code",
   "execution_count": 36,
   "id": "acf6be58-a07c-4f5d-a03f-e12a6e7b2234",
   "metadata": {},
   "outputs": [
    {
     "data": {
      "text/plain": [
       "array([[ 1,  2,  3,  4,  5],\n",
       "       [ 6,  7,  8,  9, 10],\n",
       "       [11, 12, 13, 14, 15],\n",
       "       [16, 17, 18, 19, 20]])"
      ]
     },
     "execution_count": 36,
     "metadata": {},
     "output_type": "execute_result"
    }
   ],
   "source": [
    "# reshaping an array\n",
    "import numpy as np\n",
    "np.arange(1, 21).reshape(4,5)"
   ]
  },
  {
   "cell_type": "code",
   "execution_count": 38,
   "id": "3f880ca9-31a6-4b42-9e3f-da529ec37a5d",
   "metadata": {},
   "outputs": [
    {
     "data": {
      "text/plain": [
       "array([1, 2, 3, 4, 5])"
      ]
     },
     "execution_count": 38,
     "metadata": {},
     "output_type": "execute_result"
    }
   ],
   "source": [
    "# Array operators\n",
    "import numpy as np\n",
    "numbers = np.arange(1,6)\n",
    "numbers"
   ]
  },
  {
   "cell_type": "code",
   "execution_count": 39,
   "id": "3b757f6e-9db7-4e20-9504-b1d138db9cdc",
   "metadata": {},
   "outputs": [
    {
     "data": {
      "text/plain": [
       "array([ 2,  4,  6,  8, 10])"
      ]
     },
     "execution_count": 39,
     "metadata": {},
     "output_type": "execute_result"
    }
   ],
   "source": [
    "numbers * 2 "
   ]
  },
  {
   "cell_type": "code",
   "execution_count": 40,
   "id": "698cf9b1-ac4c-4d7c-bd2e-02f19290e67a",
   "metadata": {},
   "outputs": [
    {
     "data": {
      "text/plain": [
       "array([  1,   8,  27,  64, 125])"
      ]
     },
     "execution_count": 40,
     "metadata": {},
     "output_type": "execute_result"
    }
   ],
   "source": [
    "numbers ** 3"
   ]
  },
  {
   "cell_type": "code",
   "execution_count": 41,
   "id": "92835aeb-0c6d-41c9-ab13-a3d0662bf510",
   "metadata": {},
   "outputs": [
    {
     "data": {
      "text/plain": [
       "array([1, 2, 3, 4, 5])"
      ]
     },
     "execution_count": 41,
     "metadata": {},
     "output_type": "execute_result"
    }
   ],
   "source": [
    "numbers # The original number is not changed by arithmetic operators"
   ]
  },
  {
   "cell_type": "code",
   "execution_count": 42,
   "id": "4271a3fc-5906-4ec5-98b2-a965f831c206",
   "metadata": {},
   "outputs": [
    {
     "data": {
      "text/plain": [
       "array([11, 12, 13, 14, 15])"
      ]
     },
     "execution_count": 42,
     "metadata": {},
     "output_type": "execute_result"
    }
   ],
   "source": [
    "# Augmented assignments modify every element in the left operand\n",
    "numbers += 10\n",
    "numbers"
   ]
  },
  {
   "cell_type": "code",
   "execution_count": 43,
   "id": "7d19a49c-8c78-48f6-a2f6-04a04505f8ba",
   "metadata": {},
   "outputs": [
    {
     "data": {
      "text/plain": [
       "array([11, 12, 13, 14, 15])"
      ]
     },
     "execution_count": 43,
     "metadata": {},
     "output_type": "execute_result"
    }
   ],
   "source": [
    "numbers # Changes reflected in original number array"
   ]
  },
  {
   "cell_type": "code",
   "execution_count": 44,
   "id": "56e2904f-818b-44c4-9aee-74de12bd5cc2",
   "metadata": {},
   "outputs": [
    {
     "data": {
      "text/plain": [
       "array([1.1, 2.2, 3.3, 4.4, 5.5])"
      ]
     },
     "execution_count": 44,
     "metadata": {},
     "output_type": "execute_result"
    }
   ],
   "source": [
    "# Arithemetic operations between arrays\n",
    "num2 = np.linspace(1.1, 5.5, 5)\n",
    "num2"
   ]
  },
  {
   "cell_type": "code",
   "execution_count": 45,
   "id": "3bad1227-f491-4540-9087-83c33459d61a",
   "metadata": {},
   "outputs": [
    {
     "data": {
      "text/plain": [
       "array([12.1, 26.4, 42.9, 61.6, 82.5])"
      ]
     },
     "execution_count": 45,
     "metadata": {},
     "output_type": "execute_result"
    }
   ],
   "source": [
    "numbers * num2"
   ]
  },
  {
   "cell_type": "code",
   "execution_count": 46,
   "id": "b73daf3b-2474-4575-832d-f7e259d9b48e",
   "metadata": {},
   "outputs": [
    {
     "data": {
      "text/plain": [
       "array([11, 12, 13, 14, 15])"
      ]
     },
     "execution_count": 46,
     "metadata": {},
     "output_type": "execute_result"
    }
   ],
   "source": [
    "# compairing arrays\n",
    "numbers"
   ]
  },
  {
   "cell_type": "code",
   "execution_count": 47,
   "id": "c8afde65-422e-493b-ae7e-2246dbde06ca",
   "metadata": {},
   "outputs": [
    {
     "data": {
      "text/plain": [
       "array([False, False,  True,  True,  True])"
      ]
     },
     "execution_count": 47,
     "metadata": {},
     "output_type": "execute_result"
    }
   ],
   "source": [
    "numbers >= 13"
   ]
  },
  {
   "cell_type": "code",
   "execution_count": 50,
   "id": "0ff06954-6e17-4bc5-933f-3493c83f395b",
   "metadata": {},
   "outputs": [
    {
     "data": {
      "text/plain": [
       "array([ True,  True,  True,  True,  True])"
      ]
     },
     "execution_count": 50,
     "metadata": {},
     "output_type": "execute_result"
    }
   ],
   "source": [
    "num2 < numbers"
   ]
  },
  {
   "cell_type": "code",
   "execution_count": 52,
   "id": "a03bef91-9f0c-49ca-a78b-0c5044ed42d7",
   "metadata": {},
   "outputs": [
    {
     "data": {
      "text/plain": [
       "array([False, False, False, False, False])"
      ]
     },
     "execution_count": 52,
     "metadata": {},
     "output_type": "execute_result"
    }
   ],
   "source": [
    "numbers == num2"
   ]
  },
  {
   "cell_type": "code",
   "execution_count": 53,
   "id": "15304725-fdad-49e8-90f8-6c4bdd2ac072",
   "metadata": {},
   "outputs": [
    {
     "data": {
      "text/plain": [
       "array([[ 87,  96,  70],\n",
       "       [100,  87,  90],\n",
       "       [ 94,  77,  90],\n",
       "       [100,  81,  82]])"
      ]
     },
     "execution_count": 53,
     "metadata": {},
     "output_type": "execute_result"
    }
   ],
   "source": [
    "# Numpy calculation Method\n",
    "import numpy as np\n",
    "grades = np.array([[87,96,70],[100,87,90],[94,77,90],[100,81,82]])\n",
    "grades"
   ]
  },
  {
   "cell_type": "code",
   "execution_count": 54,
   "id": "d83cd8d0-298d-4223-a332-5ba767e4a655",
   "metadata": {},
   "outputs": [
    {
     "data": {
      "text/plain": [
       "np.int64(1054)"
      ]
     },
     "execution_count": 54,
     "metadata": {},
     "output_type": "execute_result"
    }
   ],
   "source": [
    "# sum , min , max, mean, std, var \n",
    "grades.sum()"
   ]
  },
  {
   "cell_type": "code",
   "execution_count": 55,
   "id": "982eacfb-3a8c-4268-a262-b9df033ceef1",
   "metadata": {},
   "outputs": [
    {
     "data": {
      "text/plain": [
       "np.int64(70)"
      ]
     },
     "execution_count": 55,
     "metadata": {},
     "output_type": "execute_result"
    }
   ],
   "source": [
    "grades.min()"
   ]
  },
  {
   "cell_type": "code",
   "execution_count": 56,
   "id": "68993db2-a952-42a5-b8dd-f2e3b754fcc9",
   "metadata": {},
   "outputs": [
    {
     "data": {
      "text/plain": [
       "np.float64(87.83333333333333)"
      ]
     },
     "execution_count": 56,
     "metadata": {},
     "output_type": "execute_result"
    }
   ],
   "source": [
    "grades.mean()"
   ]
  },
  {
   "cell_type": "code",
   "execution_count": 57,
   "id": "a89fa55c-530b-4f7f-b6f7-d9d6a4d4704f",
   "metadata": {},
   "outputs": [
    {
     "data": {
      "text/plain": [
       "np.float64(8.792357792739987)"
      ]
     },
     "execution_count": 57,
     "metadata": {},
     "output_type": "execute_result"
    }
   ],
   "source": [
    "grades.std()"
   ]
  },
  {
   "cell_type": "code",
   "execution_count": 58,
   "id": "fd0c03dc-9150-4029-9732-6b9d5d9d6b08",
   "metadata": {},
   "outputs": [
    {
     "data": {
      "text/plain": [
       "np.float64(77.30555555555556)"
      ]
     },
     "execution_count": 58,
     "metadata": {},
     "output_type": "execute_result"
    }
   ],
   "source": [
    "grades.var()"
   ]
  },
  {
   "cell_type": "code",
   "execution_count": 59,
   "id": "ad377728-6dd3-43ff-8703-bffc3a97dc21",
   "metadata": {},
   "outputs": [
    {
     "data": {
      "text/plain": [
       "array([95.25, 85.25, 83.  ])"
      ]
     },
     "execution_count": 59,
     "metadata": {},
     "output_type": "execute_result"
    }
   ],
   "source": [
    "# Calculations by Row or Column\n",
    "grades.mean(axis=0)"
   ]
  },
  {
   "cell_type": "code",
   "execution_count": 60,
   "id": "7d5368a6-ab26-42cd-a4ea-557c941537e1",
   "metadata": {},
   "outputs": [
    {
     "data": {
      "text/plain": [
       "array([84.33333333, 92.33333333, 87.        , 87.66666667])"
      ]
     },
     "execution_count": 60,
     "metadata": {},
     "output_type": "execute_result"
    }
   ],
   "source": [
    "grades.mean(axis=1)"
   ]
  },
  {
   "cell_type": "code",
   "execution_count": 61,
   "id": "1f0c739b-1f9d-4742-9d38-f09092b1a7a8",
   "metadata": {},
   "outputs": [
    {
     "data": {
      "text/plain": [
       "array([1., 2., 3., 4., 5., 6.])"
      ]
     },
     "execution_count": 61,
     "metadata": {},
     "output_type": "execute_result"
    }
   ],
   "source": [
    "#Universal functions\n",
    "import numpy as np\n",
    "numbers = np.array([1,4,9,16,25,36])\n",
    "np.sqrt(numbers)"
   ]
  },
  {
   "cell_type": "code",
   "execution_count": 62,
   "id": "6813f47c-6869-4a47-afc4-acea315ee345",
   "metadata": {},
   "outputs": [
    {
     "data": {
      "text/plain": [
       "array([10, 20, 30, 40, 50, 60])"
      ]
     },
     "execution_count": 62,
     "metadata": {},
     "output_type": "execute_result"
    }
   ],
   "source": [
    "numbers2 = np.arange(1,7) * 10\n",
    "numbers2"
   ]
  },
  {
   "cell_type": "code",
   "execution_count": 63,
   "id": "461a1c33-acef-40eb-a360-8e95d4fd2e42",
   "metadata": {},
   "outputs": [
    {
     "data": {
      "text/plain": [
       "array([11, 24, 39, 56, 75, 96])"
      ]
     },
     "execution_count": 63,
     "metadata": {},
     "output_type": "execute_result"
    }
   ],
   "source": [
    "np.add(numbers, numbers2)"
   ]
  },
  {
   "cell_type": "code",
   "execution_count": 64,
   "id": "f807570d-456d-4d98-ab74-dffed4647317",
   "metadata": {},
   "outputs": [
    {
     "data": {
      "text/plain": [
       "array([11, 24, 39, 56, 75, 96])"
      ]
     },
     "execution_count": 64,
     "metadata": {},
     "output_type": "execute_result"
    }
   ],
   "source": [
    "numbers + numbers2"
   ]
  },
  {
   "cell_type": "code",
   "execution_count": 66,
   "id": "5e506c75-2ea3-489a-a305-1ed068a2a7b1",
   "metadata": {},
   "outputs": [
    {
     "data": {
      "text/plain": [
       "array([ 50, 100, 150, 200, 250, 300])"
      ]
     },
     "execution_count": 66,
     "metadata": {},
     "output_type": "execute_result"
    }
   ],
   "source": [
    "#Broadcasting with Universal Fucntions\n",
    "np.multiply(numbers2,5)"
   ]
  },
  {
   "cell_type": "code",
   "execution_count": 67,
   "id": "8be762a8-f570-4c68-95ee-9d0eacfebde5",
   "metadata": {},
   "outputs": [
    {
     "data": {
      "text/plain": [
       "array([ 50, 100, 150, 200, 250, 300])"
      ]
     },
     "execution_count": 67,
     "metadata": {},
     "output_type": "execute_result"
    }
   ],
   "source": [
    "numbers2 * 5"
   ]
  },
  {
   "cell_type": "code",
   "execution_count": 69,
   "id": "159d82b2-46c5-4031-8b58-99eb750a0fb4",
   "metadata": {},
   "outputs": [
    {
     "data": {
      "text/plain": [
       "array([[10, 20, 30],\n",
       "       [40, 50, 60]])"
      ]
     },
     "execution_count": 69,
     "metadata": {},
     "output_type": "execute_result"
    }
   ],
   "source": [
    "numbers3 = numbers2.reshape(2,3)\n",
    "numbers3"
   ]
  },
  {
   "cell_type": "code",
   "execution_count": 70,
   "id": "4a276451-0a28-4b71-8c5d-2e43fb002c1b",
   "metadata": {},
   "outputs": [
    {
     "data": {
      "text/plain": [
       "array([2, 4, 6])"
      ]
     },
     "execution_count": 70,
     "metadata": {},
     "output_type": "execute_result"
    }
   ],
   "source": [
    "numbers4 = np.array([2,4,6])\n",
    "numbers4"
   ]
  },
  {
   "cell_type": "code",
   "execution_count": 72,
   "id": "b00024f9-be1c-434d-9e25-5e929b3dd454",
   "metadata": {},
   "outputs": [
    {
     "data": {
      "text/plain": [
       "array([[ 20,  80, 180],\n",
       "       [ 80, 200, 360]])"
      ]
     },
     "execution_count": 72,
     "metadata": {},
     "output_type": "execute_result"
    }
   ],
   "source": [
    "np.multiply(numbers3, numbers4)"
   ]
  },
  {
   "cell_type": "code",
   "execution_count": 73,
   "id": "b8583160-6013-4199-b27b-bcd4edc53097",
   "metadata": {},
   "outputs": [
    {
     "data": {
      "text/plain": [
       "array([[ 87,  96,  70],\n",
       "       [100,  87,  90],\n",
       "       [ 94,  77,  90],\n",
       "       [100,  81,  82]])"
      ]
     },
     "execution_count": 73,
     "metadata": {},
     "output_type": "execute_result"
    }
   ],
   "source": [
    "# Indexing and slicing\n",
    "# Indexing with 2-D Arrays\n",
    "import numpy as np\n",
    "grades = np.array([[87,96,70],[100,87,90],[94,77,90],[100,81,82]])\n",
    "grades"
   ]
  },
  {
   "cell_type": "code",
   "execution_count": 74,
   "id": "e56ca367-7092-4305-9a18-dd22451bdd0b",
   "metadata": {},
   "outputs": [
    {
     "data": {
      "text/plain": [
       "np.int64(96)"
      ]
     },
     "execution_count": 74,
     "metadata": {},
     "output_type": "execute_result"
    }
   ],
   "source": [
    "grades[0,1] # row 0, column 1"
   ]
  },
  {
   "cell_type": "code",
   "execution_count": 76,
   "id": "9ad334bd-467b-4d79-8789-b01532551c22",
   "metadata": {},
   "outputs": [
    {
     "data": {
      "text/plain": [
       "array([100,  87,  90])"
      ]
     },
     "execution_count": 76,
     "metadata": {},
     "output_type": "execute_result"
    }
   ],
   "source": [
    "# selecting a subset of 2-D array's Row\n",
    "grades[1]"
   ]
  },
  {
   "cell_type": "code",
   "execution_count": 77,
   "id": "60734ffc-fcf8-4292-8161-5f15b6388e19",
   "metadata": {},
   "outputs": [
    {
     "data": {
      "text/plain": [
       "array([[ 87,  96,  70],\n",
       "       [100,  87,  90]])"
      ]
     },
     "execution_count": 77,
     "metadata": {},
     "output_type": "execute_result"
    }
   ],
   "source": [
    "grades[0:2]"
   ]
  },
  {
   "cell_type": "code",
   "execution_count": 78,
   "id": "f8c4b0c7-ef24-4dc3-9824-6595d8eece69",
   "metadata": {},
   "outputs": [
    {
     "data": {
      "text/plain": [
       "array([[100,  87,  90],\n",
       "       [100,  81,  82]])"
      ]
     },
     "execution_count": 78,
     "metadata": {},
     "output_type": "execute_result"
    }
   ],
   "source": [
    "grades[[1,3]]"
   ]
  },
  {
   "cell_type": "code",
   "execution_count": 79,
   "id": "f2c61631-dfbf-412e-bfea-8d0dea238bc4",
   "metadata": {},
   "outputs": [
    {
     "data": {
      "text/plain": [
       "array([ 87, 100,  94, 100])"
      ]
     },
     "execution_count": 79,
     "metadata": {},
     "output_type": "execute_result"
    }
   ],
   "source": [
    "# Selecting a subset of a 2-D array's columns\n",
    "grades[:, 0]"
   ]
  },
  {
   "cell_type": "code",
   "execution_count": 80,
   "id": "cf3782c4-6a96-4061-8e71-f0958cf8d6f7",
   "metadata": {},
   "outputs": [
    {
     "data": {
      "text/plain": [
       "array([[96, 70],\n",
       "       [87, 90],\n",
       "       [77, 90],\n",
       "       [81, 82]])"
      ]
     },
     "execution_count": 80,
     "metadata": {},
     "output_type": "execute_result"
    }
   ],
   "source": [
    "grades[:, 1:3]"
   ]
  },
  {
   "cell_type": "code",
   "execution_count": 81,
   "id": "0826eda4-19b6-403f-8b3e-838761dd4920",
   "metadata": {},
   "outputs": [
    {
     "data": {
      "text/plain": [
       "array([[ 87,  70],\n",
       "       [100,  90],\n",
       "       [ 94,  90],\n",
       "       [100,  82]])"
      ]
     },
     "execution_count": 81,
     "metadata": {},
     "output_type": "execute_result"
    }
   ],
   "source": [
    "grades[:, [0,2]]"
   ]
  },
  {
   "cell_type": "code",
   "execution_count": 82,
   "id": "26d0eb21-2847-437c-8ab7-bd174aaebfe9",
   "metadata": {},
   "outputs": [
    {
     "data": {
      "text/plain": [
       "array([1, 2, 3, 4, 5])"
      ]
     },
     "execution_count": 82,
     "metadata": {},
     "output_type": "execute_result"
    }
   ],
   "source": [
    "# Views : shallow copies\n",
    "import numpy as np\n",
    "numbers = np.arange(1,6)\n",
    "numbers"
   ]
  },
  {
   "cell_type": "code",
   "execution_count": 83,
   "id": "c10a535c-42fe-41a3-a2fe-c67b711dbb87",
   "metadata": {},
   "outputs": [
    {
     "data": {
      "text/plain": [
       "array([1, 2, 3, 4, 5])"
      ]
     },
     "execution_count": 83,
     "metadata": {},
     "output_type": "execute_result"
    }
   ],
   "source": [
    "numbers"
   ]
  },
  {
   "cell_type": "code",
   "execution_count": 84,
   "id": "afe61843-573b-41d1-ae63-eb6f86850013",
   "metadata": {},
   "outputs": [],
   "source": [
    "numbers2 = numbers.view()"
   ]
  },
  {
   "cell_type": "code",
   "execution_count": 85,
   "id": "ba2a8269-7b4d-4f3a-80f5-1a45fdfe218b",
   "metadata": {},
   "outputs": [
    {
     "data": {
      "text/plain": [
       "array([1, 2, 3, 4, 5])"
      ]
     },
     "execution_count": 85,
     "metadata": {},
     "output_type": "execute_result"
    }
   ],
   "source": [
    "numbers2"
   ]
  },
  {
   "cell_type": "code",
   "execution_count": 87,
   "id": "41fef54f-c9cb-49be-a483-3560cc1eafba",
   "metadata": {},
   "outputs": [
    {
     "data": {
      "text/plain": [
       "1884864726288"
      ]
     },
     "execution_count": 87,
     "metadata": {},
     "output_type": "execute_result"
    }
   ],
   "source": [
    "# cheaking --> we can use build-in fucntion to see that numbers and number2 are diffrent objects\n",
    "id(numbers)"
   ]
  },
  {
   "cell_type": "code",
   "execution_count": 88,
   "id": "2a6ff36e-3e67-4b05-a500-df511d0d3bb8",
   "metadata": {},
   "outputs": [
    {
     "data": {
      "text/plain": [
       "1884865070352"
      ]
     },
     "execution_count": 88,
     "metadata": {},
     "output_type": "execute_result"
    }
   ],
   "source": [
    "id(numbers2)"
   ]
  },
  {
   "cell_type": "code",
   "execution_count": 90,
   "id": "c14cdc39-b5ce-490c-a467-21a9fd901ba3",
   "metadata": {},
   "outputs": [
    {
     "data": {
      "text/plain": [
       "array([  1, 200,   3,   4,   5])"
      ]
     },
     "execution_count": 90,
     "metadata": {},
     "output_type": "execute_result"
    }
   ],
   "source": [
    "# both are diffrent objects\n",
    "numbers[1] *= 10\n",
    "numbers"
   ]
  },
  {
   "cell_type": "code",
   "execution_count": 91,
   "id": "bc0edd7f-141d-4618-912f-6610184d61c6",
   "metadata": {},
   "outputs": [
    {
     "data": {
      "text/plain": [
       "array([  1, 200,   3,   4,   5])"
      ]
     },
     "execution_count": 91,
     "metadata": {},
     "output_type": "execute_result"
    }
   ],
   "source": [
    "numbers2 # changes also reflected on numbers2"
   ]
  },
  {
   "cell_type": "code",
   "execution_count": 93,
   "id": "3b4138cf-0e5d-4f5c-af73-a67787c94cd9",
   "metadata": {},
   "outputs": [
    {
     "data": {
      "text/plain": [
       "array([1, 2, 3, 4, 5])"
      ]
     },
     "execution_count": 93,
     "metadata": {},
     "output_type": "execute_result"
    }
   ],
   "source": [
    "# Note - Changing value in the view also changes that value in the original array :\n",
    "numbers2[1] /= 10\n",
    "numbers2"
   ]
  },
  {
   "cell_type": "code",
   "execution_count": 95,
   "id": "2e8dc044-078c-48e8-a21b-b6cae8f426cc",
   "metadata": {},
   "outputs": [
    {
     "data": {
      "text/plain": [
       "array([1, 2, 3, 4, 5])"
      ]
     },
     "execution_count": 95,
     "metadata": {},
     "output_type": "execute_result"
    }
   ],
   "source": [
    "numbers"
   ]
  },
  {
   "cell_type": "code",
   "execution_count": 97,
   "id": "291cb248-ee20-494c-baf3-2a0d084d7661",
   "metadata": {},
   "outputs": [
    {
     "data": {
      "text/plain": [
       "array([1, 0, 3, 4, 5])"
      ]
     },
     "execution_count": 97,
     "metadata": {},
     "output_type": "execute_result"
    }
   ],
   "source": [
    "# changing value in the view will also changes that value in the original array also:-\n",
    "numbers2[1] /= 10\n",
    "numbers2"
   ]
  },
  {
   "cell_type": "code",
   "execution_count": 98,
   "id": "54fd91a3-0d7c-4824-ad24-4fd09599393b",
   "metadata": {},
   "outputs": [
    {
     "data": {
      "text/plain": [
       "array([1, 0, 3, 4, 5])"
      ]
     },
     "execution_count": 98,
     "metadata": {},
     "output_type": "execute_result"
    }
   ],
   "source": [
    "numbers"
   ]
  },
  {
   "cell_type": "code",
   "execution_count": 99,
   "id": "aefe92e0-49ab-44fb-8935-85066181eb85",
   "metadata": {},
   "outputs": [
    {
     "data": {
      "text/plain": [
       "array([1, 0, 3, 4, 5])"
      ]
     },
     "execution_count": 99,
     "metadata": {},
     "output_type": "execute_result"
    }
   ],
   "source": [
    "# slice view\n",
    "number2 = numbers[0:3]\n",
    "numbers2\n"
   ]
  },
  {
   "cell_type": "code",
   "execution_count": 100,
   "id": "976b3e5a-ce3e-46b5-b25a-4949f6294371",
   "metadata": {},
   "outputs": [
    {
     "data": {
      "text/plain": [
       "array([1, 2, 3])"
      ]
     },
     "execution_count": 100,
     "metadata": {},
     "output_type": "execute_result"
    }
   ],
   "source": [
    "number = np.array([1,2,3,4,5])\n",
    "numbersnew = number[0:3]\n",
    "numbersnew"
   ]
  },
  {
   "cell_type": "code",
   "execution_count": 101,
   "id": "e567c279-9e1a-44f7-a520-def79375374f",
   "metadata": {},
   "outputs": [
    {
     "data": {
      "text/plain": [
       "1884864738672"
      ]
     },
     "execution_count": 101,
     "metadata": {},
     "output_type": "execute_result"
    }
   ],
   "source": [
    "id(numbersnew)"
   ]
  },
  {
   "cell_type": "code",
   "execution_count": 102,
   "id": "1548621f-bad2-44aa-92d3-ae4e9258a945",
   "metadata": {},
   "outputs": [
    {
     "data": {
      "text/plain": [
       "1884864726288"
      ]
     },
     "execution_count": 102,
     "metadata": {},
     "output_type": "execute_result"
    }
   ],
   "source": [
    "id(numbers)"
   ]
  },
  {
   "cell_type": "code",
   "execution_count": 103,
   "id": "e5647791-1d09-4d4a-9830-05ebe45fda9d",
   "metadata": {},
   "outputs": [
    {
     "ename": "IndexError",
     "evalue": "index 3 is out of bounds for axis 0 with size 3",
     "output_type": "error",
     "traceback": [
      "\u001b[1;31m---------------------------------------------------------------------------\u001b[0m",
      "\u001b[1;31mIndexError\u001b[0m                                Traceback (most recent call last)",
      "Cell \u001b[1;32mIn[103], line 1\u001b[0m\n\u001b[1;32m----> 1\u001b[0m \u001b[43mnumbersnew\u001b[49m\u001b[43m[\u001b[49m\u001b[38;5;241;43m3\u001b[39;49m\u001b[43m]\u001b[49m\n",
      "\u001b[1;31mIndexError\u001b[0m: index 3 is out of bounds for axis 0 with size 3"
     ]
    }
   ],
   "source": [
    "numbersnew[3] # if you try to acces an element which doesn't exist"
   ]
  },
  {
   "cell_type": "code",
   "execution_count": 106,
   "id": "c7f7ae02-04c0-46b3-a375-a402eeef1ab9",
   "metadata": {},
   "outputs": [],
   "source": [
    "number[1] *= 20"
   ]
  },
  {
   "cell_type": "code",
   "execution_count": 109,
   "id": "a1351635-0368-492c-8a86-4c5849e38e2e",
   "metadata": {},
   "outputs": [
    {
     "data": {
      "text/plain": [
       "array([ 1, 40,  3,  4,  5])"
      ]
     },
     "execution_count": 109,
     "metadata": {},
     "output_type": "execute_result"
    }
   ],
   "source": [
    "number"
   ]
  },
  {
   "cell_type": "code",
   "execution_count": 110,
   "id": "1e4e9484-ff9a-4df7-9955-7823209d4556",
   "metadata": {},
   "outputs": [
    {
     "data": {
      "text/plain": [
       "array([1, 0, 3, 4, 5])"
      ]
     },
     "execution_count": 110,
     "metadata": {},
     "output_type": "execute_result"
    }
   ],
   "source": [
    "numbers2"
   ]
  },
  {
   "cell_type": "code",
   "execution_count": 115,
   "id": "a66f5789-3b24-4f61-99ae-12bfd4b1ffc6",
   "metadata": {},
   "outputs": [
    {
     "data": {
      "text/plain": [
       "array([1, 2, 3, 4, 5])"
      ]
     },
     "execution_count": 115,
     "metadata": {},
     "output_type": "execute_result"
    }
   ],
   "source": [
    "# Deep copies\n",
    "import numpy as np\n",
    "numbers = np.arange(1,6)\n",
    "numbers"
   ]
  },
  {
   "cell_type": "code",
   "execution_count": 116,
   "id": "d6d67368-a95e-4cd0-9493-38f75c7a3cd3",
   "metadata": {},
   "outputs": [
    {
     "data": {
      "text/plain": [
       "array([1, 2, 3, 4, 5])"
      ]
     },
     "execution_count": 116,
     "metadata": {},
     "output_type": "execute_result"
    }
   ],
   "source": [
    "numbers2 = numbers.copy()\n",
    "numbers2"
   ]
  },
  {
   "cell_type": "code",
   "execution_count": 117,
   "id": "1d3a5417-462f-494b-976f-c5e22c7c9aba",
   "metadata": {},
   "outputs": [],
   "source": [
    "# numbers2 has a seperate copy of the data in numbers\n",
    "numbers[1] *= 10"
   ]
  },
  {
   "cell_type": "code",
   "execution_count": 119,
   "id": "d88fb784-bac2-46c5-a837-d21a357b0f76",
   "metadata": {},
   "outputs": [
    {
     "data": {
      "text/plain": [
       "array([1, 2, 3, 4, 5])"
      ]
     },
     "execution_count": 119,
     "metadata": {},
     "output_type": "execute_result"
    }
   ],
   "source": [
    "numbers2 # you can see changes only appers in numbers not in deep copy of numbers --> not  in number2"
   ]
  },
  {
   "cell_type": "code",
   "execution_count": 121,
   "id": "2001a2a2-3f3c-4b5c-b637-52f013c726c5",
   "metadata": {},
   "outputs": [
    {
     "data": {
      "text/plain": [
       "array([ 1, 20,  3,  4,  5])"
      ]
     },
     "execution_count": 121,
     "metadata": {},
     "output_type": "execute_result"
    }
   ],
   "source": [
    "numbers"
   ]
  },
  {
   "cell_type": "code",
   "execution_count": 122,
   "id": "75851bda-6f78-4b3b-a283-94afc12f495c",
   "metadata": {},
   "outputs": [
    {
     "data": {
      "text/plain": [
       "array([[ 87,  96,  70],\n",
       "       [100,  87,  90]])"
      ]
     },
     "execution_count": 122,
     "metadata": {},
     "output_type": "execute_result"
    }
   ],
   "source": [
    "# Reshaping and Trasposing \n",
    "import numpy as np\n",
    "grades = np.array([[87,96,70],[100,87,90]])\n",
    "grades"
   ]
  },
  {
   "cell_type": "code",
   "execution_count": 123,
   "id": "d7aa8a61-70ce-4128-b24d-f7332fb16dbf",
   "metadata": {},
   "outputs": [
    {
     "data": {
      "text/plain": [
       "array([[ 87,  96,  70, 100,  87,  90]])"
      ]
     },
     "execution_count": 123,
     "metadata": {},
     "output_type": "execute_result"
    }
   ],
   "source": [
    "grades.reshape(1,6) # reshape in 1 X 6 "
   ]
  },
  {
   "cell_type": "code",
   "execution_count": 124,
   "id": "92bb6f25-176e-4b63-beb6-a2e7d9b2eae0",
   "metadata": {},
   "outputs": [
    {
     "data": {
      "text/plain": [
       "array([[ 87,  96,  70],\n",
       "       [100,  87,  90]])"
      ]
     },
     "execution_count": 124,
     "metadata": {},
     "output_type": "execute_result"
    }
   ],
   "source": [
    "grades"
   ]
  },
  {
   "cell_type": "code",
   "execution_count": 126,
   "id": "ad84ac61-31d5-4a33-aa58-ebbc40abe5ce",
   "metadata": {},
   "outputs": [
    {
     "data": {
      "text/plain": [
       "array([[ 87,  96,  70, 100,  87,  90]])"
      ]
     },
     "execution_count": 126,
     "metadata": {},
     "output_type": "execute_result"
    }
   ],
   "source": [
    "# reshape doesn't modifies the original array's shape\n",
    "# But resize ---> do modify the original array's shape\n",
    "grades.resize(1,6)\n",
    "grades"
   ]
  },
  {
   "cell_type": "code",
   "execution_count": 127,
   "id": "f3a6cc56-cc06-4b00-a7a3-87b875d332d3",
   "metadata": {},
   "outputs": [
    {
     "data": {
      "text/plain": [
       "array([[ 87,  96,  70, 100,  87,  90]])"
      ]
     },
     "execution_count": 127,
     "metadata": {},
     "output_type": "execute_result"
    }
   ],
   "source": [
    "grades"
   ]
  },
  {
   "cell_type": "code",
   "execution_count": 128,
   "id": "4b485e1f-e5ad-4d50-b1ba-a3afeb733359",
   "metadata": {},
   "outputs": [
    {
     "data": {
      "text/plain": [
       "array([[ 87,  96,  70],\n",
       "       [100,  87,  90]])"
      ]
     },
     "execution_count": 128,
     "metadata": {},
     "output_type": "execute_result"
    }
   ],
   "source": [
    "# flatten vs. ravel\n",
    "# You can take a multidimensional array and flatten it into a single dimension with the method flatten and revel.\n",
    "# Method flatten deep copies the original array's data.\n",
    "grades = np.array([[87,96,70],[100,87,90]])\n",
    "grades"
   ]
  },
  {
   "cell_type": "code",
   "execution_count": 129,
   "id": "e2d7f980-8af6-4ac4-a832-0f43c9be93ac",
   "metadata": {},
   "outputs": [
    {
     "data": {
      "text/plain": [
       "array([ 87,  96,  70, 100,  87,  90])"
      ]
     },
     "execution_count": 129,
     "metadata": {},
     "output_type": "execute_result"
    }
   ],
   "source": [
    "flattened = grades.flatten() # deep copies\n",
    "flattened"
   ]
  },
  {
   "cell_type": "code",
   "execution_count": 130,
   "id": "2271683a-576a-43d2-ba12-298b32b23039",
   "metadata": {},
   "outputs": [
    {
     "data": {
      "text/plain": [
       "array([[ 87,  96,  70],\n",
       "       [100,  87,  90]])"
      ]
     },
     "execution_count": 130,
     "metadata": {},
     "output_type": "execute_result"
    }
   ],
   "source": [
    "grades"
   ]
  },
  {
   "cell_type": "code",
   "execution_count": 131,
   "id": "8fd2f0c5-8dd2-41ac-949e-3cbff7286cc6",
   "metadata": {},
   "outputs": [
    {
     "data": {
      "text/plain": [
       "array([100,  96,  70, 100,  87,  90])"
      ]
     },
     "execution_count": 131,
     "metadata": {},
     "output_type": "execute_result"
    }
   ],
   "source": [
    "flattened[0] = 100\n",
    "flattened"
   ]
  },
  {
   "cell_type": "code",
   "execution_count": 132,
   "id": "e43bde90-f392-403b-8df5-d4b73c5236f9",
   "metadata": {},
   "outputs": [
    {
     "data": {
      "text/plain": [
       "array([[ 87,  96,  70],\n",
       "       [100,  87,  90]])"
      ]
     },
     "execution_count": 132,
     "metadata": {},
     "output_type": "execute_result"
    }
   ],
   "source": [
    "grades"
   ]
  },
  {
   "cell_type": "code",
   "execution_count": 135,
   "id": "91e03712-4c3c-48c2-9208-3dcb9db155a8",
   "metadata": {},
   "outputs": [
    {
     "data": {
      "text/plain": [
       "array([ 87,  96,  70, 100,  87,  90])"
      ]
     },
     "execution_count": 135,
     "metadata": {},
     "output_type": "execute_result"
    }
   ],
   "source": [
    "# ravel method\n",
    "raveled = grades.ravel()\n",
    "raveled\n"
   ]
  },
  {
   "cell_type": "code",
   "execution_count": 136,
   "id": "cb773f10-fa67-4438-a518-1b7458c2048d",
   "metadata": {},
   "outputs": [
    {
     "data": {
      "text/plain": [
       "array([[ 87,  96,  70],\n",
       "       [100,  87,  90]])"
      ]
     },
     "execution_count": 136,
     "metadata": {},
     "output_type": "execute_result"
    }
   ],
   "source": [
    "grades"
   ]
  },
  {
   "cell_type": "code",
   "execution_count": 137,
   "id": "59b811dd-8583-4528-9b16-6fffd400374c",
   "metadata": {},
   "outputs": [
    {
     "data": {
      "text/plain": [
       "array([100,  96,  70, 100,  87,  90])"
      ]
     },
     "execution_count": 137,
     "metadata": {},
     "output_type": "execute_result"
    }
   ],
   "source": [
    "# to confim that ravel share the same data. let's modify an ele of raveled , then display both arrays\n",
    "raveled[0] = 100\n",
    "raveled"
   ]
  },
  {
   "cell_type": "code",
   "execution_count": 138,
   "id": "ce981037-7aa3-4152-ac5f-a1d7116574df",
   "metadata": {},
   "outputs": [
    {
     "data": {
      "text/plain": [
       "array([[100,  96,  70],\n",
       "       [100,  87,  90]])"
      ]
     },
     "execution_count": 138,
     "metadata": {},
     "output_type": "execute_result"
    }
   ],
   "source": [
    "grades"
   ]
  },
  {
   "cell_type": "code",
   "execution_count": 139,
   "id": "53aac148-a746-4d7b-ba1c-8071e3b89f3c",
   "metadata": {},
   "outputs": [
    {
     "data": {
      "text/plain": [
       "array([[100, 100],\n",
       "       [ 96,  87],\n",
       "       [ 70,  90]])"
      ]
     },
     "execution_count": 139,
     "metadata": {},
     "output_type": "execute_result"
    }
   ],
   "source": [
    "# Trasposing Rows and Columns --> flip the array\n",
    "grades.T\n"
   ]
  },
  {
   "cell_type": "code",
   "execution_count": 140,
   "id": "1fff18e0-8d4f-4167-b841-916755691bf2",
   "metadata": {},
   "outputs": [
    {
     "data": {
      "text/plain": [
       "array([[100,  96,  70],\n",
       "       [100,  87,  90]])"
      ]
     },
     "execution_count": 140,
     "metadata": {},
     "output_type": "execute_result"
    }
   ],
   "source": [
    "# Trasposing does not modify the original array\n",
    "grades"
   ]
  },
  {
   "cell_type": "code",
   "execution_count": 142,
   "id": "2460a57f-9dd2-4847-8275-3536b5d8f21a",
   "metadata": {},
   "outputs": [
    {
     "data": {
      "text/plain": [
       "array([[100,  96,  70,  94,  77,  90],\n",
       "       [100,  87,  90, 100,  81,  82]])"
      ]
     },
     "execution_count": 142,
     "metadata": {},
     "output_type": "execute_result"
    }
   ],
   "source": [
    "# Horizontal and vertical stacking \n",
    "# You can combine areas by adding more columns or more rows known as horizontal stacking and vertical stacking\n",
    "grades2 = np.array([[94,77,90],[100,81,82]])\n",
    "np.hstack((grades, grades2))\n"
   ]
  },
  {
   "cell_type": "code",
   "execution_count": 143,
   "id": "24fc7040-582d-48b1-b55c-9b8918321125",
   "metadata": {},
   "outputs": [
    {
     "data": {
      "text/plain": [
       "array([[100,  96,  70],\n",
       "       [100,  87,  90],\n",
       "       [ 94,  77,  90],\n",
       "       [100,  81,  82]])"
      ]
     },
     "execution_count": 143,
     "metadata": {},
     "output_type": "execute_result"
    }
   ],
   "source": [
    "np.vstack((grades, grades2))"
   ]
  },
  {
   "cell_type": "code",
   "execution_count": 149,
   "id": "6af96af5-a122-4a25-803c-a471428a51d3",
   "metadata": {},
   "outputs": [
    {
     "data": {
      "text/plain": [
       "0     87\n",
       "1    100\n",
       "2     94\n",
       "dtype: int64"
      ]
     },
     "execution_count": 149,
     "metadata": {},
     "output_type": "execute_result"
    }
   ],
   "source": [
    "# panda-- Most popular library series for one dimensional collection and data flames for two dimensional collection \n",
    "# Series is an enhanced one dimensional array\n",
    "# Series support custom indexing Whereas arrays use only zero based integer indices Series also offer additional capabilities\n",
    "# Series may have missing data, and many series operations ignore missing data by default\n",
    "# By default, a series has integer indices numbered sequentially from zero \n",
    "# The initializer also may be a tuple, additionally, an array or another series, or a single value\n",
    "# Pandas display a series in two column format with indices left aligned with left column and values rightalined in the right column.\n",
    "# After listing the series element, pandas show the data type as (dtype) of the underlying errors element.\n",
    "import pandas as pd\n",
    "grades = pd.Series([87,100,94])\n",
    "grades"
   ]
  },
  {
   "cell_type": "code",
   "execution_count": 152,
   "id": "410d0176-c700-40be-a4eb-8204bae88a98",
   "metadata": {},
   "outputs": [
    {
     "data": {
      "text/plain": [
       "0    98.6\n",
       "1    98.6\n",
       "2    98.6\n",
       "dtype: float64"
      ]
     },
     "execution_count": 152,
     "metadata": {},
     "output_type": "execute_result"
    }
   ],
   "source": [
    "# Creating a series with all elements having the same values\n",
    "pd.Series(98.6, range(3))\n",
    "\n",
    "#note- The second argument is a 1 dimensional iterable object,\n",
    "# such as (list array or a range), containing the series indices, the number of indices determine the number of elements"
   ]
  },
  {
   "cell_type": "code",
   "execution_count": 153,
   "id": "4967c40f-3c05-4034-b030-7e9039a7319d",
   "metadata": {},
   "outputs": [
    {
     "data": {
      "text/plain": [
       "np.int64(87)"
      ]
     },
     "execution_count": 153,
     "metadata": {},
     "output_type": "execute_result"
    }
   ],
   "source": [
    "# Accessing a series element\n",
    "grades[0]\n",
    "\n"
   ]
  },
  {
   "cell_type": "code",
   "execution_count": 154,
   "id": "456ff3c4-3649-4e91-965d-1c13bfb2358a",
   "metadata": {},
   "outputs": [
    {
     "data": {
      "text/plain": [
       "np.int64(3)"
      ]
     },
     "execution_count": 154,
     "metadata": {},
     "output_type": "execute_result"
    }
   ],
   "source": [
    "# Producing descriptive statistics for a series\n",
    "# Series provide many methods for common task, including producing various descriptive statistics. Here we show count mean Min Max and Std\n",
    "grades.count()"
   ]
  },
  {
   "cell_type": "code",
   "execution_count": 155,
   "id": "e8097f1f-c06e-49fa-9f6d-6f895b80a128",
   "metadata": {},
   "outputs": [
    {
     "data": {
      "text/plain": [
       "np.float64(93.66666666666667)"
      ]
     },
     "execution_count": 155,
     "metadata": {},
     "output_type": "execute_result"
    }
   ],
   "source": [
    "grades.mean()"
   ]
  },
  {
   "cell_type": "code",
   "execution_count": 156,
   "id": "326fd2c5-00bc-4e48-bd56-e46385436829",
   "metadata": {},
   "outputs": [
    {
     "data": {
      "text/plain": [
       "np.int64(87)"
      ]
     },
     "execution_count": 156,
     "metadata": {},
     "output_type": "execute_result"
    }
   ],
   "source": [
    "grades.min()"
   ]
  },
  {
   "cell_type": "code",
   "execution_count": 157,
   "id": "4891dc5d-b675-44ef-bf85-347b516ccb79",
   "metadata": {},
   "outputs": [
    {
     "data": {
      "text/plain": [
       "np.int64(100)"
      ]
     },
     "execution_count": 157,
     "metadata": {},
     "output_type": "execute_result"
    }
   ],
   "source": [
    "grades.max()"
   ]
  },
  {
   "cell_type": "code",
   "execution_count": 158,
   "id": "082304bb-4386-4ac6-8465-0bc33a1a4ed4",
   "metadata": {},
   "outputs": [
    {
     "data": {
      "text/plain": [
       "np.float64(6.506407098647712)"
      ]
     },
     "execution_count": 158,
     "metadata": {},
     "output_type": "execute_result"
    }
   ],
   "source": [
    "grades.std()"
   ]
  },
  {
   "cell_type": "code",
   "execution_count": 159,
   "id": "b7f38460-d471-4f91-b80d-436e1b21aa1a",
   "metadata": {},
   "outputs": [
    {
     "data": {
      "text/plain": [
       "count      3.000000\n",
       "mean      93.666667\n",
       "std        6.506407\n",
       "min       87.000000\n",
       "25%       90.500000\n",
       "50%       94.000000\n",
       "75%       97.000000\n",
       "max      100.000000\n",
       "dtype: float64"
      ]
     },
     "execution_count": 159,
     "metadata": {},
     "output_type": "execute_result"
    }
   ],
   "source": [
    "# Each of these is a functional style, reducing calling series method described produces the all these stats and more\n",
    "grades.describe()"
   ]
  },
  {
   "cell_type": "code",
   "execution_count": 161,
   "id": "a7a9b7bb-4b08-4c65-9dca-ccf900d51091",
   "metadata": {},
   "outputs": [
    {
     "data": {
      "text/plain": [
       "Wally     87\n",
       "Eva      100\n",
       "Sam       94\n",
       "dtype: int64"
      ]
     },
     "execution_count": 161,
     "metadata": {},
     "output_type": "execute_result"
    }
   ],
   "source": [
    "# Creating a series with custom indices\n",
    "grades = pd.Series([87,100,94], index=['Wally', 'Eva', 'Sam'])\n",
    "grades\n",
    "\n",
    "#note - In this case, we used string indices, but you can use other immutable types, \n",
    "# including integer, not beginning at zero, and non consecutive integer. Again, notice how nicely  panda formates a series for display"
   ]
  },
  {
   "cell_type": "code",
   "execution_count": 162,
   "id": "9a239a79-b9f8-4c1e-a770-f8df9e5bfecf",
   "metadata": {},
   "outputs": [
    {
     "data": {
      "text/plain": [
       "Wally     87\n",
       "Eva      100\n",
       "Sam       94\n",
       "dtype: int64"
      ]
     },
     "execution_count": 162,
     "metadata": {},
     "output_type": "execute_result"
    }
   ],
   "source": [
    "# Dictionary Initializers\n",
    "# note - If you Initialize a series with a dictionary, its key become the series indices and value becomes a series element value.\n",
    "grades = pd.Series({'Wally': 87, 'Eva': 100, 'Sam': 94})\n",
    "grades"
   ]
  },
  {
   "cell_type": "code",
   "execution_count": 163,
   "id": "c4889aaa-a595-48d9-9d1f-e82be3526454",
   "metadata": {},
   "outputs": [
    {
     "data": {
      "text/plain": [
       "np.int64(100)"
      ]
     },
     "execution_count": 163,
     "metadata": {},
     "output_type": "execute_result"
    }
   ],
   "source": [
    "# Accessing elements of a series via custom indices\n",
    "grades['Eva']"
   ]
  },
  {
   "cell_type": "code",
   "execution_count": 164,
   "id": "c41aa723-f186-44d2-9179-d8fcddf0a699",
   "metadata": {},
   "outputs": [
    {
     "data": {
      "text/plain": [
       "np.int64(87)"
      ]
     },
     "execution_count": 164,
     "metadata": {},
     "output_type": "execute_result"
    }
   ],
   "source": [
    "grades.Wally"
   ]
  },
  {
   "cell_type": "code",
   "execution_count": 165,
   "id": "f7570f74-5b00-4a74-b42f-02f7e76d970e",
   "metadata": {},
   "outputs": [
    {
     "data": {
      "text/plain": [
       "dtype('int64')"
      ]
     },
     "execution_count": 165,
     "metadata": {},
     "output_type": "execute_result"
    }
   ],
   "source": [
    "# Series also has built in attributes. For example, D type attribute written underlying errors element type:-\n",
    "grades.dtype"
   ]
  },
  {
   "cell_type": "code",
   "execution_count": 166,
   "id": "fc631eca-19db-4c06-afde-9a2f8c8d3f8f",
   "metadata": {},
   "outputs": [
    {
     "data": {
      "text/plain": [
       "array([ 87, 100,  94])"
      ]
     },
     "execution_count": 166,
     "metadata": {},
     "output_type": "execute_result"
    }
   ],
   "source": [
    "grades.values # Value attribute returns the underlying array."
   ]
  },
  {
   "cell_type": "code",
   "execution_count": 167,
   "id": "f09da2f9-4336-4b51-b6f3-30f3f3467acd",
   "metadata": {},
   "outputs": [
    {
     "data": {
      "text/plain": [
       "0    Hammer\n",
       "1       Saw\n",
       "2    Wrench\n",
       "dtype: object"
      ]
     },
     "execution_count": 167,
     "metadata": {},
     "output_type": "execute_result"
    }
   ],
   "source": [
    "# Creating a series of string -- > If a series contains string, you can use its str attribute to call string methods on the elements\n",
    "# Pandas also right aligns string element values.\n",
    "hardware = pd.Series(['Hammer', 'Saw', 'Wrench'])\n",
    "hardware"
   ]
  },
  {
   "cell_type": "code",
   "execution_count": 168,
   "id": "65498299-20cd-485c-b1a1-2d2a49105183",
   "metadata": {},
   "outputs": [
    {
     "data": {
      "text/plain": [
       "0     True\n",
       "1     True\n",
       "2    False\n",
       "dtype: bool"
      ]
     },
     "execution_count": 168,
     "metadata": {},
     "output_type": "execute_result"
    }
   ],
   "source": [
    "hardware.str.contains('a') # Calling string method contains on each element to determine whether values of each element contain - lower case 'a'."
   ]
  },
  {
   "cell_type": "code",
   "execution_count": 169,
   "id": "68e19355-fe13-4e81-b5e3-6947cae5fc97",
   "metadata": {},
   "outputs": [
    {
     "data": {
      "text/plain": [
       "0    HAMMER\n",
       "1       SAW\n",
       "2    WRENCH\n",
       "dtype: object"
      ]
     },
     "execution_count": 169,
     "metadata": {},
     "output_type": "execute_result"
    }
   ],
   "source": [
    "# to create UpperCase\n",
    "hardware.str.upper()"
   ]
  },
  {
   "cell_type": "code",
   "execution_count": 170,
   "id": "c0fd084b-46a6-4fe3-bb12-d28557e1118d",
   "metadata": {},
   "outputs": [
    {
     "data": {
      "text/plain": [
       "0    Hammer\n",
       "1       Saw\n",
       "2    Wrench\n",
       "dtype: object"
      ]
     },
     "execution_count": 170,
     "metadata": {},
     "output_type": "execute_result"
    }
   ],
   "source": [
    "hardware"
   ]
  },
  {
   "cell_type": "code",
   "execution_count": 171,
   "id": "3ef17f35-dd9c-4eb8-b72d-acb9a8229d11",
   "metadata": {},
   "outputs": [
    {
     "data": {
      "text/html": [
       "<div>\n",
       "<style scoped>\n",
       "    .dataframe tbody tr th:only-of-type {\n",
       "        vertical-align: middle;\n",
       "    }\n",
       "\n",
       "    .dataframe tbody tr th {\n",
       "        vertical-align: top;\n",
       "    }\n",
       "\n",
       "    .dataframe thead th {\n",
       "        text-align: right;\n",
       "    }\n",
       "</style>\n",
       "<table border=\"1\" class=\"dataframe\">\n",
       "  <thead>\n",
       "    <tr style=\"text-align: right;\">\n",
       "      <th></th>\n",
       "      <th>Wally</th>\n",
       "      <th>Eva</th>\n",
       "      <th>Sam</th>\n",
       "      <th>Katie</th>\n",
       "      <th>bob</th>\n",
       "    </tr>\n",
       "  </thead>\n",
       "  <tbody>\n",
       "    <tr>\n",
       "      <th>0</th>\n",
       "      <td>87</td>\n",
       "      <td>100</td>\n",
       "      <td>94</td>\n",
       "      <td>100</td>\n",
       "      <td>83</td>\n",
       "    </tr>\n",
       "    <tr>\n",
       "      <th>1</th>\n",
       "      <td>96</td>\n",
       "      <td>87</td>\n",
       "      <td>77</td>\n",
       "      <td>81</td>\n",
       "      <td>65</td>\n",
       "    </tr>\n",
       "    <tr>\n",
       "      <th>2</th>\n",
       "      <td>70</td>\n",
       "      <td>90</td>\n",
       "      <td>90</td>\n",
       "      <td>82</td>\n",
       "      <td>85</td>\n",
       "    </tr>\n",
       "  </tbody>\n",
       "</table>\n",
       "</div>"
      ],
      "text/plain": [
       "   Wally  Eva  Sam  Katie  bob\n",
       "0     87  100   94    100   83\n",
       "1     96   87   77     81   65\n",
       "2     70   90   90     82   85"
      ]
     },
     "execution_count": 171,
     "metadata": {},
     "output_type": "execute_result"
    }
   ],
   "source": [
    "# DataFrames\n",
    "# A dataframe is an enhanced 2-D array.\n",
    "# Data frames also support missing data\n",
    "# Each column in a data frame is a series \n",
    "# The series representing each column may contain different element type.\n",
    "\n",
    "#Creating a dataframe from a Dictionary\n",
    "import pandas as pd\n",
    "grades_dict = {'Wally':[87,96,70] , 'Eva':[100,87,90] , 'Sam':[94,77,90] , 'Katie':[100,81,82], 'bob':[83,65,85]}\n",
    "grades = pd.DataFrame(grades_dict)\n",
    "grades"
   ]
  },
  {
   "cell_type": "code",
   "execution_count": 172,
   "id": "60d8f3c5-4c10-4399-9302-6a80c1207c96",
   "metadata": {},
   "outputs": [
    {
     "data": {
      "text/html": [
       "<div>\n",
       "<style scoped>\n",
       "    .dataframe tbody tr th:only-of-type {\n",
       "        vertical-align: middle;\n",
       "    }\n",
       "\n",
       "    .dataframe tbody tr th {\n",
       "        vertical-align: top;\n",
       "    }\n",
       "\n",
       "    .dataframe thead th {\n",
       "        text-align: right;\n",
       "    }\n",
       "</style>\n",
       "<table border=\"1\" class=\"dataframe\">\n",
       "  <thead>\n",
       "    <tr style=\"text-align: right;\">\n",
       "      <th></th>\n",
       "      <th>Wally</th>\n",
       "      <th>Eva</th>\n",
       "      <th>Sam</th>\n",
       "      <th>Katie</th>\n",
       "      <th>bob</th>\n",
       "    </tr>\n",
       "  </thead>\n",
       "  <tbody>\n",
       "    <tr>\n",
       "      <th>Test1</th>\n",
       "      <td>87</td>\n",
       "      <td>100</td>\n",
       "      <td>94</td>\n",
       "      <td>100</td>\n",
       "      <td>83</td>\n",
       "    </tr>\n",
       "    <tr>\n",
       "      <th>Test2</th>\n",
       "      <td>96</td>\n",
       "      <td>87</td>\n",
       "      <td>77</td>\n",
       "      <td>81</td>\n",
       "      <td>65</td>\n",
       "    </tr>\n",
       "    <tr>\n",
       "      <th>Test3</th>\n",
       "      <td>70</td>\n",
       "      <td>90</td>\n",
       "      <td>90</td>\n",
       "      <td>82</td>\n",
       "      <td>85</td>\n",
       "    </tr>\n",
       "  </tbody>\n",
       "</table>\n",
       "</div>"
      ],
      "text/plain": [
       "       Wally  Eva  Sam  Katie  bob\n",
       "Test1     87  100   94    100   83\n",
       "Test2     96   87   77     81   65\n",
       "Test3     70   90   90     82   85"
      ]
     },
     "execution_count": 172,
     "metadata": {},
     "output_type": "execute_result"
    }
   ],
   "source": [
    "# Customising a data frame's indices with the index attribute.\n",
    "grades.index = ['Test1', 'Test2', 'Test3']\n",
    "grades"
   ]
  },
  {
   "cell_type": "code",
   "execution_count": 174,
   "id": "aabddb17-ad28-4afd-b72e-80210f87be79",
   "metadata": {},
   "outputs": [
    {
     "data": {
      "text/plain": [
       "Test1    100\n",
       "Test2     87\n",
       "Test3     90\n",
       "Name: Eva, dtype: int64"
      ]
     },
     "execution_count": 174,
     "metadata": {},
     "output_type": "execute_result"
    }
   ],
   "source": [
    "# Accessing a data frames columns\n",
    "grades['Eva']"
   ]
  },
  {
   "cell_type": "code",
   "execution_count": 175,
   "id": "dfbc4851-b8ff-491a-bf05-88b8a0e43b70",
   "metadata": {},
   "outputs": [
    {
     "data": {
      "text/plain": [
       "Test1    94\n",
       "Test2    77\n",
       "Test3    90\n",
       "Name: Sam, dtype: int64"
      ]
     },
     "execution_count": 175,
     "metadata": {},
     "output_type": "execute_result"
    }
   ],
   "source": [
    "# note - If a data frames column-name string, you are valid python identifier, then you can use them as an attribute\n",
    "grades.Sam"
   ]
  },
  {
   "cell_type": "code",
   "execution_count": 176,
   "id": "5ba46edc-9f6c-4b0f-85ca-f900a0166957",
   "metadata": {},
   "outputs": [
    {
     "data": {
      "text/plain": [
       "Wally     87\n",
       "Eva      100\n",
       "Sam       94\n",
       "Katie    100\n",
       "bob       83\n",
       "Name: Test1, dtype: int64"
      ]
     },
     "execution_count": 176,
     "metadata": {},
     "output_type": "execute_result"
    }
   ],
   "source": [
    "# Selecting rows via Loc and iloc attributes\n",
    "\n",
    "# note - Documentation states that indexing with [] often produces a copy of the data, which is a logic error when you attempt to assign a new value to the data frames by assigning to the result of [] operation.\n",
    "grades.loc['Test1']"
   ]
  },
  {
   "cell_type": "code",
   "execution_count": 178,
   "id": "700ec624-7b79-4031-9a42-b4e742bc86e7",
   "metadata": {},
   "outputs": [
    {
     "data": {
      "text/plain": [
       "Wally    96\n",
       "Eva      87\n",
       "Sam      77\n",
       "Katie    81\n",
       "bob      65\n",
       "Name: Test2, dtype: int64"
      ]
     },
     "execution_count": 178,
     "metadata": {},
     "output_type": "execute_result"
    }
   ],
   "source": [
    "grades.iloc[1] # (i in iloc represents iterger indices in which it is used.)"
   ]
  },
  {
   "cell_type": "code",
   "execution_count": 179,
   "id": "58a49ba0-7010-4d69-83af-6b65eb927b22",
   "metadata": {},
   "outputs": [
    {
     "data": {
      "text/html": [
       "<div>\n",
       "<style scoped>\n",
       "    .dataframe tbody tr th:only-of-type {\n",
       "        vertical-align: middle;\n",
       "    }\n",
       "\n",
       "    .dataframe tbody tr th {\n",
       "        vertical-align: top;\n",
       "    }\n",
       "\n",
       "    .dataframe thead th {\n",
       "        text-align: right;\n",
       "    }\n",
       "</style>\n",
       "<table border=\"1\" class=\"dataframe\">\n",
       "  <thead>\n",
       "    <tr style=\"text-align: right;\">\n",
       "      <th></th>\n",
       "      <th>Wally</th>\n",
       "      <th>Eva</th>\n",
       "      <th>Sam</th>\n",
       "      <th>Katie</th>\n",
       "      <th>bob</th>\n",
       "    </tr>\n",
       "  </thead>\n",
       "  <tbody>\n",
       "    <tr>\n",
       "      <th>Test1</th>\n",
       "      <td>87</td>\n",
       "      <td>100</td>\n",
       "      <td>94</td>\n",
       "      <td>100</td>\n",
       "      <td>83</td>\n",
       "    </tr>\n",
       "    <tr>\n",
       "      <th>Test2</th>\n",
       "      <td>96</td>\n",
       "      <td>87</td>\n",
       "      <td>77</td>\n",
       "      <td>81</td>\n",
       "      <td>65</td>\n",
       "    </tr>\n",
       "    <tr>\n",
       "      <th>Test3</th>\n",
       "      <td>70</td>\n",
       "      <td>90</td>\n",
       "      <td>90</td>\n",
       "      <td>82</td>\n",
       "      <td>85</td>\n",
       "    </tr>\n",
       "  </tbody>\n",
       "</table>\n",
       "</div>"
      ],
      "text/plain": [
       "       Wally  Eva  Sam  Katie  bob\n",
       "Test1     87  100   94    100   83\n",
       "Test2     96   87   77     81   65\n",
       "Test3     70   90   90     82   85"
      ]
     },
     "execution_count": 179,
     "metadata": {},
     "output_type": "execute_result"
    }
   ],
   "source": [
    "# Selecting rows via slices and list with the loc and iloc attributes\n",
    "grades.loc['Test1':'Test3'] # loc includes high index"
   ]
  },
  {
   "cell_type": "code",
   "execution_count": 184,
   "id": "c46fb394-aa9e-4fbe-bdda-1a377a326158",
   "metadata": {},
   "outputs": [
    {
     "data": {
      "text/html": [
       "<div>\n",
       "<style scoped>\n",
       "    .dataframe tbody tr th:only-of-type {\n",
       "        vertical-align: middle;\n",
       "    }\n",
       "\n",
       "    .dataframe tbody tr th {\n",
       "        vertical-align: top;\n",
       "    }\n",
       "\n",
       "    .dataframe thead th {\n",
       "        text-align: right;\n",
       "    }\n",
       "</style>\n",
       "<table border=\"1\" class=\"dataframe\">\n",
       "  <thead>\n",
       "    <tr style=\"text-align: right;\">\n",
       "      <th></th>\n",
       "      <th>Wally</th>\n",
       "      <th>Eva</th>\n",
       "      <th>Sam</th>\n",
       "      <th>Katie</th>\n",
       "      <th>bob</th>\n",
       "    </tr>\n",
       "  </thead>\n",
       "  <tbody>\n",
       "    <tr>\n",
       "      <th>Test1</th>\n",
       "      <td>87</td>\n",
       "      <td>100</td>\n",
       "      <td>94</td>\n",
       "      <td>100</td>\n",
       "      <td>83</td>\n",
       "    </tr>\n",
       "    <tr>\n",
       "      <th>Test2</th>\n",
       "      <td>96</td>\n",
       "      <td>87</td>\n",
       "      <td>77</td>\n",
       "      <td>81</td>\n",
       "      <td>65</td>\n",
       "    </tr>\n",
       "  </tbody>\n",
       "</table>\n",
       "</div>"
      ],
      "text/plain": [
       "       Wally  Eva  Sam  Katie  bob\n",
       "Test1     87  100   94    100   83\n",
       "Test2     96   87   77     81   65"
      ]
     },
     "execution_count": 184,
     "metadata": {},
     "output_type": "execute_result"
    }
   ],
   "source": [
    "# iloc excludes high index\n",
    "grades.iloc[0:2]"
   ]
  },
  {
   "cell_type": "code",
   "execution_count": 185,
   "id": "17445558-8ff5-4e5a-b422-7c0766efb9d5",
   "metadata": {},
   "outputs": [
    {
     "data": {
      "text/html": [
       "<div>\n",
       "<style scoped>\n",
       "    .dataframe tbody tr th:only-of-type {\n",
       "        vertical-align: middle;\n",
       "    }\n",
       "\n",
       "    .dataframe tbody tr th {\n",
       "        vertical-align: top;\n",
       "    }\n",
       "\n",
       "    .dataframe thead th {\n",
       "        text-align: right;\n",
       "    }\n",
       "</style>\n",
       "<table border=\"1\" class=\"dataframe\">\n",
       "  <thead>\n",
       "    <tr style=\"text-align: right;\">\n",
       "      <th></th>\n",
       "      <th>Wally</th>\n",
       "      <th>Eva</th>\n",
       "      <th>Sam</th>\n",
       "      <th>Katie</th>\n",
       "      <th>bob</th>\n",
       "    </tr>\n",
       "  </thead>\n",
       "  <tbody>\n",
       "    <tr>\n",
       "      <th>Test1</th>\n",
       "      <td>87</td>\n",
       "      <td>100</td>\n",
       "      <td>94</td>\n",
       "      <td>100</td>\n",
       "      <td>83</td>\n",
       "    </tr>\n",
       "    <tr>\n",
       "      <th>Test3</th>\n",
       "      <td>70</td>\n",
       "      <td>90</td>\n",
       "      <td>90</td>\n",
       "      <td>82</td>\n",
       "      <td>85</td>\n",
       "    </tr>\n",
       "  </tbody>\n",
       "</table>\n",
       "</div>"
      ],
      "text/plain": [
       "       Wally  Eva  Sam  Katie  bob\n",
       "Test1     87  100   94    100   83\n",
       "Test3     70   90   90     82   85"
      ]
     },
     "execution_count": 185,
     "metadata": {},
     "output_type": "execute_result"
    }
   ],
   "source": [
    "# To select specific rows,use a list rather than a slice notation with loc or iloc.\n",
    "grades.loc[['Test1', 'Test3']]"
   ]
  },
  {
   "cell_type": "code",
   "execution_count": 186,
   "id": "3381f3ad-e097-4aa7-ad9b-76099a7398f6",
   "metadata": {},
   "outputs": [
    {
     "data": {
      "text/html": [
       "<div>\n",
       "<style scoped>\n",
       "    .dataframe tbody tr th:only-of-type {\n",
       "        vertical-align: middle;\n",
       "    }\n",
       "\n",
       "    .dataframe tbody tr th {\n",
       "        vertical-align: top;\n",
       "    }\n",
       "\n",
       "    .dataframe thead th {\n",
       "        text-align: right;\n",
       "    }\n",
       "</style>\n",
       "<table border=\"1\" class=\"dataframe\">\n",
       "  <thead>\n",
       "    <tr style=\"text-align: right;\">\n",
       "      <th></th>\n",
       "      <th>Wally</th>\n",
       "      <th>Eva</th>\n",
       "      <th>Sam</th>\n",
       "      <th>Katie</th>\n",
       "      <th>bob</th>\n",
       "    </tr>\n",
       "  </thead>\n",
       "  <tbody>\n",
       "    <tr>\n",
       "      <th>Test1</th>\n",
       "      <td>87</td>\n",
       "      <td>100</td>\n",
       "      <td>94</td>\n",
       "      <td>100</td>\n",
       "      <td>83</td>\n",
       "    </tr>\n",
       "    <tr>\n",
       "      <th>Test3</th>\n",
       "      <td>70</td>\n",
       "      <td>90</td>\n",
       "      <td>90</td>\n",
       "      <td>82</td>\n",
       "      <td>85</td>\n",
       "    </tr>\n",
       "  </tbody>\n",
       "</table>\n",
       "</div>"
      ],
      "text/plain": [
       "       Wally  Eva  Sam  Katie  bob\n",
       "Test1     87  100   94    100   83\n",
       "Test3     70   90   90     82   85"
      ]
     },
     "execution_count": 186,
     "metadata": {},
     "output_type": "execute_result"
    }
   ],
   "source": [
    "grades.iloc[[0,2]]"
   ]
  },
  {
   "cell_type": "code",
   "execution_count": 187,
   "id": "893a37c8-d74d-44cf-a5cb-50307a461961",
   "metadata": {},
   "outputs": [
    {
     "data": {
      "text/html": [
       "<div>\n",
       "<style scoped>\n",
       "    .dataframe tbody tr th:only-of-type {\n",
       "        vertical-align: middle;\n",
       "    }\n",
       "\n",
       "    .dataframe tbody tr th {\n",
       "        vertical-align: top;\n",
       "    }\n",
       "\n",
       "    .dataframe thead th {\n",
       "        text-align: right;\n",
       "    }\n",
       "</style>\n",
       "<table border=\"1\" class=\"dataframe\">\n",
       "  <thead>\n",
       "    <tr style=\"text-align: right;\">\n",
       "      <th></th>\n",
       "      <th>Eva</th>\n",
       "      <th>Katie</th>\n",
       "    </tr>\n",
       "  </thead>\n",
       "  <tbody>\n",
       "    <tr>\n",
       "      <th>Test1</th>\n",
       "      <td>100</td>\n",
       "      <td>100</td>\n",
       "    </tr>\n",
       "    <tr>\n",
       "      <th>Test2</th>\n",
       "      <td>87</td>\n",
       "      <td>81</td>\n",
       "    </tr>\n",
       "  </tbody>\n",
       "</table>\n",
       "</div>"
      ],
      "text/plain": [
       "       Eva  Katie\n",
       "Test1  100    100\n",
       "Test2   87     81"
      ]
     },
     "execution_count": 187,
     "metadata": {},
     "output_type": "execute_result"
    }
   ],
   "source": [
    "# Selecting subsets of a rows and columns\n",
    "# Suppose you want to view only Evas and Kathy's grades on test 1 and test 2. \n",
    "# You can do that by using loc with a slice for two consecutive rows and a list for the two non consecutive rows.\n",
    "grades.loc['Test1':'Test2', ['Eva', 'Katie']]\n"
   ]
  },
  {
   "cell_type": "code",
   "execution_count": 188,
   "id": "99ed3709-ad94-4c4e-917e-93714d9e5604",
   "metadata": {},
   "outputs": [
    {
     "data": {
      "text/html": [
       "<div>\n",
       "<style scoped>\n",
       "    .dataframe tbody tr th:only-of-type {\n",
       "        vertical-align: middle;\n",
       "    }\n",
       "\n",
       "    .dataframe tbody tr th {\n",
       "        vertical-align: top;\n",
       "    }\n",
       "\n",
       "    .dataframe thead th {\n",
       "        text-align: right;\n",
       "    }\n",
       "</style>\n",
       "<table border=\"1\" class=\"dataframe\">\n",
       "  <thead>\n",
       "    <tr style=\"text-align: right;\">\n",
       "      <th></th>\n",
       "      <th>Wally</th>\n",
       "      <th>Eva</th>\n",
       "      <th>Sam</th>\n",
       "    </tr>\n",
       "  </thead>\n",
       "  <tbody>\n",
       "    <tr>\n",
       "      <th>Test1</th>\n",
       "      <td>87</td>\n",
       "      <td>100</td>\n",
       "      <td>94</td>\n",
       "    </tr>\n",
       "    <tr>\n",
       "      <th>Test3</th>\n",
       "      <td>70</td>\n",
       "      <td>90</td>\n",
       "      <td>90</td>\n",
       "    </tr>\n",
       "  </tbody>\n",
       "</table>\n",
       "</div>"
      ],
      "text/plain": [
       "       Wally  Eva  Sam\n",
       "Test1     87  100   94\n",
       "Test3     70   90   90"
      ]
     },
     "execution_count": 188,
     "metadata": {},
     "output_type": "execute_result"
    }
   ],
   "source": [
    "# Let's use iloc with a list and a slice to select 1st and 3rd test in the first three columns for those tests\n",
    "grades.iloc[[0,2], 0:3]"
   ]
  },
  {
   "cell_type": "code",
   "execution_count": 189,
   "id": "9a946e55-d3de-4c33-8f52-4e73394b56f1",
   "metadata": {},
   "outputs": [
    {
     "data": {
      "text/html": [
       "<div>\n",
       "<style scoped>\n",
       "    .dataframe tbody tr th:only-of-type {\n",
       "        vertical-align: middle;\n",
       "    }\n",
       "\n",
       "    .dataframe tbody tr th {\n",
       "        vertical-align: top;\n",
       "    }\n",
       "\n",
       "    .dataframe thead th {\n",
       "        text-align: right;\n",
       "    }\n",
       "</style>\n",
       "<table border=\"1\" class=\"dataframe\">\n",
       "  <thead>\n",
       "    <tr style=\"text-align: right;\">\n",
       "      <th></th>\n",
       "      <th>Wally</th>\n",
       "      <th>Eva</th>\n",
       "      <th>Sam</th>\n",
       "      <th>Katie</th>\n",
       "      <th>bob</th>\n",
       "    </tr>\n",
       "  </thead>\n",
       "  <tbody>\n",
       "    <tr>\n",
       "      <th>Test1</th>\n",
       "      <td>NaN</td>\n",
       "      <td>100.0</td>\n",
       "      <td>94.0</td>\n",
       "      <td>100.0</td>\n",
       "      <td>NaN</td>\n",
       "    </tr>\n",
       "    <tr>\n",
       "      <th>Test2</th>\n",
       "      <td>96.0</td>\n",
       "      <td>NaN</td>\n",
       "      <td>NaN</td>\n",
       "      <td>NaN</td>\n",
       "      <td>NaN</td>\n",
       "    </tr>\n",
       "    <tr>\n",
       "      <th>Test3</th>\n",
       "      <td>NaN</td>\n",
       "      <td>90.0</td>\n",
       "      <td>90.0</td>\n",
       "      <td>NaN</td>\n",
       "      <td>NaN</td>\n",
       "    </tr>\n",
       "  </tbody>\n",
       "</table>\n",
       "</div>"
      ],
      "text/plain": [
       "       Wally    Eva   Sam  Katie  bob\n",
       "Test1    NaN  100.0  94.0  100.0  NaN\n",
       "Test2   96.0    NaN   NaN    NaN  NaN\n",
       "Test3    NaN   90.0  90.0    NaN  NaN"
      ]
     },
     "execution_count": 189,
     "metadata": {},
     "output_type": "execute_result"
    }
   ],
   "source": [
    "# Boolean indexing\n",
    "grades[grades >= 90]\n",
    "\n",
    "# note- (NaN) means \"not a number\" condition is false. \"Nan\" is a python notation for missing values."
   ]
  },
  {
   "cell_type": "code",
   "execution_count": 190,
   "id": "edbf9636-0f73-41cd-bd46-02b563dd2a1a",
   "metadata": {},
   "outputs": [
    {
     "data": {
      "text/html": [
       "<div>\n",
       "<style scoped>\n",
       "    .dataframe tbody tr th:only-of-type {\n",
       "        vertical-align: middle;\n",
       "    }\n",
       "\n",
       "    .dataframe tbody tr th {\n",
       "        vertical-align: top;\n",
       "    }\n",
       "\n",
       "    .dataframe thead th {\n",
       "        text-align: right;\n",
       "    }\n",
       "</style>\n",
       "<table border=\"1\" class=\"dataframe\">\n",
       "  <thead>\n",
       "    <tr style=\"text-align: right;\">\n",
       "      <th></th>\n",
       "      <th>Wally</th>\n",
       "      <th>Eva</th>\n",
       "      <th>Sam</th>\n",
       "      <th>Katie</th>\n",
       "      <th>bob</th>\n",
       "    </tr>\n",
       "  </thead>\n",
       "  <tbody>\n",
       "    <tr>\n",
       "      <th>Test1</th>\n",
       "      <td>87.0</td>\n",
       "      <td>NaN</td>\n",
       "      <td>NaN</td>\n",
       "      <td>NaN</td>\n",
       "      <td>83.0</td>\n",
       "    </tr>\n",
       "    <tr>\n",
       "      <th>Test2</th>\n",
       "      <td>NaN</td>\n",
       "      <td>87.0</td>\n",
       "      <td>NaN</td>\n",
       "      <td>81.0</td>\n",
       "      <td>NaN</td>\n",
       "    </tr>\n",
       "    <tr>\n",
       "      <th>Test3</th>\n",
       "      <td>NaN</td>\n",
       "      <td>NaN</td>\n",
       "      <td>NaN</td>\n",
       "      <td>82.0</td>\n",
       "      <td>85.0</td>\n",
       "    </tr>\n",
       "  </tbody>\n",
       "</table>\n",
       "</div>"
      ],
      "text/plain": [
       "       Wally   Eva  Sam  Katie   bob\n",
       "Test1   87.0   NaN  NaN    NaN  83.0\n",
       "Test2    NaN  87.0  NaN   81.0   NaN\n",
       "Test3    NaN   NaN  NaN   82.0  85.0"
      ]
     },
     "execution_count": 190,
     "metadata": {},
     "output_type": "execute_result"
    }
   ],
   "source": [
    "grades[(grades >= 80) & (grades < 90)]"
   ]
  },
  {
   "cell_type": "code",
   "execution_count": 194,
   "id": "1fcbbe15-9b0b-498f-a42a-657fadda8c81",
   "metadata": {},
   "outputs": [
    {
     "data": {
      "text/plain": [
       "np.int64(87)"
      ]
     },
     "execution_count": 194,
     "metadata": {},
     "output_type": "execute_result"
    }
   ],
   "source": [
    "# Accessing a specific data frame cell by row and column\n",
    "# We can use data frames like 'at'(uses labels) or 'iat'(uses interger indices) attribute to get a single value from a data frame.\n",
    "grades.at['Test2' , 'Eva']"
   ]
  },
  {
   "cell_type": "code",
   "execution_count": 192,
   "id": "d776b8d4-86b3-40cd-8c4f-f85fe419eb69",
   "metadata": {},
   "outputs": [
    {
     "data": {
      "text/plain": [
       "np.int64(70)"
      ]
     },
     "execution_count": 192,
     "metadata": {},
     "output_type": "execute_result"
    }
   ],
   "source": [
    "grades.iat[2,0]"
   ]
  },
  {
   "cell_type": "code",
   "execution_count": 195,
   "id": "dba09bce-6a41-4be4-88c0-ba9638570f3b",
   "metadata": {},
   "outputs": [],
   "source": [
    "# You can assign a new value to a specific element\n",
    "grades.at['Test2' ,'Eva'] = 100"
   ]
  },
  {
   "cell_type": "code",
   "execution_count": 196,
   "id": "32581e25-01e7-4d82-b863-208a2b465862",
   "metadata": {},
   "outputs": [
    {
     "data": {
      "text/plain": [
       "np.int64(100)"
      ]
     },
     "execution_count": 196,
     "metadata": {},
     "output_type": "execute_result"
    }
   ],
   "source": [
    "grades.at['Test2', 'Eva']"
   ]
  },
  {
   "cell_type": "code",
   "execution_count": 197,
   "id": "8c8f4fb4-22ce-478a-bbd2-f8dbf2d3531b",
   "metadata": {},
   "outputs": [],
   "source": [
    "grades.iat[1,2] = 87"
   ]
  },
  {
   "cell_type": "code",
   "execution_count": 198,
   "id": "1705810e-4191-46a3-8b24-a5e335c20292",
   "metadata": {},
   "outputs": [
    {
     "data": {
      "text/plain": [
       "np.int64(87)"
      ]
     },
     "execution_count": 198,
     "metadata": {},
     "output_type": "execute_result"
    }
   ],
   "source": [
    "grades.iat[1,2]"
   ]
  },
  {
   "cell_type": "code",
   "execution_count": 201,
   "id": "4253cfa7-1bb4-41eb-b96f-4d69e4e4cfa1",
   "metadata": {},
   "outputs": [
    {
     "data": {
      "text/html": [
       "<div>\n",
       "<style scoped>\n",
       "    .dataframe tbody tr th:only-of-type {\n",
       "        vertical-align: middle;\n",
       "    }\n",
       "\n",
       "    .dataframe tbody tr th {\n",
       "        vertical-align: top;\n",
       "    }\n",
       "\n",
       "    .dataframe thead th {\n",
       "        text-align: right;\n",
       "    }\n",
       "</style>\n",
       "<table border=\"1\" class=\"dataframe\">\n",
       "  <thead>\n",
       "    <tr style=\"text-align: right;\">\n",
       "      <th></th>\n",
       "      <th>Wally</th>\n",
       "      <th>Eva</th>\n",
       "      <th>Sam</th>\n",
       "      <th>Katie</th>\n",
       "      <th>bob</th>\n",
       "    </tr>\n",
       "  </thead>\n",
       "  <tbody>\n",
       "    <tr>\n",
       "      <th>count</th>\n",
       "      <td>3.000000</td>\n",
       "      <td>3.000000</td>\n",
       "      <td>3.000000</td>\n",
       "      <td>3.000000</td>\n",
       "      <td>3.000000</td>\n",
       "    </tr>\n",
       "    <tr>\n",
       "      <th>mean</th>\n",
       "      <td>84.333333</td>\n",
       "      <td>96.666667</td>\n",
       "      <td>90.333333</td>\n",
       "      <td>87.666667</td>\n",
       "      <td>77.666667</td>\n",
       "    </tr>\n",
       "    <tr>\n",
       "      <th>std</th>\n",
       "      <td>13.203535</td>\n",
       "      <td>5.773503</td>\n",
       "      <td>3.511885</td>\n",
       "      <td>10.692677</td>\n",
       "      <td>11.015141</td>\n",
       "    </tr>\n",
       "    <tr>\n",
       "      <th>min</th>\n",
       "      <td>70.000000</td>\n",
       "      <td>90.000000</td>\n",
       "      <td>87.000000</td>\n",
       "      <td>81.000000</td>\n",
       "      <td>65.000000</td>\n",
       "    </tr>\n",
       "    <tr>\n",
       "      <th>25%</th>\n",
       "      <td>78.500000</td>\n",
       "      <td>95.000000</td>\n",
       "      <td>88.500000</td>\n",
       "      <td>81.500000</td>\n",
       "      <td>74.000000</td>\n",
       "    </tr>\n",
       "    <tr>\n",
       "      <th>50%</th>\n",
       "      <td>87.000000</td>\n",
       "      <td>100.000000</td>\n",
       "      <td>90.000000</td>\n",
       "      <td>82.000000</td>\n",
       "      <td>83.000000</td>\n",
       "    </tr>\n",
       "    <tr>\n",
       "      <th>75%</th>\n",
       "      <td>91.500000</td>\n",
       "      <td>100.000000</td>\n",
       "      <td>92.000000</td>\n",
       "      <td>91.000000</td>\n",
       "      <td>84.000000</td>\n",
       "    </tr>\n",
       "    <tr>\n",
       "      <th>max</th>\n",
       "      <td>96.000000</td>\n",
       "      <td>100.000000</td>\n",
       "      <td>94.000000</td>\n",
       "      <td>100.000000</td>\n",
       "      <td>85.000000</td>\n",
       "    </tr>\n",
       "  </tbody>\n",
       "</table>\n",
       "</div>"
      ],
      "text/plain": [
       "           Wally         Eva        Sam       Katie        bob\n",
       "count   3.000000    3.000000   3.000000    3.000000   3.000000\n",
       "mean   84.333333   96.666667  90.333333   87.666667  77.666667\n",
       "std    13.203535    5.773503   3.511885   10.692677  11.015141\n",
       "min    70.000000   90.000000  87.000000   81.000000  65.000000\n",
       "25%    78.500000   95.000000  88.500000   81.500000  74.000000\n",
       "50%    87.000000  100.000000  90.000000   82.000000  83.000000\n",
       "75%    91.500000  100.000000  92.000000   91.000000  84.000000\n",
       "max    96.000000  100.000000  94.000000  100.000000  85.000000"
      ]
     },
     "execution_count": 201,
     "metadata": {},
     "output_type": "execute_result"
    }
   ],
   "source": [
    "# Descriptive statistics\n",
    "grades.describe()"
   ]
  },
  {
   "cell_type": "code",
   "execution_count": 202,
   "id": "4201666e-d660-40e3-8743-578b99c3b608",
   "metadata": {},
   "outputs": [
    {
     "data": {
      "text/plain": [
       "Wally    84.333333\n",
       "Eva      96.666667\n",
       "Sam      90.333333\n",
       "Katie    87.666667\n",
       "bob      77.666667\n",
       "dtype: float64"
      ]
     },
     "execution_count": 202,
     "metadata": {},
     "output_type": "execute_result"
    }
   ],
   "source": [
    "grades.mean()"
   ]
  },
  {
   "cell_type": "code",
   "execution_count": 203,
   "id": "cee9c9f6-32b6-409b-aa27-0ed5b8865d1d",
   "metadata": {},
   "outputs": [
    {
     "data": {
      "text/html": [
       "<div>\n",
       "<style scoped>\n",
       "    .dataframe tbody tr th:only-of-type {\n",
       "        vertical-align: middle;\n",
       "    }\n",
       "\n",
       "    .dataframe tbody tr th {\n",
       "        vertical-align: top;\n",
       "    }\n",
       "\n",
       "    .dataframe thead th {\n",
       "        text-align: right;\n",
       "    }\n",
       "</style>\n",
       "<table border=\"1\" class=\"dataframe\">\n",
       "  <thead>\n",
       "    <tr style=\"text-align: right;\">\n",
       "      <th></th>\n",
       "      <th>Test1</th>\n",
       "      <th>Test2</th>\n",
       "      <th>Test3</th>\n",
       "    </tr>\n",
       "  </thead>\n",
       "  <tbody>\n",
       "    <tr>\n",
       "      <th>Wally</th>\n",
       "      <td>87</td>\n",
       "      <td>96</td>\n",
       "      <td>70</td>\n",
       "    </tr>\n",
       "    <tr>\n",
       "      <th>Eva</th>\n",
       "      <td>100</td>\n",
       "      <td>100</td>\n",
       "      <td>90</td>\n",
       "    </tr>\n",
       "    <tr>\n",
       "      <th>Sam</th>\n",
       "      <td>94</td>\n",
       "      <td>87</td>\n",
       "      <td>90</td>\n",
       "    </tr>\n",
       "    <tr>\n",
       "      <th>Katie</th>\n",
       "      <td>100</td>\n",
       "      <td>81</td>\n",
       "      <td>82</td>\n",
       "    </tr>\n",
       "    <tr>\n",
       "      <th>bob</th>\n",
       "      <td>83</td>\n",
       "      <td>65</td>\n",
       "      <td>85</td>\n",
       "    </tr>\n",
       "  </tbody>\n",
       "</table>\n",
       "</div>"
      ],
      "text/plain": [
       "       Test1  Test2  Test3\n",
       "Wally     87     96     70\n",
       "Eva      100    100     90\n",
       "Sam       94     87     90\n",
       "Katie    100     81     82\n",
       "bob       83     65     85"
      ]
     },
     "execution_count": 203,
     "metadata": {},
     "output_type": "execute_result"
    }
   ],
   "source": [
    "# transpose\n",
    "grades.T"
   ]
  },
  {
   "cell_type": "code",
   "execution_count": 204,
   "id": "6fd9832f-e745-4743-906b-61e9de4e944c",
   "metadata": {},
   "outputs": [
    {
     "data": {
      "text/html": [
       "<div>\n",
       "<style scoped>\n",
       "    .dataframe tbody tr th:only-of-type {\n",
       "        vertical-align: middle;\n",
       "    }\n",
       "\n",
       "    .dataframe tbody tr th {\n",
       "        vertical-align: top;\n",
       "    }\n",
       "\n",
       "    .dataframe thead th {\n",
       "        text-align: right;\n",
       "    }\n",
       "</style>\n",
       "<table border=\"1\" class=\"dataframe\">\n",
       "  <thead>\n",
       "    <tr style=\"text-align: right;\">\n",
       "      <th></th>\n",
       "      <th>Test1</th>\n",
       "      <th>Test2</th>\n",
       "      <th>Test3</th>\n",
       "    </tr>\n",
       "  </thead>\n",
       "  <tbody>\n",
       "    <tr>\n",
       "      <th>count</th>\n",
       "      <td>5.000000</td>\n",
       "      <td>5.000000</td>\n",
       "      <td>5.000000</td>\n",
       "    </tr>\n",
       "    <tr>\n",
       "      <th>mean</th>\n",
       "      <td>92.800000</td>\n",
       "      <td>85.800000</td>\n",
       "      <td>83.400000</td>\n",
       "    </tr>\n",
       "    <tr>\n",
       "      <th>std</th>\n",
       "      <td>7.661593</td>\n",
       "      <td>13.809417</td>\n",
       "      <td>8.234076</td>\n",
       "    </tr>\n",
       "    <tr>\n",
       "      <th>min</th>\n",
       "      <td>83.000000</td>\n",
       "      <td>65.000000</td>\n",
       "      <td>70.000000</td>\n",
       "    </tr>\n",
       "    <tr>\n",
       "      <th>25%</th>\n",
       "      <td>87.000000</td>\n",
       "      <td>81.000000</td>\n",
       "      <td>82.000000</td>\n",
       "    </tr>\n",
       "    <tr>\n",
       "      <th>50%</th>\n",
       "      <td>94.000000</td>\n",
       "      <td>87.000000</td>\n",
       "      <td>85.000000</td>\n",
       "    </tr>\n",
       "    <tr>\n",
       "      <th>75%</th>\n",
       "      <td>100.000000</td>\n",
       "      <td>96.000000</td>\n",
       "      <td>90.000000</td>\n",
       "    </tr>\n",
       "    <tr>\n",
       "      <th>max</th>\n",
       "      <td>100.000000</td>\n",
       "      <td>100.000000</td>\n",
       "      <td>90.000000</td>\n",
       "    </tr>\n",
       "  </tbody>\n",
       "</table>\n",
       "</div>"
      ],
      "text/plain": [
       "            Test1       Test2      Test3\n",
       "count    5.000000    5.000000   5.000000\n",
       "mean    92.800000   85.800000  83.400000\n",
       "std      7.661593   13.809417   8.234076\n",
       "min     83.000000   65.000000  70.000000\n",
       "25%     87.000000   81.000000  82.000000\n",
       "50%     94.000000   87.000000  85.000000\n",
       "75%    100.000000   96.000000  90.000000\n",
       "max    100.000000  100.000000  90.000000"
      ]
     },
     "execution_count": 204,
     "metadata": {},
     "output_type": "execute_result"
    }
   ],
   "source": [
    "grades.T.describe()"
   ]
  },
  {
   "cell_type": "code",
   "execution_count": 205,
   "id": "b795f416-0f7b-45c1-b2b2-7c7af68acb2c",
   "metadata": {},
   "outputs": [
    {
     "data": {
      "text/plain": [
       "Test1    92.8\n",
       "Test2    85.8\n",
       "Test3    83.4\n",
       "dtype: float64"
      ]
     },
     "execution_count": 205,
     "metadata": {},
     "output_type": "execute_result"
    }
   ],
   "source": [
    "grades.T.mean()"
   ]
  },
  {
   "cell_type": "code",
   "execution_count": 206,
   "id": "0d4514f9-23c6-4bee-9646-871c64644274",
   "metadata": {},
   "outputs": [
    {
     "data": {
      "text/html": [
       "<div>\n",
       "<style scoped>\n",
       "    .dataframe tbody tr th:only-of-type {\n",
       "        vertical-align: middle;\n",
       "    }\n",
       "\n",
       "    .dataframe tbody tr th {\n",
       "        vertical-align: top;\n",
       "    }\n",
       "\n",
       "    .dataframe thead th {\n",
       "        text-align: right;\n",
       "    }\n",
       "</style>\n",
       "<table border=\"1\" class=\"dataframe\">\n",
       "  <thead>\n",
       "    <tr style=\"text-align: right;\">\n",
       "      <th></th>\n",
       "      <th>Wally</th>\n",
       "      <th>Eva</th>\n",
       "      <th>Sam</th>\n",
       "      <th>Katie</th>\n",
       "      <th>bob</th>\n",
       "    </tr>\n",
       "  </thead>\n",
       "  <tbody>\n",
       "    <tr>\n",
       "      <th>Test3</th>\n",
       "      <td>70</td>\n",
       "      <td>90</td>\n",
       "      <td>90</td>\n",
       "      <td>82</td>\n",
       "      <td>85</td>\n",
       "    </tr>\n",
       "    <tr>\n",
       "      <th>Test2</th>\n",
       "      <td>96</td>\n",
       "      <td>100</td>\n",
       "      <td>87</td>\n",
       "      <td>81</td>\n",
       "      <td>65</td>\n",
       "    </tr>\n",
       "    <tr>\n",
       "      <th>Test1</th>\n",
       "      <td>87</td>\n",
       "      <td>100</td>\n",
       "      <td>94</td>\n",
       "      <td>100</td>\n",
       "      <td>83</td>\n",
       "    </tr>\n",
       "  </tbody>\n",
       "</table>\n",
       "</div>"
      ],
      "text/plain": [
       "       Wally  Eva  Sam  Katie  bob\n",
       "Test3     70   90   90     82   85\n",
       "Test2     96  100   87     81   65\n",
       "Test1     87  100   94    100   83"
      ]
     },
     "execution_count": 206,
     "metadata": {},
     "output_type": "execute_result"
    }
   ],
   "source": [
    "# Sorting by rows by their indices\n",
    "grades.sort_index(ascending=False) # Shorting the rows by their indices in descending order"
   ]
  },
  {
   "cell_type": "code",
   "execution_count": 207,
   "id": "68a4510a-8c96-441f-be27-e138d45f35b4",
   "metadata": {},
   "outputs": [
    {
     "data": {
      "text/html": [
       "<div>\n",
       "<style scoped>\n",
       "    .dataframe tbody tr th:only-of-type {\n",
       "        vertical-align: middle;\n",
       "    }\n",
       "\n",
       "    .dataframe tbody tr th {\n",
       "        vertical-align: top;\n",
       "    }\n",
       "\n",
       "    .dataframe thead th {\n",
       "        text-align: right;\n",
       "    }\n",
       "</style>\n",
       "<table border=\"1\" class=\"dataframe\">\n",
       "  <thead>\n",
       "    <tr style=\"text-align: right;\">\n",
       "      <th></th>\n",
       "      <th>Wally</th>\n",
       "      <th>Eva</th>\n",
       "      <th>Sam</th>\n",
       "      <th>Katie</th>\n",
       "      <th>bob</th>\n",
       "    </tr>\n",
       "  </thead>\n",
       "  <tbody>\n",
       "    <tr>\n",
       "      <th>Test1</th>\n",
       "      <td>87</td>\n",
       "      <td>100</td>\n",
       "      <td>94</td>\n",
       "      <td>100</td>\n",
       "      <td>83</td>\n",
       "    </tr>\n",
       "    <tr>\n",
       "      <th>Test2</th>\n",
       "      <td>96</td>\n",
       "      <td>100</td>\n",
       "      <td>87</td>\n",
       "      <td>81</td>\n",
       "      <td>65</td>\n",
       "    </tr>\n",
       "    <tr>\n",
       "      <th>Test3</th>\n",
       "      <td>70</td>\n",
       "      <td>90</td>\n",
       "      <td>90</td>\n",
       "      <td>82</td>\n",
       "      <td>85</td>\n",
       "    </tr>\n",
       "  </tbody>\n",
       "</table>\n",
       "</div>"
      ],
      "text/plain": [
       "       Wally  Eva  Sam  Katie  bob\n",
       "Test1     87  100   94    100   83\n",
       "Test2     96  100   87     81   65\n",
       "Test3     70   90   90     82   85"
      ]
     },
     "execution_count": 207,
     "metadata": {},
     "output_type": "execute_result"
    }
   ],
   "source": [
    "grades.sort_index(ascending=True) "
   ]
  },
  {
   "cell_type": "code",
   "execution_count": 208,
   "id": "8273bbc9-3cb0-4e3d-a7c8-9f2feff6b833",
   "metadata": {},
   "outputs": [
    {
     "data": {
      "text/html": [
       "<div>\n",
       "<style scoped>\n",
       "    .dataframe tbody tr th:only-of-type {\n",
       "        vertical-align: middle;\n",
       "    }\n",
       "\n",
       "    .dataframe tbody tr th {\n",
       "        vertical-align: top;\n",
       "    }\n",
       "\n",
       "    .dataframe thead th {\n",
       "        text-align: right;\n",
       "    }\n",
       "</style>\n",
       "<table border=\"1\" class=\"dataframe\">\n",
       "  <thead>\n",
       "    <tr style=\"text-align: right;\">\n",
       "      <th></th>\n",
       "      <th>Eva</th>\n",
       "      <th>Katie</th>\n",
       "      <th>Sam</th>\n",
       "      <th>Wally</th>\n",
       "      <th>bob</th>\n",
       "    </tr>\n",
       "  </thead>\n",
       "  <tbody>\n",
       "    <tr>\n",
       "      <th>Test1</th>\n",
       "      <td>100</td>\n",
       "      <td>100</td>\n",
       "      <td>94</td>\n",
       "      <td>87</td>\n",
       "      <td>83</td>\n",
       "    </tr>\n",
       "    <tr>\n",
       "      <th>Test2</th>\n",
       "      <td>100</td>\n",
       "      <td>81</td>\n",
       "      <td>87</td>\n",
       "      <td>96</td>\n",
       "      <td>65</td>\n",
       "    </tr>\n",
       "    <tr>\n",
       "      <th>Test3</th>\n",
       "      <td>90</td>\n",
       "      <td>82</td>\n",
       "      <td>90</td>\n",
       "      <td>70</td>\n",
       "      <td>85</td>\n",
       "    </tr>\n",
       "  </tbody>\n",
       "</table>\n",
       "</div>"
      ],
      "text/plain": [
       "       Eva  Katie  Sam  Wally  bob\n",
       "Test1  100    100   94     87   83\n",
       "Test2  100     81   87     96   65\n",
       "Test3   90     82   90     70   85"
      ]
     },
     "execution_count": 208,
     "metadata": {},
     "output_type": "execute_result"
    }
   ],
   "source": [
    "# Shorting by column indices\n",
    "# axis=1  keyword argument indicates that we wish to sort the column indices rather than the row indices. \n",
    "#axis= 0 (the default) ---> sort ----row indices\n",
    "grades.sort_index(axis=1)"
   ]
  },
  {
   "cell_type": "code",
   "execution_count": 210,
   "id": "6d32f27f-dfad-480c-ae3d-35ac67dc0805",
   "metadata": {},
   "outputs": [
    {
     "data": {
      "text/html": [
       "<div>\n",
       "<style scoped>\n",
       "    .dataframe tbody tr th:only-of-type {\n",
       "        vertical-align: middle;\n",
       "    }\n",
       "\n",
       "    .dataframe tbody tr th {\n",
       "        vertical-align: top;\n",
       "    }\n",
       "\n",
       "    .dataframe thead th {\n",
       "        text-align: right;\n",
       "    }\n",
       "</style>\n",
       "<table border=\"1\" class=\"dataframe\">\n",
       "  <thead>\n",
       "    <tr style=\"text-align: right;\">\n",
       "      <th></th>\n",
       "      <th>Eva</th>\n",
       "      <th>Katie</th>\n",
       "      <th>Sam</th>\n",
       "      <th>Wally</th>\n",
       "      <th>bob</th>\n",
       "    </tr>\n",
       "  </thead>\n",
       "  <tbody>\n",
       "    <tr>\n",
       "      <th>Test1</th>\n",
       "      <td>100</td>\n",
       "      <td>100</td>\n",
       "      <td>94</td>\n",
       "      <td>87</td>\n",
       "      <td>83</td>\n",
       "    </tr>\n",
       "    <tr>\n",
       "      <th>Test2</th>\n",
       "      <td>100</td>\n",
       "      <td>81</td>\n",
       "      <td>87</td>\n",
       "      <td>96</td>\n",
       "      <td>65</td>\n",
       "    </tr>\n",
       "    <tr>\n",
       "      <th>Test3</th>\n",
       "      <td>90</td>\n",
       "      <td>82</td>\n",
       "      <td>90</td>\n",
       "      <td>70</td>\n",
       "      <td>85</td>\n",
       "    </tr>\n",
       "  </tbody>\n",
       "</table>\n",
       "</div>"
      ],
      "text/plain": [
       "       Eva  Katie  Sam  Wally  bob\n",
       "Test1  100    100   94     87   83\n",
       "Test2  100     81   87     96   65\n",
       "Test3   90     82   90     70   85"
      ]
     },
     "execution_count": 210,
     "metadata": {},
     "output_type": "execute_result"
    }
   ],
   "source": [
    "# Shorting by column values\n",
    "grades.sort_values(by='Test1' , axis=1, ascending=False)"
   ]
  },
  {
   "cell_type": "code",
   "execution_count": 211,
   "id": "ddfa91ee-dac8-47d4-beb1-610a2d3b02d7",
   "metadata": {},
   "outputs": [
    {
     "data": {
      "text/html": [
       "<div>\n",
       "<style scoped>\n",
       "    .dataframe tbody tr th:only-of-type {\n",
       "        vertical-align: middle;\n",
       "    }\n",
       "\n",
       "    .dataframe tbody tr th {\n",
       "        vertical-align: top;\n",
       "    }\n",
       "\n",
       "    .dataframe thead th {\n",
       "        text-align: right;\n",
       "    }\n",
       "</style>\n",
       "<table border=\"1\" class=\"dataframe\">\n",
       "  <thead>\n",
       "    <tr style=\"text-align: right;\">\n",
       "      <th></th>\n",
       "      <th>Test1</th>\n",
       "      <th>Test2</th>\n",
       "      <th>Test3</th>\n",
       "    </tr>\n",
       "  </thead>\n",
       "  <tbody>\n",
       "    <tr>\n",
       "      <th>Eva</th>\n",
       "      <td>100</td>\n",
       "      <td>100</td>\n",
       "      <td>90</td>\n",
       "    </tr>\n",
       "    <tr>\n",
       "      <th>Katie</th>\n",
       "      <td>100</td>\n",
       "      <td>81</td>\n",
       "      <td>82</td>\n",
       "    </tr>\n",
       "    <tr>\n",
       "      <th>Sam</th>\n",
       "      <td>94</td>\n",
       "      <td>87</td>\n",
       "      <td>90</td>\n",
       "    </tr>\n",
       "    <tr>\n",
       "      <th>Wally</th>\n",
       "      <td>87</td>\n",
       "      <td>96</td>\n",
       "      <td>70</td>\n",
       "    </tr>\n",
       "    <tr>\n",
       "      <th>bob</th>\n",
       "      <td>83</td>\n",
       "      <td>65</td>\n",
       "      <td>85</td>\n",
       "    </tr>\n",
       "  </tbody>\n",
       "</table>\n",
       "</div>"
      ],
      "text/plain": [
       "       Test1  Test2  Test3\n",
       "Eva      100    100     90\n",
       "Katie    100     81     82\n",
       "Sam       94     87     90\n",
       "Wally     87     96     70\n",
       "bob       83     65     85"
      ]
     },
     "execution_count": 211,
     "metadata": {},
     "output_type": "execute_result"
    }
   ],
   "source": [
    "grades.T.sort_values(by='Test1', ascending=False) # Since we are sorting only test one grades, you might not want to see the other test at all"
   ]
  },
  {
   "cell_type": "code",
   "execution_count": 212,
   "id": "5420ed43-478a-49f1-8b9c-eecf64bac518",
   "metadata": {},
   "outputs": [
    {
     "data": {
      "text/plain": [
       "Eva      100\n",
       "Katie    100\n",
       "Sam       94\n",
       "Wally     87\n",
       "bob       83\n",
       "Name: Test1, dtype: int64"
      ]
     },
     "execution_count": 212,
     "metadata": {},
     "output_type": "execute_result"
    }
   ],
   "source": [
    "#combine both\n",
    "grades.loc['Test1'].sort_values(ascending=False)"
   ]
  },
  {
   "cell_type": "code",
   "execution_count": 1,
   "id": "bb6d890c-6218-4935-a7c0-a8141b4f40ef",
   "metadata": {},
   "outputs": [
    {
     "data": {
      "text/plain": [
       "'17.46'"
      ]
     },
     "execution_count": 1,
     "metadata": {},
     "output_type": "execute_result"
    }
   ],
   "source": [
    "f'{17.45689:.2f}'"
   ]
  },
  {
   "cell_type": "code",
   "execution_count": 2,
   "id": "cba2a4b4-6a62-4526-beeb-5256856b25f8",
   "metadata": {},
   "outputs": [
    {
     "data": {
      "text/plain": [
       "'10'"
      ]
     },
     "execution_count": 2,
     "metadata": {},
     "output_type": "execute_result"
    }
   ],
   "source": [
    " f'{10:d}'  # d representation type formats integer value as a string."
   ]
  },
  {
   "cell_type": "code",
   "execution_count": 3,
   "id": "18fce2dc-a3b3-4f63-8fef-2c57ac97de88",
   "metadata": {},
   "outputs": [
    {
     "data": {
      "text/plain": [
       "'A a'"
      ]
     },
     "execution_count": 3,
     "metadata": {},
     "output_type": "execute_result"
    }
   ],
   "source": [
    "# c presentation type --> \n",
    "f'{65:c} {97:c}' #Formats an integer character code as the corresponding character."
   ]
  },
  {
   "cell_type": "code",
   "execution_count": 5,
   "id": "85fcc6c3-65e8-437a-9322-652ef76253e5",
   "metadata": {},
   "outputs": [
    {
     "data": {
      "text/plain": [
       "'hello 7'"
      ]
     },
     "execution_count": 5,
     "metadata": {},
     "output_type": "execute_result"
    }
   ],
   "source": [
    "# Stirngs\n",
    "# s presentation type is a default.\n",
    "f'{\"hello\":s} {7}'\n",
    "\n",
    "# note - Hello is enclosed in double quotes you can not place single quote inside a single-quoted string"
   ]
  },
  {
   "cell_type": "code",
   "execution_count": 7,
   "id": "686db58b-8745-4d0c-831c-70c04ec4a355",
   "metadata": {},
   "outputs": [
    {
     "data": {
      "text/plain": [
       "'1000000000000000000000000000000.000'"
      ]
     },
     "execution_count": 7,
     "metadata": {},
     "output_type": "execute_result"
    }
   ],
   "source": [
    "# floating and decimal values\n",
    "# f presentation type to format floating-point and decimal values.\n",
    "from decimal import Decimal\n",
    "f'{Decimal(\"1000000000000000000000000000000.0\"):.3f}'"
   ]
  },
  {
   "cell_type": "code",
   "execution_count": 8,
   "id": "fe6ce68d-bfcc-419d-948a-35908f87e26f",
   "metadata": {},
   "outputs": [
    {
     "data": {
      "text/plain": [
       "'1.000e+30'"
      ]
     },
     "execution_count": 8,
     "metadata": {},
     "output_type": "execute_result"
    }
   ],
   "source": [
    "f'{Decimal(\"1000000000000000000000000000000.0\"):.3e}'"
   ]
  },
  {
   "cell_type": "code",
   "execution_count": 9,
   "id": "e497b961-d3a8-4829-8a34-c385f690884a",
   "metadata": {},
   "outputs": [
    {
     "data": {
      "text/plain": [
       "'[        27]'"
      ]
     },
     "execution_count": 9,
     "metadata": {},
     "output_type": "execute_result"
    }
   ],
   "source": [
    "# Feild Widths and Alignment\n",
    "f'[{27:10d}]'"
   ]
  },
  {
   "cell_type": "code",
   "execution_count": 10,
   "id": "889b906e-381f-4ddb-ae3a-ac055d0c9611",
   "metadata": {},
   "outputs": [
    {
     "data": {
      "text/plain": [
       "'[  3.500000]'"
      ]
     },
     "execution_count": 10,
     "metadata": {},
     "output_type": "execute_result"
    }
   ],
   "source": [
    "f'[{3.5:10f}]'"
   ]
  },
  {
   "cell_type": "code",
   "execution_count": 11,
   "id": "25b1a038-a845-4960-9410-d33ceb28b9e4",
   "metadata": {},
   "outputs": [
    {
     "data": {
      "text/plain": [
       "'[Hello     ]'"
      ]
     },
     "execution_count": 11,
     "metadata": {},
     "output_type": "execute_result"
    }
   ],
   "source": [
    "f'[{\"Hello\":10}]'"
   ]
  },
  {
   "cell_type": "code",
   "execution_count": 12,
   "id": "caf07143-72e3-4155-8e2e-5da00aa1e486",
   "metadata": {},
   "outputs": [
    {
     "data": {
      "text/plain": [
       "'[27             ]'"
      ]
     },
     "execution_count": 12,
     "metadata": {},
     "output_type": "execute_result"
    }
   ],
   "source": [
    "# Explicitly Specifying Left and Right Alignment in a Feild\n",
    "# You can specify left and right alignment with < and > \n",
    "f'[{27:<15d}]'"
   ]
  },
  {
   "cell_type": "code",
   "execution_count": 13,
   "id": "3227d502-36d9-4183-99cf-181dae24f353",
   "metadata": {},
   "outputs": [
    {
     "data": {
      "text/plain": [
       "'[3.500000       ]'"
      ]
     },
     "execution_count": 13,
     "metadata": {},
     "output_type": "execute_result"
    }
   ],
   "source": [
    "f'[{3.5:<15f}]'"
   ]
  },
  {
   "cell_type": "code",
   "execution_count": 14,
   "id": "4a377062-97e1-4626-b520-a619e144aa29",
   "metadata": {},
   "outputs": [
    {
     "data": {
      "text/plain": [
       "'[          Hello]'"
      ]
     },
     "execution_count": 14,
     "metadata": {},
     "output_type": "execute_result"
    }
   ],
   "source": [
    "f'[{\"Hello\":>15}]'"
   ]
  },
  {
   "cell_type": "code",
   "execution_count": 15,
   "id": "b19c0190-72fc-47ab-9eb8-fae3352248de",
   "metadata": {},
   "outputs": [
    {
     "data": {
      "text/plain": [
       "'[  27   ]'"
      ]
     },
     "execution_count": 15,
     "metadata": {},
     "output_type": "execute_result"
    }
   ],
   "source": [
    "# Centering a value in a field\n",
    "f'[{27:^7d}]'"
   ]
  },
  {
   "cell_type": "code",
   "execution_count": 16,
   "id": "82c7e438-08c1-4296-9712-d0d22227a9ad",
   "metadata": {},
   "outputs": [
    {
     "data": {
      "text/plain": [
       "'[  3.5  ]'"
      ]
     },
     "execution_count": 16,
     "metadata": {},
     "output_type": "execute_result"
    }
   ],
   "source": [
    "f'[{3.5:^7.1f}]'"
   ]
  },
  {
   "cell_type": "code",
   "execution_count": 17,
   "id": "bb9cbcf7-242c-4ca4-a802-205962775fe4",
   "metadata": {},
   "outputs": [
    {
     "data": {
      "text/plain": [
       "'[ Hello ]'"
      ]
     },
     "execution_count": 17,
     "metadata": {},
     "output_type": "execute_result"
    }
   ],
   "source": [
    "f'[{\"Hello\":^7}]'"
   ]
  },
  {
   "cell_type": "code",
   "execution_count": 18,
   "id": "d042e5f4-7d77-4d0d-a704-7907ceadcbe4",
   "metadata": {},
   "outputs": [
    {
     "data": {
      "text/plain": [
       "'[       +27]'"
      ]
     },
     "execution_count": 18,
     "metadata": {},
     "output_type": "execute_result"
    }
   ],
   "source": [
    "# Numeric formatting\n",
    "f'[{27:+10d}]'"
   ]
  },
  {
   "cell_type": "code",
   "execution_count": 19,
   "id": "ac6786fc-f72d-4361-a03c-36844f44e5ac",
   "metadata": {},
   "outputs": [
    {
     "data": {
      "text/plain": [
       "'[+000000027]'"
      ]
     },
     "execution_count": 19,
     "metadata": {},
     "output_type": "execute_result"
    }
   ],
   "source": [
    "f'[{27:+010d}]'"
   ]
  },
  {
   "cell_type": "code",
   "execution_count": 20,
   "id": "86bec01a-fd89-48ef-958d-38d1e984d14d",
   "metadata": {},
   "outputs": [
    {
     "name": "stdout",
     "output_type": "stream",
     "text": [
      "27\n",
      " 27\n",
      "-27\n"
     ]
    }
   ],
   "source": [
    "# Using a space where +a Sign would apper in a positive value\n",
    "print(f'{27:d}\\n{27: d}\\n{-27: d}')"
   ]
  },
  {
   "cell_type": "code",
   "execution_count": 21,
   "id": "293801bd-6cce-4b8d-9d94-f78ad234be7d",
   "metadata": {},
   "outputs": [
    {
     "data": {
      "text/plain": [
       "'[ 12,345,678]'"
      ]
     },
     "execution_count": 21,
     "metadata": {},
     "output_type": "execute_result"
    }
   ],
   "source": [
    "# Grouping Digits\n",
    "# You can format numbers in thousands separators by using (,)\n",
    "f'[{12345678: ,d}]'"
   ]
  },
  {
   "cell_type": "code",
   "execution_count": 22,
   "id": "93f199c0-efa5-4327-b391-417cf7f25748",
   "metadata": {},
   "outputs": [
    {
     "data": {
      "text/plain": [
       "'123,456.78'"
      ]
     },
     "execution_count": 22,
     "metadata": {},
     "output_type": "execute_result"
    }
   ],
   "source": [
    "f'{123456.78:,.2f}'"
   ]
  },
  {
   "cell_type": "code",
   "execution_count": 23,
   "id": "292add93-625a-4655-97b4-03efc5d9b1e5",
   "metadata": {},
   "outputs": [
    {
     "data": {
      "text/plain": [
       "'17.49'"
      ]
     },
     "execution_count": 23,
     "metadata": {},
     "output_type": "execute_result"
    }
   ],
   "source": [
    "# String's Format Method\n",
    "'{:.2f}'.format(17.489)"
   ]
  },
  {
   "cell_type": "code",
   "execution_count": 27,
   "id": "62c9c42a-9eea-458b-b2a2-5d5c5d32b922",
   "metadata": {},
   "outputs": [
    {
     "data": {
      "text/plain": [
       "'Amanda Cyan'"
      ]
     },
     "execution_count": 27,
     "metadata": {},
     "output_type": "execute_result"
    }
   ],
   "source": [
    "# Multiple Placeholders\n",
    "'{} {}'.format( 'Amanda', 'Cyan')"
   ]
  },
  {
   "cell_type": "code",
   "execution_count": 30,
   "id": "0e413e7f-e179-4ca0-b27c-86ae65e6a020",
   "metadata": {},
   "outputs": [
    {
     "data": {
      "text/plain": [
       "'hello Amanda hello Cyan How are you!'"
      ]
     },
     "execution_count": 30,
     "metadata": {},
     "output_type": "execute_result"
    }
   ],
   "source": [
    "# Multiple Placeholders\n",
    "'hello {} hello {} How are you!'.format( 'Amanda', 'Cyan')"
   ]
  },
  {
   "cell_type": "code",
   "execution_count": 33,
   "id": "dfb5f4d1-7d8e-4022-b4e0-842f1b12f1dd",
   "metadata": {},
   "outputs": [
    {
     "data": {
      "text/plain": [
       "'Happy boy Happy Birthday Gyan'"
      ]
     },
     "execution_count": 33,
     "metadata": {},
     "output_type": "execute_result"
    }
   ],
   "source": [
    "# Refreshing arguments by position number\n",
    "'{0} boy {0} {1} Gyan'.format('Happy','Birthday')\n",
    "\n"
   ]
  },
  {
   "cell_type": "code",
   "execution_count": 37,
   "id": "af20f78e-7cf0-4734-bc1a-fbfb11bfc2e3",
   "metadata": {},
   "outputs": [
    {
     "data": {
      "text/plain": [
       "'Tiwari ji Tiwari ji'"
      ]
     },
     "execution_count": 37,
     "metadata": {},
     "output_type": "execute_result"
    }
   ],
   "source": [
    "'{1} ji {1} ji'.format('Goutam','Tiwari')"
   ]
  },
  {
   "cell_type": "code",
   "execution_count": 38,
   "id": "d7340a7c-ef8b-44b3-bfa1-893da74b0656",
   "metadata": {},
   "outputs": [
    {
     "data": {
      "text/plain": [
       "'Amanda Gray'"
      ]
     },
     "execution_count": 38,
     "metadata": {},
     "output_type": "execute_result"
    }
   ],
   "source": [
    "# Refreshing keyword arguments\n",
    "'{first} {last}'.format(first='Amanda', last='Gray')\n",
    "\n"
   ]
  },
  {
   "cell_type": "code",
   "execution_count": 40,
   "id": "f04795f6-d69b-4b80-b9c1-e17d6ac7b145",
   "metadata": {},
   "outputs": [
    {
     "data": {
      "text/plain": [
       "'Gray Amanda '"
      ]
     },
     "execution_count": 40,
     "metadata": {},
     "output_type": "execute_result"
    }
   ],
   "source": [
    "# Refreshing keyword arguments\n",
    "'{last} {first} '.format(first='Amanda', last='Gray')\n",
    "\n"
   ]
  },
  {
   "cell_type": "code",
   "execution_count": 42,
   "id": "17dd7c81-231f-4bb2-9a64-7dcb0b838773",
   "metadata": {},
   "outputs": [
    {
     "data": {
      "text/plain": [
       "'happy'"
      ]
     },
     "execution_count": 42,
     "metadata": {},
     "output_type": "execute_result"
    }
   ],
   "source": [
    "# Concatenating and Repeating Strings\n",
    "s1 = 'happy'\n",
    "s2 = 'birthday'\n",
    "s1"
   ]
  },
  {
   "cell_type": "code",
   "execution_count": 43,
   "id": "7901b50c-b26c-4d44-864c-2cd5a0d8f29d",
   "metadata": {},
   "outputs": [
    {
     "data": {
      "text/plain": [
       "'birthday'"
      ]
     },
     "execution_count": 43,
     "metadata": {},
     "output_type": "execute_result"
    }
   ],
   "source": [
    "s2"
   ]
  },
  {
   "cell_type": "code",
   "execution_count": 45,
   "id": "d10b4cc3-1c14-4f62-893c-eb204fe93dc5",
   "metadata": {},
   "outputs": [
    {
     "data": {
      "text/plain": [
       "'happy birthday'"
      ]
     },
     "execution_count": 45,
     "metadata": {},
     "output_type": "execute_result"
    }
   ],
   "source": [
    "s1 + \" \" + s2"
   ]
  },
  {
   "cell_type": "code",
   "execution_count": 46,
   "id": "331c524a-de9e-47b3-a0e9-6400d600f622",
   "metadata": {},
   "outputs": [],
   "source": [
    "s1 += \" \" + s2"
   ]
  },
  {
   "cell_type": "code",
   "execution_count": 47,
   "id": "b3ba0436-b986-4443-9b93-71224b8ff34d",
   "metadata": {},
   "outputs": [
    {
     "data": {
      "text/plain": [
       "'happy birthday'"
      ]
     },
     "execution_count": 47,
     "metadata": {},
     "output_type": "execute_result"
    }
   ],
   "source": [
    "s1"
   ]
  },
  {
   "cell_type": "code",
   "execution_count": 48,
   "id": "f5743ade-4b56-4667-8a22-3583af414942",
   "metadata": {},
   "outputs": [
    {
     "data": {
      "text/plain": [
       "'happy birthday'"
      ]
     },
     "execution_count": 48,
     "metadata": {},
     "output_type": "execute_result"
    }
   ],
   "source": [
    "s1"
   ]
  },
  {
   "cell_type": "code",
   "execution_count": 55,
   "id": "fcc14676-3012-4d1c-8427-1f3e772e9b7b",
   "metadata": {},
   "outputs": [
    {
     "data": {
      "text/plain": [
       "'happy birthdayhappy birthdayhappy birthdayhappy birthdayhappy birthdayhappy birthdayhappy birthdayhappy birthdayhappy birthdayhappy birthdayhappy birthdayhappy birthdayhappy birthdayhappy birthdayhappy birthdayhappy birthdayhappy birthdayhappy birthdayhappy birthdayhappy birthdayhappy birthdayhappy birthdayhappy birthdayhappy birthdayhappy birthday'"
      ]
     },
     "execution_count": 55,
     "metadata": {},
     "output_type": "execute_result"
    }
   ],
   "source": [
    "symbol = '>'\n",
    "s1 > s2\n",
    "s1"
   ]
  },
  {
   "cell_type": "code",
   "execution_count": 56,
   "id": "1c820b0f-4557-474a-89d7-e0f8a0a872d4",
   "metadata": {},
   "outputs": [],
   "source": [
    "symbol *= 5"
   ]
  },
  {
   "cell_type": "code",
   "execution_count": 53,
   "id": "09c33a8a-6d4d-4d8c-9536-dc3ca0f920d0",
   "metadata": {},
   "outputs": [
    {
     "data": {
      "text/plain": [
       "'happy birthdayhappy birthdayhappy birthdayhappy birthdayhappy birthdayhappy birthdayhappy birthdayhappy birthdayhappy birthdayhappy birthdayhappy birthdayhappy birthdayhappy birthdayhappy birthdayhappy birthdayhappy birthdayhappy birthdayhappy birthdayhappy birthdayhappy birthdayhappy birthdayhappy birthdayhappy birthdayhappy birthdayhappy birthday'"
      ]
     },
     "execution_count": 53,
     "metadata": {},
     "output_type": "execute_result"
    }
   ],
   "source": [
    "s1 *= 5\n",
    "s1"
   ]
  },
  {
   "cell_type": "code",
   "execution_count": 57,
   "id": "3216cda0-5fcb-44d7-9382-20bc8e2b2ad2",
   "metadata": {},
   "outputs": [
    {
     "data": {
      "text/plain": [
       "'>>>>>'"
      ]
     },
     "execution_count": 57,
     "metadata": {},
     "output_type": "execute_result"
    }
   ],
   "source": [
    "symbol"
   ]
  },
  {
   "cell_type": "code",
   "execution_count": 58,
   "id": "678a87c8-993b-406a-b3ac-bebe8ad36940",
   "metadata": {},
   "outputs": [
    {
     "data": {
      "text/plain": [
       "'This is a test string.'"
      ]
     },
     "execution_count": 58,
     "metadata": {},
     "output_type": "execute_result"
    }
   ],
   "source": [
    "# Stripping whitespace from strings.\n",
    "\n",
    "# 1. Removing leading and trailing whitespace\n",
    "\n",
    "# Let's use a string method strip to remove leading and trailing whitespaces from string.\n",
    "sentence = '\\t \\n This is a test string. \\t\\t \\n'\n",
    "sentence.strip()"
   ]
  },
  {
   "cell_type": "code",
   "execution_count": 60,
   "id": "fa386935-576b-434e-991f-e49f54b70613",
   "metadata": {},
   "outputs": [
    {
     "data": {
      "text/plain": [
       "'This is a test string. \\t\\t \\n'"
      ]
     },
     "execution_count": 60,
     "metadata": {},
     "output_type": "execute_result"
    }
   ],
   "source": [
    "# Removing only leading whitespace\n",
    "sentence.lstrip()"
   ]
  },
  {
   "cell_type": "code",
   "execution_count": 61,
   "id": "696aefe5-6378-43c8-ba70-3244498caedf",
   "metadata": {},
   "outputs": [
    {
     "data": {
      "text/plain": [
       "'\\t \\n This is a test string.'"
      ]
     },
     "execution_count": 61,
     "metadata": {},
     "output_type": "execute_result"
    }
   ],
   "source": [
    "# Removing only trailing whitespace\n",
    "sentence.rstrip()\n",
    "\n",
    "# note- As the output Demonstrate these methods remove all kind of (white space, including spaces, new lines and tabs)."
   ]
  },
  {
   "cell_type": "code",
   "execution_count": 64,
   "id": "23be200a-4ded-42ac-b273-8a8c8f395f38",
   "metadata": {},
   "outputs": [
    {
     "data": {
      "text/plain": [
       "'Happy birthday'"
      ]
     },
     "execution_count": 64,
     "metadata": {},
     "output_type": "execute_result"
    }
   ],
   "source": [
    "# Changing Character Case\n",
    "# use method capitalize and title\n",
    "\n",
    "# Capitalizing only a string's first character.\n",
    "'happy birthday'.capitalize()\n",
    "\n",
    "# note\n",
    "# Capitalize copies the original string and return a new string with only the first letter capitalized. \n",
    "# This is sometimes called sentence capitalization."
   ]
  },
  {
   "cell_type": "code",
   "execution_count": 65,
   "id": "dc39f79f-ad2e-4241-abad-5e106c77ba16",
   "metadata": {},
   "outputs": [
    {
     "data": {
      "text/plain": [
       "'Strings: A Deeper Look'"
      ]
     },
     "execution_count": 65,
     "metadata": {},
     "output_type": "execute_result"
    }
   ],
   "source": [
    "# Capitalizing the first character of every word in a string.\n",
    "# method - title --> Sometimes called book-title capitalization.\n",
    "'strings: a deeper look'.title()"
   ]
  },
  {
   "cell_type": "code",
   "execution_count": 66,
   "id": "4ebca3d7-bf91-4ac3-9e07-8aff76cfd0c8",
   "metadata": {},
   "outputs": [
    {
     "data": {
      "text/plain": [
       "'Hello Goutam'"
      ]
     },
     "execution_count": 66,
     "metadata": {},
     "output_type": "execute_result"
    }
   ],
   "source": [
    "'hello goutam'.title()"
   ]
  },
  {
   "cell_type": "code",
   "execution_count": 69,
   "id": "6230f642-1e7a-477a-8fe7-833e4783529c",
   "metadata": {},
   "outputs": [
    {
     "data": {
      "text/plain": [
       "97"
      ]
     },
     "execution_count": 69,
     "metadata": {},
     "output_type": "execute_result"
    }
   ],
   "source": [
    "# Comparison operators for strings.\n",
    "# You can check the character code by Ord\n",
    "ord('a')"
   ]
  },
  {
   "cell_type": "code",
   "execution_count": 71,
   "id": "a3de68f5-8857-4d23-bcab-628262a4eb49",
   "metadata": {},
   "outputs": [
    {
     "name": "stdout",
     "output_type": "stream",
     "text": [
      "A: 65; a: 97\n"
     ]
    }
   ],
   "source": [
    "print(f'A: {ord(\"A\")}; a: {ord(\"a\")}')"
   ]
  },
  {
   "cell_type": "code",
   "execution_count": 72,
   "id": "9e20123b-f03e-45ed-81c6-c3e8e24134d4",
   "metadata": {},
   "outputs": [
    {
     "data": {
      "text/plain": [
       "False"
      ]
     },
     "execution_count": 72,
     "metadata": {},
     "output_type": "execute_result"
    }
   ],
   "source": [
    "# Let's compare String - \"Orange\" and \"orange\"\n",
    "'Orange' == 'orange'"
   ]
  },
  {
   "cell_type": "code",
   "execution_count": 73,
   "id": "b82bfc9b-1f12-4124-9a1d-b04ecb404f93",
   "metadata": {},
   "outputs": [
    {
     "data": {
      "text/plain": [
       "True"
      ]
     },
     "execution_count": 73,
     "metadata": {},
     "output_type": "execute_result"
    }
   ],
   "source": [
    "'Orange' != 'orange'"
   ]
  },
  {
   "cell_type": "code",
   "execution_count": 74,
   "id": "57039ac5-7423-4f9c-b152-d6e099418375",
   "metadata": {},
   "outputs": [
    {
     "data": {
      "text/plain": [
       "True"
      ]
     },
     "execution_count": 74,
     "metadata": {},
     "output_type": "execute_result"
    }
   ],
   "source": [
    "'Orange' <= 'orange'"
   ]
  },
  {
   "cell_type": "code",
   "execution_count": 75,
   "id": "6b2ab22a-96b3-409f-951d-981b4a207d6c",
   "metadata": {},
   "outputs": [
    {
     "data": {
      "text/plain": [
       "False"
      ]
     },
     "execution_count": 75,
     "metadata": {},
     "output_type": "execute_result"
    }
   ],
   "source": [
    "'Orange' > 'orange'"
   ]
  },
  {
   "cell_type": "code",
   "execution_count": 76,
   "id": "72675b09-943b-4607-a9f4-33880a3e3218",
   "metadata": {},
   "outputs": [
    {
     "data": {
      "text/plain": [
       "False"
      ]
     },
     "execution_count": 76,
     "metadata": {},
     "output_type": "execute_result"
    }
   ],
   "source": [
    "'Orange' >= 'orange'"
   ]
  },
  {
   "cell_type": "code",
   "execution_count": 77,
   "id": "2567dc5c-8078-4036-b164-827ffc41ef4e",
   "metadata": {},
   "outputs": [
    {
     "data": {
      "text/plain": [
       "2"
      ]
     },
     "execution_count": 77,
     "metadata": {},
     "output_type": "execute_result"
    }
   ],
   "source": [
    "# Searching For Substrings\n",
    "# You can search in a string for one or more adjacnet character knows as substring.\n",
    "# compare syntax characters You can search in a string for one or more adjacent character known as sub string to count the number of occurrence determined whether a string contains a substring or determine the index at which sub string resides in a string. \n",
    "# Each method show in this section compare characters Lexicographically using their underlying numeric value.\n",
    "\n",
    "# Counting Occurances\n",
    "sentence = 'to be or not to be that is the question'\n",
    "sentence.count('to')"
   ]
  },
  {
   "cell_type": "code",
   "execution_count": 78,
   "id": "8427cdcb-6b78-4ad5-b76b-d56814221ac7",
   "metadata": {},
   "outputs": [
    {
     "data": {
      "text/plain": [
       "1"
      ]
     },
     "execution_count": 78,
     "metadata": {},
     "output_type": "execute_result"
    }
   ],
   "source": [
    "# Starting index through end of the string.\n",
    "sentence.count('to', 12)"
   ]
  },
  {
   "cell_type": "code",
   "execution_count": 79,
   "id": "6c414695-7699-4075-90ac-0718bd2878eb",
   "metadata": {},
   "outputs": [
    {
     "data": {
      "text/plain": [
       "1"
      ]
     },
     "execution_count": 79,
     "metadata": {},
     "output_type": "execute_result"
    }
   ],
   "source": [
    "# Starting index and ending index\n",
    "sentence.count('that', 12, 25)"
   ]
  },
  {
   "cell_type": "code",
   "execution_count": 80,
   "id": "21657a9e-d966-4442-9191-e6e037b3a4ad",
   "metadata": {},
   "outputs": [
    {
     "data": {
      "text/plain": [
       "3"
      ]
     },
     "execution_count": 80,
     "metadata": {},
     "output_type": "execute_result"
    }
   ],
   "source": [
    "# Locating  a sub-string in a string.\n",
    "sentence.index('be')\n",
    "\n",
    "# A value error will occur if substring not found."
   ]
  },
  {
   "cell_type": "code",
   "execution_count": 81,
   "id": "5d83ae20-dced-46dd-851a-e3ed835e8aeb",
   "metadata": {},
   "outputs": [
    {
     "data": {
      "text/plain": [
       "16"
      ]
     },
     "execution_count": 81,
     "metadata": {},
     "output_type": "execute_result"
    }
   ],
   "source": [
    "# rindex -- > Performs the same operation as index, but searches from the end of the string and return the last index.\n",
    "# if sub string is found. Otherwise, value error occur.\n",
    "sentence.rindex('be')"
   ]
  },
  {
   "cell_type": "code",
   "execution_count": 82,
   "id": "d78e9620-5e1d-4f44-a534-710064d4c1ab",
   "metadata": {},
   "outputs": [
    {
     "data": {
      "text/plain": [
       "0"
      ]
     },
     "execution_count": 82,
     "metadata": {},
     "output_type": "execute_result"
    }
   ],
   "source": [
    "# String method - .find() and .rfind() --> \n",
    "# Perform the same task as index and R Index. But if the sub string is not formed, it return -1, rather than causing a value error.\n",
    "sentence.find('to')"
   ]
  },
  {
   "cell_type": "code",
   "execution_count": 83,
   "id": "764ea280-284b-40e5-be57-fa30e3099b49",
   "metadata": {},
   "outputs": [
    {
     "data": {
      "text/plain": [
       "3"
      ]
     },
     "execution_count": 83,
     "metadata": {},
     "output_type": "execute_result"
    }
   ],
   "source": [
    "sentence.find('be')"
   ]
  },
  {
   "cell_type": "code",
   "execution_count": 84,
   "id": "8c629e39-6190-4b73-9352-3a809aa7257e",
   "metadata": {},
   "outputs": [
    {
     "data": {
      "text/plain": [
       "16"
      ]
     },
     "execution_count": 84,
     "metadata": {},
     "output_type": "execute_result"
    }
   ],
   "source": [
    "sentence.rfind('be')"
   ]
  },
  {
   "cell_type": "code",
   "execution_count": 85,
   "id": "ca1efb24-79fc-44af-9854-48944ea9a936",
   "metadata": {},
   "outputs": [
    {
     "data": {
      "text/plain": [
       "True"
      ]
     },
     "execution_count": 85,
     "metadata": {},
     "output_type": "execute_result"
    }
   ],
   "source": [
    "# Determine whether a string contains a substring. -- using --> in and not in\n",
    "'that' in sentence"
   ]
  },
  {
   "cell_type": "code",
   "execution_count": 86,
   "id": "687f4d8c-10d2-4104-9dfa-7a45f36fcef7",
   "metadata": {},
   "outputs": [
    {
     "data": {
      "text/plain": [
       "False"
      ]
     },
     "execution_count": 86,
     "metadata": {},
     "output_type": "execute_result"
    }
   ],
   "source": [
    "'THAT' in sentence"
   ]
  },
  {
   "cell_type": "code",
   "execution_count": 87,
   "id": "b9630b6a-c0a9-42ce-b841-701caaa163c8",
   "metadata": {},
   "outputs": [
    {
     "data": {
      "text/plain": [
       "True"
      ]
     },
     "execution_count": 87,
     "metadata": {},
     "output_type": "execute_result"
    }
   ],
   "source": [
    "'THAT' not in sentence"
   ]
  },
  {
   "cell_type": "code",
   "execution_count": 89,
   "id": "2a3ffacf-eb5c-49dd-a204-d713a14562d0",
   "metadata": {},
   "outputs": [
    {
     "data": {
      "text/plain": [
       "True"
      ]
     },
     "execution_count": 89,
     "metadata": {},
     "output_type": "execute_result"
    }
   ],
   "source": [
    "# Locating a substring at the beginning or ending of a string.--> .startswith() and .endwith() -->returns True--> if String start or end with same substirng\n",
    "sentence.startswith('to')"
   ]
  },
  {
   "cell_type": "code",
   "execution_count": 90,
   "id": "091ed4e3-84f0-403b-8758-e92249fc5100",
   "metadata": {},
   "outputs": [
    {
     "data": {
      "text/plain": [
       "False"
      ]
     },
     "execution_count": 90,
     "metadata": {},
     "output_type": "execute_result"
    }
   ],
   "source": [
    "sentence.endswith('be')"
   ]
  },
  {
   "cell_type": "code",
   "execution_count": 91,
   "id": "f103d62f-0c4b-42db-889c-b7389d7ca151",
   "metadata": {},
   "outputs": [
    {
     "data": {
      "text/plain": [
       "True"
      ]
     },
     "execution_count": 91,
     "metadata": {},
     "output_type": "execute_result"
    }
   ],
   "source": [
    "sentence.endswith('question')"
   ]
  },
  {
   "cell_type": "code",
   "execution_count": 92,
   "id": "0049de39-048c-4e6b-988a-48a4ff969e16",
   "metadata": {},
   "outputs": [
    {
     "data": {
      "text/plain": [
       "False"
      ]
     },
     "execution_count": 92,
     "metadata": {},
     "output_type": "execute_result"
    }
   ],
   "source": [
    "sentence.endswith('quest')"
   ]
  },
  {
   "cell_type": "code",
   "execution_count": 94,
   "id": "294bea43-75b2-4d1a-8539-acfcec814cf9",
   "metadata": {},
   "outputs": [
    {
     "data": {
      "text/plain": [
       "'1,2,3,4,5'"
      ]
     },
     "execution_count": 94,
     "metadata": {},
     "output_type": "execute_result"
    }
   ],
   "source": [
    "# Replacing Sub-Strings\n",
    "values = '1\\t2\\t3\\t4\\t5'\n",
    "values.replace('\\t', ',')"
   ]
  },
  {
   "cell_type": "code",
   "execution_count": 95,
   "id": "e0ab78d5-345b-4c40-95e5-9ad5409f5998",
   "metadata": {},
   "outputs": [
    {
     "data": {
      "text/plain": [
       "['A', 'B', 'C', 'D']"
      ]
     },
     "execution_count": 95,
     "metadata": {},
     "output_type": "execute_result"
    }
   ],
   "source": [
    "# Splitting and joining strings.\n",
    "letter = 'A, B, C, D'\n",
    "letter.split(', ')"
   ]
  },
  {
   "cell_type": "code",
   "execution_count": 97,
   "id": "ea5f5c1b-554f-4987-8892-1609fda03fd8",
   "metadata": {},
   "outputs": [
    {
     "data": {
      "text/plain": [
       "['A', 'B', 'C, D']"
      ]
     },
     "execution_count": 97,
     "metadata": {},
     "output_type": "execute_result"
    }
   ],
   "source": [
    "letter.split(', ', 2)"
   ]
  },
  {
   "cell_type": "code",
   "execution_count": 98,
   "id": "c51fc5dd-1da3-4354-bb2c-0139adc90df2",
   "metadata": {},
   "outputs": [
    {
     "data": {
      "text/plain": [
       "['A', 'B', 'C', 'D']"
      ]
     },
     "execution_count": 98,
     "metadata": {},
     "output_type": "execute_result"
    }
   ],
   "source": [
    "# rsplit() method --> Perform Simtask as split, but processes the maximum number of splits from the end of the string towards the beginning.\n",
    "letter.split(', ')"
   ]
  },
  {
   "cell_type": "code",
   "execution_count": 99,
   "id": "7bc45f39-d0a1-42c8-9192-73ac60fd1f8c",
   "metadata": {},
   "outputs": [
    {
     "data": {
      "text/plain": [
       "['A', 'B', 'C', 'D']"
      ]
     },
     "execution_count": 99,
     "metadata": {},
     "output_type": "execute_result"
    }
   ],
   "source": [
    "letter.rsplit(', ')"
   ]
  },
  {
   "cell_type": "code",
   "execution_count": 101,
   "id": "1fd784fe-36d9-4a1c-b752-d912ad4e737d",
   "metadata": {},
   "outputs": [
    {
     "data": {
      "text/plain": [
       "'A,B,C,D'"
      ]
     },
     "execution_count": 101,
     "metadata": {},
     "output_type": "execute_result"
    }
   ],
   "source": [
    "# Joining Strings\n",
    "letter_list = ['A' , 'B' , 'C' , 'D']\n",
    "','.join(letter_list)"
   ]
  },
  {
   "cell_type": "code",
   "execution_count": 104,
   "id": "178cdc56-3784-4038-994e-62df709b090c",
   "metadata": {},
   "outputs": [
    {
     "data": {
      "text/plain": [
       "'0,1,2,3,4,5,6,7,8,9'"
      ]
     },
     "execution_count": 104,
     "metadata": {},
     "output_type": "execute_result"
    }
   ],
   "source": [
    "# list comprehension -- creates a list of string\n",
    "','.join([str(i) for i in range(10)])"
   ]
  },
  {
   "cell_type": "code",
   "execution_count": 105,
   "id": "bc23f8d3-0e6d-411d-a7e6-688878a28215",
   "metadata": {},
   "outputs": [
    {
     "data": {
      "text/plain": [
       "('Amanda', ': ', '89, 97, 92')"
      ]
     },
     "execution_count": 105,
     "metadata": {},
     "output_type": "execute_result"
    }
   ],
   "source": [
    "# String method partition and rpartition\n",
    "'Amanda: 89, 97, 92'.partition(': ')"
   ]
  },
  {
   "cell_type": "code",
   "execution_count": 106,
   "id": "224a472d-f024-4775-adea-91119b43c8bf",
   "metadata": {},
   "outputs": [
    {
     "data": {
      "text/plain": [
       "('Amanda', ': ', '89, 97, 92')"
      ]
     },
     "execution_count": 106,
     "metadata": {},
     "output_type": "execute_result"
    }
   ],
   "source": [
    "# use rpartition --> to split\n",
    "'Amanda: 89, 97, 92'.rpartition(': ')"
   ]
  },
  {
   "cell_type": "code",
   "execution_count": 109,
   "id": "7e99d45d-2daa-4e64-957f-4c9a9c6cb1ee",
   "metadata": {},
   "outputs": [
    {
     "data": {
      "text/plain": [
       "'https://www.google.com'"
      ]
     },
     "execution_count": 109,
     "metadata": {},
     "output_type": "execute_result"
    }
   ],
   "source": [
    "url = 'https://www.google.com/search?sca_esv=4f9cd8e0fdf28683&rlz=1C1ONGR_enIN1037IN1037&sxsrf=ADLYWILFvYINjF4xusyrye6PD8YbNR1TkQ:1732094865963&q=url+of+random+images&udm=2&fbs=AEQNm0CFDpRHaDHkXm_YXueHTfHtrgIXUKlluACpCix4T5ZoUSz6e3GWv4zN_09JkP2cR-DwqD-ER1CSuTjXzdXNKT0Wma9mNyum3oWLzhs1xt8u5N_8f3uUgStDs9UpKFAFlFGSOMoqQM9HMiNsP9mioHh2RXyquw6CV17dtB6pod7Wqwuaoj8KLwF-5ybcxBC-9vVePghwqzsfsWfHCa5dRS4yxLs8KA&sa=X&ved=2ahUKEwjCv8-ZzOqJAxUDm68BHV6RDG4QtKgLegQIGRAB&biw=1291&bih=600&dpr=1.49#vhid=p9Y4RLzHUuxwuM&vssid=mosaic'\n",
    "rest_of_url, separator, document = url.rpartition('/')\n",
    "rest_of_url\n"
   ]
  },
  {
   "cell_type": "code",
   "execution_count": 110,
   "id": "f2da6c14-1291-4ea7-a003-aa2e9af5ad6f",
   "metadata": {},
   "outputs": [
    {
     "data": {
      "text/plain": [
       "'this is line 1\\nthis is line2\\nthis is line3'"
      ]
     },
     "execution_count": 110,
     "metadata": {},
     "output_type": "execute_result"
    }
   ],
   "source": [
    "# string method- splitlines.\n",
    "lines = \"\"\"this is line 1\n",
    "this is line2\n",
    "this is line3\"\"\"\n",
    "lines"
   ]
  },
  {
   "cell_type": "code",
   "execution_count": 111,
   "id": "4bcb615a-ebfe-449e-bfc9-266f5b77e3c5",
   "metadata": {},
   "outputs": [
    {
     "data": {
      "text/plain": [
       "['this is line 1', 'this is line2', 'this is line3']"
      ]
     },
     "execution_count": 111,
     "metadata": {},
     "output_type": "execute_result"
    }
   ],
   "source": [
    "lines.splitlines() # Method splitlines returns a list of new string representing the line of text split at each\n",
    "# character in the original string."
   ]
  },
  {
   "cell_type": "code",
   "execution_count": 112,
   "id": "743c14b1-9650-490a-8981-a9d9a0d3297f",
   "metadata": {},
   "outputs": [
    {
     "data": {
      "text/plain": [
       "['this is line 1\\n', 'this is line2\\n', 'this is line3']"
      ]
     },
     "execution_count": 112,
     "metadata": {},
     "output_type": "execute_result"
    }
   ],
   "source": [
    "lines.splitlines(True) # Passing True to splitlines keeps the newlines at the end of each string"
   ]
  },
  {
   "cell_type": "code",
   "execution_count": 113,
   "id": "18311aeb-2ac4-435f-8fd1-0009a1e5b254",
   "metadata": {},
   "outputs": [
    {
     "data": {
      "text/plain": [
       "False"
      ]
     },
     "execution_count": 113,
     "metadata": {},
     "output_type": "execute_result"
    }
   ],
   "source": [
    "# Characters and the character testing methods.\n",
    "'-27'.isdigit()"
   ]
  },
  {
   "cell_type": "code",
   "execution_count": 114,
   "id": "7e18e5bf-cb79-4542-8abf-b40ca469be96",
   "metadata": {},
   "outputs": [
    {
     "data": {
      "text/plain": [
       "True"
      ]
     },
     "execution_count": 114,
     "metadata": {},
     "output_type": "execute_result"
    }
   ],
   "source": [
    "'27'.isdigit()"
   ]
  },
  {
   "cell_type": "code",
   "execution_count": 115,
   "id": "76208da6-eb92-45cf-a5f0-333a1832f5aa",
   "metadata": {},
   "outputs": [
    {
     "data": {
      "text/plain": [
       "True"
      ]
     },
     "execution_count": 115,
     "metadata": {},
     "output_type": "execute_result"
    }
   ],
   "source": [
    "'A997980'.isalnum() # Will return true if string is alpha numeric?"
   ]
  },
  {
   "cell_type": "code",
   "execution_count": 116,
   "id": "69bf2a71-2fd7-4207-ae95-31716196dbe7",
   "metadata": {},
   "outputs": [
    {
     "data": {
      "text/plain": [
       "False"
      ]
     },
     "execution_count": 116,
     "metadata": {},
     "output_type": "execute_result"
    }
   ],
   "source": [
    "'123 Main Street'.isalnum()"
   ]
  },
  {
   "cell_type": "code",
   "execution_count": 117,
   "id": "49353cf2-a422-41cf-9021-2352a832b123",
   "metadata": {},
   "outputs": [
    {
     "data": {
      "text/plain": [
       "True"
      ]
     },
     "execution_count": 117,
     "metadata": {},
     "output_type": "execute_result"
    }
   ],
   "source": [
    "'hdiufhodf'.isalpha()"
   ]
  },
  {
   "cell_type": "code",
   "execution_count": 118,
   "id": "a2de8459-5de3-4c69-af83-5739b5e6b03a",
   "metadata": {},
   "outputs": [
    {
     "data": {
      "text/plain": [
       "True"
      ]
     },
     "execution_count": 118,
     "metadata": {},
     "output_type": "execute_result"
    }
   ],
   "source": [
    "'78'.isdigit()"
   ]
  },
  {
   "cell_type": "code",
   "execution_count": 119,
   "id": "bfdd5c47-a928-4806-82bf-96bfe052d160",
   "metadata": {},
   "outputs": [
    {
     "data": {
      "text/plain": [
       "True"
      ]
     },
     "execution_count": 119,
     "metadata": {},
     "output_type": "execute_result"
    }
   ],
   "source": [
    "'goutam'.isidentifier()"
   ]
  },
  {
   "cell_type": "code",
   "execution_count": 120,
   "id": "86f5291a-2a6d-48cd-bb65-e02caa0e0cd2",
   "metadata": {},
   "outputs": [
    {
     "data": {
      "text/plain": [
       "True"
      ]
     },
     "execution_count": 120,
     "metadata": {},
     "output_type": "execute_result"
    }
   ],
   "source": [
    "'89'.isdigit()"
   ]
  },
  {
   "cell_type": "code",
   "execution_count": 121,
   "id": "8bea8be4-6b66-4656-842f-317237f00e51",
   "metadata": {},
   "outputs": [
    {
     "data": {
      "text/plain": [
       "True"
      ]
     },
     "execution_count": 121,
     "metadata": {},
     "output_type": "execute_result"
    }
   ],
   "source": [
    "'lower'.islower()"
   ]
  },
  {
   "cell_type": "code",
   "execution_count": 122,
   "id": "636691fd-fb8e-4904-994a-5322a47fe2d6",
   "metadata": {},
   "outputs": [
    {
     "data": {
      "text/plain": [
       "False"
      ]
     },
     "execution_count": 122,
     "metadata": {},
     "output_type": "execute_result"
    }
   ],
   "source": [
    "'34-98=23'.isnumeric()"
   ]
  },
  {
   "cell_type": "code",
   "execution_count": 123,
   "id": "07fbdc98-2faf-4740-b211-381257e171f5",
   "metadata": {},
   "outputs": [
    {
     "data": {
      "text/plain": [
       "False"
      ]
     },
     "execution_count": 123,
     "metadata": {},
     "output_type": "execute_result"
    }
   ],
   "source": [
    "'-98'.isnumeric()"
   ]
  },
  {
   "cell_type": "code",
   "execution_count": 124,
   "id": "4d4d4a7d-e021-4c4a-9c11-bb558adc1762",
   "metadata": {},
   "outputs": [
    {
     "data": {
      "text/plain": [
       "True"
      ]
     },
     "execution_count": 124,
     "metadata": {},
     "output_type": "execute_result"
    }
   ],
   "source": [
    "'89'.isnumeric()"
   ]
  },
  {
   "cell_type": "code",
   "execution_count": 132,
   "id": "5c4713a4-207b-4cf6-80aa-0307279ed1f5",
   "metadata": {},
   "outputs": [
    {
     "data": {
      "text/plain": [
       "True"
      ]
     },
     "execution_count": 132,
     "metadata": {},
     "output_type": "execute_result"
    }
   ],
   "source": [
    "'Hello Goutam'.istitle() # Return true If every letter of word is capital."
   ]
  },
  {
   "cell_type": "code",
   "execution_count": null,
   "id": "89058bcd-645a-4034-b72c-a741b511febf",
   "metadata": {},
   "outputs": [],
   "source": []
  }
 ],
 "metadata": {
  "kernelspec": {
   "display_name": "Python 3 (ipykernel)",
   "language": "python",
   "name": "python3"
  },
  "language_info": {
   "codemirror_mode": {
    "name": "ipython",
    "version": 3
   },
   "file_extension": ".py",
   "mimetype": "text/x-python",
   "name": "python",
   "nbconvert_exporter": "python",
   "pygments_lexer": "ipython3",
   "version": "3.12.7"
  }
 },
 "nbformat": 4,
 "nbformat_minor": 5
}
